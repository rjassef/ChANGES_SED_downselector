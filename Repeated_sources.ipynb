{
 "cells": [
  {
   "cell_type": "code",
   "execution_count": 1,
   "id": "b702b6ce-142e-4b7a-b5a7-3bbb3ffd4091",
   "metadata": {
    "tags": []
   },
   "outputs": [],
   "source": [
    "import numpy as np\n",
    "import matplotlib.pyplot as plt\n",
    "from astropy.table import Table"
   ]
  },
  {
   "cell_type": "code",
   "execution_count": 2,
   "id": "ce79d92b-d0ef-4739-921f-debcbe0ca3f8",
   "metadata": {
    "tags": []
   },
   "outputs": [],
   "source": [
    "wide = Table.read(\"Master_AGN_Catalog.downselected.wide.v1.1.fits\")"
   ]
  },
  {
   "cell_type": "code",
   "execution_count": 3,
   "id": "f4bd4d31-3e1b-4ac9-9916-72b4672a6701",
   "metadata": {
    "tags": []
   },
   "outputs": [
    {
     "data": {
      "text/plain": [
       "1149225"
      ]
     },
     "execution_count": 3,
     "metadata": {},
     "output_type": "execute_result"
    }
   ],
   "source": [
    "len(np.unique(wide['id']))"
   ]
  },
  {
   "cell_type": "code",
   "execution_count": 4,
   "id": "60692b39-facb-43dd-b4f4-82b00ea06c61",
   "metadata": {
    "tags": []
   },
   "outputs": [],
   "source": [
    "unique, counts = np.unique(wide['id'], return_counts=True)"
   ]
  },
  {
   "cell_type": "code",
   "execution_count": 5,
   "id": "e2d9467b-e630-4e0c-8ee4-1f1efb657967",
   "metadata": {
    "tags": []
   },
   "outputs": [
    {
     "data": {
      "image/png": "[encoded data removed]",
      "text/plain": [
       "<Figure size 432x288 with 1 Axes>"
      ]
     },
     "metadata": {
      "needs_background": "light"
     },
     "output_type": "display_data"
    }
   ],
   "source": [
    "plt.hist(counts[counts>1])\n",
    "plt.yscale('log')"
   ]
  },
  {
   "cell_type": "code",
   "execution_count": 6,
   "id": "2380a4f0-d5ec-430b-80e6-cc21dfb37ee0",
   "metadata": {
    "tags": []
   },
   "outputs": [],
   "source": [
    "repeated_ids = unique[counts>1]"
   ]
  },
  {
   "cell_type": "code",
   "execution_count": 7,
   "id": "25c3b59e-d43e-4758-b5f9-f0d9c665e514",
   "metadata": {
    "tags": []
   },
   "outputs": [
    {
     "data": {
      "text/html": [
       "<i>Table length=2</i>\n",
       "<table id=\"table47669479367248-343086\" class=\"table-striped table-bordered table-condensed\">\n",
       "<thead><tr><th>idx</th><th>id</th><th>ra</th><th>dec</th><th>mag</th><th>nb</th><th>chi2_agngal</th><th>chi2_gal</th><th>chi2_star</th><th>BIC</th><th>Fp</th><th>zphot_agngal</th><th>zphot_gal</th><th>quick_object_id</th><th>mag_auto_g</th><th>magerr_auto_g</th><th>mag_auto_i</th><th>magerr_auto_i</th><th>mag_auto_r</th><th>magerr_auto_r</th><th>mag_auto_z</th><th>magerr_auto_z</th><th>sourceid_vhs</th><th>ypetromag</th><th>ypetromagerr</th><th>jpetromag</th><th>jpetromagerr</th><th>hpetromag</th><th>hpetromagerr</th><th>kspetromag</th><th>kspetromagerr</th><th>source_id_catwise</th><th>w1mpro</th><th>w1sigmpro</th><th>w2mpro</th><th>w2sigmpro</th><th>source_id</th><th>pm</th><th>pmdec</th><th>pmdec_error</th><th>pmra</th><th>pmra_error</th><th>radial_velocity</th><th>radial_velocity_error</th><th>classprob_dsc_combmod_galaxy</th><th>classprob_dsc_combmod_quasar</th><th>classprob_dsc_combmod_star</th><th>flags_g</th><th>flags_r</th><th>flags_i</th><th>flags_z</th><th>wavg_mag_auto_g</th><th>wavg_magerr_auto_g</th><th>wavg_mag_auto_i</th><th>wavg_magerr_auto_i</th><th>wavg_mag_auto_r</th><th>wavg_magerr_auto_r</th><th>wavg_mag_auto_z</th><th>wavg_magerr_auto_z</th><th>exptime_g</th><th>exptime_r</th><th>exptime_i</th><th>exptime_z</th><th>nepochs_g</th><th>nepochs_r</th><th>nepochs_i</th><th>nepochs_z</th><th>extended_class_g</th><th>extended_class_r</th><th>extended_class_i</th><th>extended_class_z</th><th>a_image_g</th><th>a_image_r</th><th>a_image_i</th><th>a_image_z</th><th>b_image_g</th><th>b_image_r</th><th>b_image_i</th><th>b_image_z</th><th>theta_image_g</th><th>theta_image_r</th><th>theta_image_i</th><th>theta_image_z</th><th>Selection</th></tr></thead>\n",
       "<tr><td>0</td><td>10710500090711</td><td>4.801122422440792</td><td>-10.220019636761208</td><td>19.649665622282235</td><td>9.0</td><td>1.91389</td><td>105.749</td><td>165.5</td><td>108.22955915467244</td><td>0.0024347874586001517</td><td>1.25</td><td>0.45</td><td>10710500090711</td><td>19.887327</td><td>0.009464</td><td>19.53784</td><td>0.012831</td><td>19.6496</td><td>0.011178</td><td>19.53513</td><td>0.017857</td><td>473708815515</td><td>18.83337</td><td>0.098057</td><td>18.589933</td><td>0.14504</td><td>--</td><td>--</td><td>17.48828</td><td>0.252906</td><td>0046m107_b0-005677</td><td>16.211</td><td>0.03</td><td>14.881</td><td>0.027</td><td>2428050466762297472</td><td>0.45289</td><td>0.0136630713096816</td><td>0.34871</td><td>-0.4526839261410881</td><td>0.510987</td><td>--</td><td>--</td><td>0.0</td><td>0.999967</td><td>3.3e-05</td><td>0</td><td>0</td><td>0</td><td>0</td><td>19.852495</td><td>0.005971</td><td>19.510843</td><td>0.01049</td><td>19.704216</td><td>0.00594</td><td>19.549902</td><td>0.010364</td><td>68.0</td><td>59.0</td><td>90.0</td><td>115.0</td><td>3</td><td>4</td><td>2</td><td>4</td><td>0</td><td>0</td><td>0</td><td>0</td><td>2.258374</td><td>2.285441</td><td>2.361797</td><td>2.321222</td><td>2.137146</td><td>2.100649</td><td>2.304044</td><td>2.208953</td><td>89.098976</td><td>0.758114</td><td>-55.806503</td><td>-14.657454</td><td>F</td></tr>\n",
       "<tr><td>1</td><td>10710500090711</td><td>4.801122422440792</td><td>-10.220019636761208</td><td>19.649665622282235</td><td>6.0</td><td>0.101956</td><td>63.9793</td><td>153.8</td><td>67.46086293845612</td><td>1.0</td><td>1.55</td><td>0.3</td><td>10710500090711</td><td>19.887327</td><td>0.009464</td><td>19.53784</td><td>0.012831</td><td>19.6496</td><td>0.011178</td><td>19.53513</td><td>0.017857</td><td>473708815515</td><td>18.83337</td><td>0.098057</td><td>18.589933</td><td>0.14504</td><td>--</td><td>--</td><td>17.48828</td><td>0.252906</td><td>0046m107_b0-005677</td><td>16.211</td><td>0.03</td><td>14.881</td><td>0.027</td><td>2428050466762297472</td><td>0.45289</td><td>0.0136630713096816</td><td>0.34871</td><td>-0.4526839261410881</td><td>0.510987</td><td>--</td><td>--</td><td>0.0</td><td>0.999967</td><td>3.3e-05</td><td>0</td><td>0</td><td>0</td><td>0</td><td>19.852495</td><td>0.005971</td><td>19.510843</td><td>0.01049</td><td>19.704216</td><td>0.00594</td><td>19.549902</td><td>0.010364</td><td>68.0</td><td>59.0</td><td>90.0</td><td>115.0</td><td>3</td><td>4</td><td>2</td><td>4</td><td>0</td><td>0</td><td>0</td><td>0</td><td>2.258374</td><td>2.285441</td><td>2.361797</td><td>2.321222</td><td>2.137146</td><td>2.100649</td><td>2.304044</td><td>2.208953</td><td>89.098976</td><td>0.758114</td><td>-55.806503</td><td>-14.657454</td><td>BIC</td></tr>\n",
       "</table><style>table.dataTable {clear: both; width: auto !important; margin: 0 !important;}\n",
       ".dataTables_info, .dataTables_length, .dataTables_filter, .dataTables_paginate{\n",
       "display: inline-block; margin-right: 1em; }\n",
       ".paginate_button { margin-right: 5px; }\n",
       "</style>\n",
       "<script>\n",
       "\n",
       "var astropy_sort_num = function(a, b) {\n",
       "    var a_num = parseFloat(a);\n",
       "    var b_num = parseFloat(b);\n",
       "\n",
       "    if (isNaN(a_num) && isNaN(b_num))\n",
       "        return ((a < b) ? -1 : ((a > b) ? 1 : 0));\n",
       "    else if (!isNaN(a_num) && !isNaN(b_num))\n",
       "        return ((a_num < b_num) ? -1 : ((a_num > b_num) ? 1 : 0));\n",
       "    else\n",
       "        return isNaN(a_num) ? -1 : 1;\n",
       "}\n",
       "\n",
       "require.config({paths: {\n",
       "    datatables: 'https://cdn.datatables.net/1.10.12/js/jquery.dataTables.min'\n",
       "}});\n",
       "require([\"datatables\"], function(){\n",
       "    console.log(\"$('#table47669479367248-343086').dataTable()\");\n",
       "    \n",
       "jQuery.extend( jQuery.fn.dataTableExt.oSort, {\n",
       "    \"optionalnum-asc\": astropy_sort_num,\n",
       "    \"optionalnum-desc\": function (a,b) { return -astropy_sort_num(a, b); }\n",
       "});\n",
       "\n",
       "    $('#table47669479367248-343086').dataTable({\n",
       "        order: [],\n",
       "        pageLength: 50,\n",
       "        lengthMenu: [[10, 25, 50, 100, 500, 1000, -1], [10, 25, 50, 100, 500, 1000, 'All']],\n",
       "        pagingType: \"full_numbers\",\n",
       "        columnDefs: [{targets: [0, 1, 2, 3, 4, 5, 6, 7, 8, 9, 10, 11, 12, 13, 14, 15, 16, 17, 18, 19, 20, 21, 22, 23, 24, 25, 26, 27, 28, 29, 30, 32, 33, 34, 35, 36, 37, 38, 39, 40, 41, 42, 43, 44, 45, 46, 47, 48, 49, 50, 51, 52, 53, 54, 55, 56, 57, 58, 59, 60, 61, 62, 63, 64, 65, 66, 67, 68, 69, 70, 71, 72, 73, 74, 75, 76, 77, 78, 79, 80, 81, 82], type: \"optionalnum\"}]\n",
       "    });\n",
       "});\n",
       "</script>\n"
      ],
      "text/plain": [
       "<IPython.core.display.HTML object>"
      ]
     },
     "execution_count": 7,
     "metadata": {},
     "output_type": "execute_result"
    }
   ],
   "source": [
    "wide[wide['id']==repeated_ids[2]].show_in_notebook()"
   ]
  },
  {
   "cell_type": "code",
   "execution_count": 8,
   "id": "092ed360-1434-4c28-91f5-23c53d58aa07",
   "metadata": {
    "tags": []
   },
   "outputs": [
    {
     "data": {
      "text/plain": [
       "537"
      ]
     },
     "execution_count": 8,
     "metadata": {},
     "output_type": "execute_result"
    }
   ],
   "source": [
    "len(unique[counts>1])"
   ]
  },
  {
   "cell_type": "code",
   "execution_count": 9,
   "id": "767b0dab-4947-43d8-b82d-7a41b28484bf",
   "metadata": {
    "tags": []
   },
   "outputs": [
    {
     "data": {
      "text/plain": [
       "1074"
      ]
     },
     "execution_count": 9,
     "metadata": {},
     "output_type": "execute_result"
    }
   ],
   "source": [
    "np.sum(counts[counts>1])"
   ]
  },
  {
   "cell_type": "code",
   "execution_count": 10,
   "id": "0a47f25f-7449-43c5-9c93-cf11bceab656",
   "metadata": {
    "tags": []
   },
   "outputs": [
    {
     "data": {
      "text/plain": [
       "1149762"
      ]
     },
     "execution_count": 10,
     "metadata": {},
     "output_type": "execute_result"
    }
   ],
   "source": [
    "len(wide)"
   ]
  },
  {
   "cell_type": "code",
   "execution_count": 11,
   "id": "fb89877a-569d-44a6-8eeb-a797fa54af5f",
   "metadata": {
    "tags": []
   },
   "outputs": [
    {
     "data": {
      "text/plain": [
       "array([1, 1, 1, ..., 1, 1, 1])"
      ]
     },
     "execution_count": 11,
     "metadata": {},
     "output_type": "execute_result"
    }
   ],
   "source": [
    "counts"
   ]
  },
  {
   "cell_type": "code",
   "execution_count": 12,
   "id": "0fc18ca3-c835-4d68-aef7-d54c6c4f1565",
   "metadata": {
    "tags": []
   },
   "outputs": [],
   "source": [
    "Fcat = Table.read(\"../Victoria_v1.1_SED_catalogs/Master_Catalog_F_test_AGN_full_photometry.fits\")\n",
    "BIC_cat = Table.read(\"../Victoria_v1.1_SED_catalogs/Master_Catalog_BIC_AGN_nb_le_6_full_photometry.fits\")"
   ]
  },
  {
   "cell_type": "code",
   "execution_count": 13,
   "id": "669dde6a-8415-48c6-89b4-8f8e17f86546",
   "metadata": {
    "tags": []
   },
   "outputs": [
    {
     "name": "stdout",
     "output_type": "stream",
     "text": [
      "2294533 2209304 85229\n"
     ]
    }
   ],
   "source": [
    "print(len(Fcat), len(np.unique(Fcat['id'])), len(Fcat)-len(np.unique(Fcat['id'])))"
   ]
  },
  {
   "cell_type": "code",
   "execution_count": 14,
   "id": "307f18fd-b990-45e4-8187-b6b34afc23e0",
   "metadata": {
    "tags": []
   },
   "outputs": [
    {
     "name": "stdout",
     "output_type": "stream",
     "text": [
      "17978823 17636245 342578\n"
     ]
    }
   ],
   "source": [
    "print(len(BIC_cat), len(np.unique(BIC_cat['id'])), len(BIC_cat)-len(np.unique(BIC_cat['id'])))"
   ]
  },
  {
   "cell_type": "code",
   "execution_count": 15,
   "id": "74b9804d-e75a-4db9-8d59-89bb10ee7738",
   "metadata": {
    "tags": []
   },
   "outputs": [
    {
     "name": "stdout",
     "output_type": "stream",
     "text": [
      "[1 2 3 4 1 6]\n",
      "[1 2 3 4 6]\n"
     ]
    }
   ],
   "source": [
    "x = np.array([1, 2, 3, 4, 1, 6])\n",
    "_, k = np.unique(x, return_index=True)\n",
    "print(x)\n",
    "print(x[k])"
   ]
  },
  {
   "cell_type": "code",
   "execution_count": 16,
   "id": "7265d25a-1dc1-4215-a14c-ce83385ecf9d",
   "metadata": {
    "tags": []
   },
   "outputs": [],
   "source": [
    "_, k_w = np.unique(wide['id'], return_index=True)"
   ]
  },
  {
   "cell_type": "code",
   "execution_count": 17,
   "id": "4ac55241-ac3e-4b15-a67b-7cc51c33eafe",
   "metadata": {
    "tags": []
   },
   "outputs": [
    {
     "name": "stdout",
     "output_type": "stream",
     "text": [
      "1149225 1149225 1149762\n"
     ]
    }
   ],
   "source": [
    "print(len(wide['id'][k_w]), len(np.unique(wide['id'])), len(wide))"
   ]
  },
  {
   "cell_type": "code",
   "execution_count": 18,
   "id": "ca8c7a7a-ff6a-488c-9f39-d4045a89c533",
   "metadata": {
    "tags": []
   },
   "outputs": [
    {
     "data": {
      "text/plain": [
       "array([False, False, False,  True, False,  True])"
      ]
     },
     "execution_count": 18,
     "metadata": {},
     "output_type": "execute_result"
    }
   ],
   "source": [
    "y = [4, 5, 6, 7, 8, 9, 10, 11, 12, 13, 14]\n",
    "np.isin(x,y)"
   ]
  },
  {
   "cell_type": "code",
   "execution_count": 19,
   "id": "ee173dac-5543-4b3a-b1f3-1147dc2df2f3",
   "metadata": {
    "tags": []
   },
   "outputs": [
    {
     "name": "stdout",
     "output_type": "stream",
     "text": [
      "[4 6]\n",
      "[1 2 3 1]\n"
     ]
    }
   ],
   "source": [
    "print(x[np.isin(x,y)])\n",
    "print(x[~np.isin(x,y)])"
   ]
  },
  {
   "cell_type": "code",
   "execution_count": 20,
   "id": "cba0fa8d-3909-417c-a56b-3999a5bdc7d3",
   "metadata": {
    "tags": []
   },
   "outputs": [],
   "source": [
    "kk = np.isin(wide['id'], Fcat['id'])"
   ]
  },
  {
   "cell_type": "code",
   "execution_count": 21,
   "id": "6637a72f-0cbe-4461-a611-6a4649d9db44",
   "metadata": {
    "tags": []
   },
   "outputs": [
    {
     "data": {
      "text/plain": [
       "868029"
      ]
     },
     "execution_count": 21,
     "metadata": {},
     "output_type": "execute_result"
    }
   ],
   "source": [
    "np.sum(kk)"
   ]
  },
  {
   "cell_type": "code",
   "execution_count": 22,
   "id": "560f04a9-5a3e-409b-8e27-d958ad5b36b6",
   "metadata": {
    "tags": []
   },
   "outputs": [
    {
     "data": {
      "text/plain": [
       "867492"
      ]
     },
     "execution_count": 22,
     "metadata": {},
     "output_type": "execute_result"
    }
   ],
   "source": [
    "len(wide[wide['Selection']=='F'])"
   ]
  },
  {
   "cell_type": "code",
   "execution_count": 23,
   "id": "522d03d7-df1f-4eef-a41e-66bb0e070f2c",
   "metadata": {
    "tags": []
   },
   "outputs": [
    {
     "data": {
      "text/plain": [
       "0.09999999999999998"
      ]
     },
     "execution_count": 23,
     "metadata": {},
     "output_type": "execute_result"
    }
   ],
   "source": [
    "np.max(Fcat['Fp'][Fcat['Fp']<1.0])"
   ]
  },
  {
   "cell_type": "code",
   "execution_count": 24,
   "id": "4ad1e902-9549-4368-b5ed-86092d746ea1",
   "metadata": {
    "tags": []
   },
   "outputs": [
    {
     "name": "stdout",
     "output_type": "stream",
     "text": [
      "[[96772]]\n"
     ]
    }
   ],
   "source": [
    "i = np.argwhere(Fcat['id']==11227800019447)\n",
    "print(i)"
   ]
  },
  {
   "cell_type": "code",
   "execution_count": 25,
   "id": "06301612-4df1-4e65-8605-0a97838af985",
   "metadata": {
    "tags": []
   },
   "outputs": [
    {
     "name": "stdout",
     "output_type": "stream",
     "text": [
      "[[547006]]\n"
     ]
    }
   ],
   "source": [
    "j = np.argwhere(BIC_cat['id']==11227800019447)\n",
    "print(j)"
   ]
  },
  {
   "cell_type": "code",
   "execution_count": 26,
   "id": "323dcc8f-f516-47ae-9a40-b8f499f75bda",
   "metadata": {
    "tags": []
   },
   "outputs": [
    {
     "data": {
      "text/html": [
       "<div><i>Table length=2</i>\n",
       "<table id=\"table47668813842576\" class=\"table-striped table-bordered table-condensed\">\n",
       "<thead><tr><th>id [1]</th><th>ra [1]</th><th>dec [1]</th><th>mag [1]</th><th>nb [1]</th><th>chi2_agngal [1]</th><th>chi2_gal [1]</th><th>chi2_star [1]</th><th>BIC [1]</th><th>Fp [1]</th><th>zphot_agngal [1]</th><th>zphot_gal [1]</th><th>quick_object_id [1]</th><th>mag_auto_g [1]</th><th>magerr_auto_g [1]</th><th>mag_auto_i [1]</th><th>magerr_auto_i [1]</th><th>mag_auto_r [1]</th><th>magerr_auto_r [1]</th><th>mag_auto_z [1]</th><th>magerr_auto_z [1]</th><th>sourceid_vhs [1]</th><th>ypetromag [1]</th><th>ypetromagerr [1]</th><th>jpetromag [1]</th><th>jpetromagerr [1]</th><th>hpetromag [1]</th><th>hpetromagerr [1]</th><th>kspetromag [1]</th><th>kspetromagerr [1]</th><th>source_id_catwise [1]</th><th>w1mpro [1]</th><th>w1sigmpro [1]</th><th>w2mpro [1]</th><th>w2sigmpro [1]</th><th>source_id [1]</th><th>pm [1]</th><th>pmdec [1]</th><th>pmdec_error [1]</th><th>pmra [1]</th><th>pmra_error [1]</th><th>radial_velocity [1]</th><th>radial_velocity_error [1]</th><th>classprob_dsc_combmod_galaxy [1]</th><th>classprob_dsc_combmod_quasar [1]</th><th>classprob_dsc_combmod_star [1]</th><th>flags_g [1]</th><th>flags_r [1]</th><th>flags_i [1]</th><th>flags_z [1]</th><th>wavg_mag_auto_g [1]</th><th>wavg_magerr_auto_g [1]</th><th>wavg_mag_auto_i [1]</th><th>wavg_magerr_auto_i [1]</th><th>wavg_mag_auto_r [1]</th><th>wavg_magerr_auto_r [1]</th><th>wavg_mag_auto_z [1]</th><th>wavg_magerr_auto_z [1]</th><th>exptime_g [1]</th><th>exptime_r [1]</th><th>exptime_i [1]</th><th>exptime_z [1]</th><th>nepochs_g [1]</th><th>nepochs_r [1]</th><th>nepochs_i [1]</th><th>nepochs_z [1]</th><th>extended_class_g [1]</th><th>extended_class_r [1]</th><th>extended_class_i [1]</th><th>extended_class_z [1]</th><th>a_image_g [1]</th><th>a_image_r [1]</th><th>a_image_i [1]</th><th>a_image_z [1]</th><th>b_image_g [1]</th><th>b_image_r [1]</th><th>b_image_i [1]</th><th>b_image_z [1]</th><th>theta_image_g [1]</th><th>theta_image_r [1]</th><th>theta_image_i [1]</th><th>theta_image_z [1]</th><th>Selection [1]</th></tr></thead>\n",
       "<thead><tr><th>int64</th><th>float64</th><th>float64</th><th>float64</th><th>float64</th><th>float64</th><th>float64</th><th>float64</th><th>float64</th><th>float64</th><th>float64</th><th>float64</th><th>int64</th><th>float64</th><th>float64</th><th>float64</th><th>float64</th><th>float64</th><th>float64</th><th>float64</th><th>float64</th><th>int64</th><th>float64</th><th>float64</th><th>float64</th><th>float64</th><th>float64</th><th>float64</th><th>float64</th><th>float64</th><th>bytes18</th><th>float32</th><th>float32</th><th>float32</th><th>float32</th><th>int64</th><th>float64</th><th>float64</th><th>float64</th><th>float64</th><th>float64</th><th>float64</th><th>float64</th><th>float64</th><th>float64</th><th>float64</th><th>int16</th><th>int16</th><th>int16</th><th>int16</th><th>float64</th><th>float64</th><th>float64</th><th>float64</th><th>float64</th><th>float64</th><th>float64</th><th>float64</th><th>float32</th><th>float32</th><th>float32</th><th>float32</th><th>int16</th><th>int16</th><th>int16</th><th>int16</th><th>int16</th><th>int16</th><th>int16</th><th>int16</th><th>float64</th><th>float64</th><th>float64</th><th>float64</th><th>float64</th><th>float64</th><th>float64</th><th>float64</th><th>float64</th><th>float64</th><th>float64</th><th>float64</th><th>bytes3</th></tr></thead>\n",
       "<tr><td>11227800019447</td><td>127.25860781580793</td><td>-86.86278198637089</td><td>18.878121622282237</td><td>8.0</td><td>5.15443</td><td>146.263</td><td>167.7</td><td>145.2674530833597</td><td>0.035240833293450846</td><td>1.85</td><td>0.05</td><td>11227800019447</td><td>18.994827</td><td>0.00308</td><td>18.665041</td><td>0.003582</td><td>18.878056</td><td>0.003885</td><td>99.0</td><td>99.0</td><td>472915448907</td><td>18.302986</td><td>0.119746</td><td>18.018005</td><td>0.153458</td><td>--</td><td>--</td><td>17.21993</td><td>0.25502</td><td>1199m864_b0-010222</td><td>15.466</td><td>0.019</td><td>14.372</td><td>0.014</td><td>5189527791695373440</td><td>0.092543</td><td>-0.0400066129121316</td><td>0.209854</td><td>0.083448334264281</td><td>0.222695</td><td>--</td><td>--</td><td>0.0</td><td>0.999777</td><td>0.000223</td><td>0</td><td>0</td><td>0</td><td>99</td><td>19.091763</td><td>0.00429</td><td>18.66133</td><td>0.001994</td><td>19.076056</td><td>0.003447</td><td>99.0</td><td>99.0</td><td>267.0</td><td>267.0</td><td>333.0</td><td>-1.0</td><td>4</td><td>6</td><td>4</td><td>0</td><td>0</td><td>0</td><td>0</td><td>-9</td><td>2.721455</td><td>2.188689</td><td>2.505049</td><td>-1.0</td><td>2.263854</td><td>2.101247</td><td>2.296181</td><td>-1.0</td><td>29.0009</td><td>23.58089</td><td>8.274858</td><td>-1.0</td><td>F</td></tr>\n",
       "<tr><td>11227800019447</td><td>127.25860781580793</td><td>-86.86278198637089</td><td>18.878121622282237</td><td>6.0</td><td>12.8081</td><td>46.5364</td><td>114.8</td><td>37.31181893845611</td><td>1.0</td><td>2.25</td><td>0.25</td><td>11227800019447</td><td>18.994827</td><td>0.00308</td><td>18.665041</td><td>0.003582</td><td>18.878056</td><td>0.003885</td><td>99.0</td><td>99.0</td><td>472915448907</td><td>18.302986</td><td>0.119746</td><td>18.018005</td><td>0.153458</td><td>--</td><td>--</td><td>17.21993</td><td>0.25502</td><td>1199m864_b0-010222</td><td>15.466</td><td>0.019</td><td>14.372</td><td>0.014</td><td>5189527791695373440</td><td>0.092543</td><td>-0.0400066129121316</td><td>0.209854</td><td>0.083448334264281</td><td>0.222695</td><td>--</td><td>--</td><td>0.0</td><td>0.999777</td><td>0.000223</td><td>0</td><td>0</td><td>0</td><td>99</td><td>19.091763</td><td>0.00429</td><td>18.66133</td><td>0.001994</td><td>19.076056</td><td>0.003447</td><td>99.0</td><td>99.0</td><td>267.0</td><td>267.0</td><td>333.0</td><td>-1.0</td><td>4</td><td>6</td><td>4</td><td>0</td><td>0</td><td>0</td><td>0</td><td>-9</td><td>2.721455</td><td>2.188689</td><td>2.505049</td><td>-1.0</td><td>2.263854</td><td>2.101247</td><td>2.296181</td><td>-1.0</td><td>29.0009</td><td>23.58089</td><td>8.274858</td><td>-1.0</td><td>BIC</td></tr>\n",
       "</table></div>"
      ],
      "text/plain": [
       "<Table length=2>\n",
       "    id [1]           ra [1]       ... theta_image_z [1] Selection [1]\n",
       "    int64           float64       ...      float64          bytes3   \n",
       "-------------- ------------------ ... ----------------- -------------\n",
       "11227800019447 127.25860781580793 ...              -1.0             F\n",
       "11227800019447 127.25860781580793 ...              -1.0           BIC"
      ]
     },
     "execution_count": 26,
     "metadata": {},
     "output_type": "execute_result"
    }
   ],
   "source": [
    "l = np.argwhere(wide['id']==11227800019447)\n",
    "wide[l]"
   ]
  },
  {
   "cell_type": "code",
   "execution_count": 27,
   "id": "3fda4c48-3c30-48cc-a5c5-356e063fc909",
   "metadata": {
    "tags": []
   },
   "outputs": [
    {
     "data": {
      "text/html": [
       "<i>Row index=96772</i>\n",
       "<table id=\"table47669479831056\">\n",
       "<thead><tr><th>id</th><th>ra</th><th>dec</th><th>mag</th><th>nb</th><th>chi2_agngal</th><th>chi2_gal</th><th>chi2_star</th><th>BIC</th><th>Fp</th><th>zphot_agngal</th><th>zphot_gal</th><th>quick_object_id</th><th>mag_auto_g</th><th>magerr_auto_g</th><th>mag_auto_i</th><th>magerr_auto_i</th><th>mag_auto_r</th><th>magerr_auto_r</th><th>mag_auto_z</th><th>magerr_auto_z</th><th>sourceid_vhs</th><th>ypetromag</th><th>ypetromagerr</th><th>jpetromag</th><th>jpetromagerr</th><th>hpetromag</th><th>hpetromagerr</th><th>kspetromag</th><th>kspetromagerr</th><th>source_id_catwise</th><th>w1mpro</th><th>w1sigmpro</th><th>w2mpro</th><th>w2sigmpro</th><th>source_id</th><th>pm</th><th>pmdec</th><th>pmdec_error</th><th>pmra</th><th>pmra_error</th><th>radial_velocity</th><th>radial_velocity_error</th><th>classprob_dsc_combmod_galaxy</th><th>classprob_dsc_combmod_quasar</th><th>classprob_dsc_combmod_star</th><th>flags_g</th><th>flags_r</th><th>flags_i</th><th>flags_z</th><th>wavg_mag_auto_g</th><th>wavg_magerr_auto_g</th><th>wavg_mag_auto_i</th><th>wavg_magerr_auto_i</th><th>wavg_mag_auto_r</th><th>wavg_magerr_auto_r</th><th>wavg_mag_auto_z</th><th>wavg_magerr_auto_z</th><th>exptime_g</th><th>exptime_r</th><th>exptime_i</th><th>exptime_z</th><th>nepochs_g</th><th>nepochs_r</th><th>nepochs_i</th><th>nepochs_z</th><th>extended_class_g</th><th>extended_class_r</th><th>extended_class_i</th><th>extended_class_z</th><th>a_image_g</th><th>a_image_r</th><th>a_image_i</th><th>a_image_z</th><th>b_image_g</th><th>b_image_r</th><th>b_image_i</th><th>b_image_z</th><th>theta_image_g</th><th>theta_image_r</th><th>theta_image_i</th><th>theta_image_z</th></tr></thead>\n",
       "<thead><tr><th>int64</th><th>float64</th><th>float64</th><th>float64</th><th>float64</th><th>float64</th><th>float64</th><th>float64</th><th>float64</th><th>float64</th><th>float64</th><th>float64</th><th>int64</th><th>float64</th><th>float64</th><th>float64</th><th>float64</th><th>float64</th><th>float64</th><th>float64</th><th>float64</th><th>int64</th><th>float64</th><th>float64</th><th>float64</th><th>float64</th><th>float64</th><th>float64</th><th>float64</th><th>float64</th><th>bytes18</th><th>float32</th><th>float32</th><th>float32</th><th>float32</th><th>int64</th><th>float64</th><th>float64</th><th>float64</th><th>float64</th><th>float64</th><th>float64</th><th>float64</th><th>float64</th><th>float64</th><th>float64</th><th>int16</th><th>int16</th><th>int16</th><th>int16</th><th>float64</th><th>float64</th><th>float64</th><th>float64</th><th>float64</th><th>float64</th><th>float64</th><th>float64</th><th>float32</th><th>float32</th><th>float32</th><th>float32</th><th>int16</th><th>int16</th><th>int16</th><th>int16</th><th>int16</th><th>int16</th><th>int16</th><th>int16</th><th>float64</th><th>float64</th><th>float64</th><th>float64</th><th>float64</th><th>float64</th><th>float64</th><th>float64</th><th>float64</th><th>float64</th><th>float64</th><th>float64</th></tr></thead>\n",
       "<tr><td>11227800019447</td><td>127.25860781580793</td><td>-86.86278198637089</td><td>18.878121622282237</td><td>8.0</td><td>5.15443</td><td>146.263</td><td>167.7</td><td>145.2674530833597</td><td>0.035240833293450846</td><td>1.85</td><td>0.05</td><td>11227800019447</td><td>18.994827</td><td>0.00308</td><td>18.665041</td><td>0.003582</td><td>18.878056</td><td>0.003885</td><td>99.0</td><td>99.0</td><td>472915448907</td><td>18.302986</td><td>0.119746</td><td>18.018005</td><td>0.153458</td><td>--</td><td>--</td><td>17.21993</td><td>0.25502</td><td>1199m864_b0-010222</td><td>15.466</td><td>0.019</td><td>14.372</td><td>0.014</td><td>5189527791695373440</td><td>0.092543</td><td>-0.0400066129121316</td><td>0.209854</td><td>0.083448334264281</td><td>0.222695</td><td>--</td><td>--</td><td>0.0</td><td>0.999777</td><td>0.000223</td><td>0</td><td>0</td><td>0</td><td>99</td><td>19.091763</td><td>0.00429</td><td>18.66133</td><td>0.001994</td><td>19.076056</td><td>0.003447</td><td>99.0</td><td>99.0</td><td>267.0</td><td>267.0</td><td>333.0</td><td>-1.0</td><td>4</td><td>6</td><td>4</td><td>0</td><td>0</td><td>0</td><td>0</td><td>-9</td><td>2.721455</td><td>2.188689</td><td>2.505049</td><td>-1.0</td><td>2.263854</td><td>2.101247</td><td>2.296181</td><td>-1.0</td><td>29.0009</td><td>23.58089</td><td>8.274858</td><td>-1.0</td></tr>\n",
       "</table>"
      ],
      "text/plain": [
       "<Row index=96772>\n",
       "      id               ra                dec                mag            nb   chi2_agngal chi2_gal chi2_star        BIC                 Fp          zphot_agngal zphot_gal quick_object_id mag_auto_g magerr_auto_g mag_auto_i magerr_auto_i mag_auto_r magerr_auto_r mag_auto_z magerr_auto_z sourceid_vhs ypetromag ypetromagerr jpetromag jpetromagerr hpetromag hpetromagerr kspetromag kspetromagerr source_id_catwise   w1mpro w1sigmpro  w2mpro w2sigmpro      source_id         pm           pmdec        pmdec_error        pmra       pmra_error radial_velocity radial_velocity_error classprob_dsc_combmod_galaxy classprob_dsc_combmod_quasar classprob_dsc_combmod_star flags_g flags_r flags_i flags_z wavg_mag_auto_g wavg_magerr_auto_g wavg_mag_auto_i wavg_magerr_auto_i wavg_mag_auto_r wavg_magerr_auto_r wavg_mag_auto_z wavg_magerr_auto_z exptime_g exptime_r exptime_i exptime_z nepochs_g nepochs_r nepochs_i nepochs_z extended_class_g extended_class_r extended_class_i extended_class_z a_image_g a_image_r a_image_i a_image_z b_image_g b_image_r b_image_i b_image_z theta_image_g theta_image_r theta_image_i theta_image_z\n",
       "    int64           float64            float64            float64       float64   float64   float64   float64       float64            float64          float64     float64       int64       float64      float64     float64      float64     float64      float64     float64      float64       int64      float64    float64     float64    float64     float64    float64     float64      float64         bytes18       float32  float32  float32  float32         int64        float64        float64         float64        float64       float64       float64            float64                  float64                      float64                     float64            int16   int16   int16   int16      float64          float64           float64          float64           float64          float64           float64          float64        float32   float32   float32   float32    int16     int16     int16     int16        int16            int16            int16            int16        float64   float64   float64   float64   float64   float64   float64   float64     float64       float64       float64       float64   \n",
       "-------------- ------------------ ------------------ ------------------ ------- ----------- -------- --------- ----------------- -------------------- ------------ --------- --------------- ---------- ------------- ---------- ------------- ---------- ------------- ---------- ------------- ------------ --------- ------------ --------- ------------ --------- ------------ ---------- ------------- ------------------ ------- --------- ------- --------- ------------------- -------- ------------------- ----------- ----------------- ---------- --------------- --------------------- ---------------------------- ---------------------------- -------------------------- ------- ------- ------- ------- --------------- ------------------ --------------- ------------------ --------------- ------------------ --------------- ------------------ --------- --------- --------- --------- --------- --------- --------- --------- ---------------- ---------------- ---------------- ---------------- --------- --------- --------- --------- --------- --------- --------- --------- ------------- ------------- ------------- -------------\n",
       "11227800019447 127.25860781580793 -86.86278198637089 18.878121622282237     8.0     5.15443  146.263     167.7 145.2674530833597 0.035240833293450846         1.85      0.05  11227800019447  18.994827       0.00308  18.665041      0.003582  18.878056      0.003885       99.0          99.0 472915448907 18.302986     0.119746 18.018005     0.153458        --           --   17.21993       0.25502 1199m864_b0-010222  15.466     0.019  14.372     0.014 5189527791695373440 0.092543 -0.0400066129121316    0.209854 0.083448334264281   0.222695              --                    --                          0.0                     0.999777                   0.000223       0       0       0      99       19.091763            0.00429        18.66133           0.001994       19.076056           0.003447            99.0               99.0     267.0     267.0     333.0      -1.0         4         6         4         0                0                0                0               -9  2.721455  2.188689  2.505049      -1.0  2.263854  2.101247  2.296181      -1.0       29.0009      23.58089      8.274858          -1.0"
      ]
     },
     "execution_count": 27,
     "metadata": {},
     "output_type": "execute_result"
    }
   ],
   "source": [
    "Fcat[i[0][0]]"
   ]
  },
  {
   "cell_type": "code",
   "execution_count": 28,
   "id": "37c7559c-9353-4e7a-9618-f1c6ca9d2df0",
   "metadata": {
    "tags": []
   },
   "outputs": [
    {
     "data": {
      "text/html": [
       "<i>Row index=547006</i>\n",
       "<table id=\"table47669479205328\">\n",
       "<thead><tr><th>id</th><th>ra</th><th>dec</th><th>mag</th><th>nb</th><th>chi2_agngal</th><th>chi2_gal</th><th>chi2_star</th><th>BIC</th><th>Fp</th><th>zphot_agngal</th><th>zphot_gal</th><th>quick_object_id</th><th>mag_auto_g</th><th>magerr_auto_g</th><th>mag_auto_i</th><th>magerr_auto_i</th><th>mag_auto_r</th><th>magerr_auto_r</th><th>mag_auto_z</th><th>magerr_auto_z</th><th>sourceid_vhs</th><th>ypetromag</th><th>ypetromagerr</th><th>jpetromag</th><th>jpetromagerr</th><th>hpetromag</th><th>hpetromagerr</th><th>kspetromag</th><th>kspetromagerr</th><th>source_id_catwise</th><th>w1mpro</th><th>w1sigmpro</th><th>w2mpro</th><th>w2sigmpro</th><th>source_id</th><th>pm</th><th>pmdec</th><th>pmdec_error</th><th>pmra</th><th>pmra_error</th><th>radial_velocity</th><th>radial_velocity_error</th><th>classprob_dsc_combmod_galaxy</th><th>classprob_dsc_combmod_quasar</th><th>classprob_dsc_combmod_star</th><th>flags_g</th><th>flags_r</th><th>flags_i</th><th>flags_z</th><th>wavg_mag_auto_g</th><th>wavg_magerr_auto_g</th><th>wavg_mag_auto_i</th><th>wavg_magerr_auto_i</th><th>wavg_mag_auto_r</th><th>wavg_magerr_auto_r</th><th>wavg_mag_auto_z</th><th>wavg_magerr_auto_z</th><th>exptime_g</th><th>exptime_r</th><th>exptime_i</th><th>exptime_z</th><th>nepochs_g</th><th>nepochs_r</th><th>nepochs_i</th><th>nepochs_z</th><th>extended_class_g</th><th>extended_class_r</th><th>extended_class_i</th><th>extended_class_z</th><th>a_image_g</th><th>a_image_r</th><th>a_image_i</th><th>a_image_z</th><th>b_image_g</th><th>b_image_r</th><th>b_image_i</th><th>b_image_z</th><th>theta_image_g</th><th>theta_image_r</th><th>theta_image_i</th><th>theta_image_z</th></tr></thead>\n",
       "<thead><tr><th>int64</th><th>float64</th><th>float64</th><th>float64</th><th>float64</th><th>float64</th><th>float64</th><th>float64</th><th>float64</th><th>float64</th><th>float64</th><th>float64</th><th>int64</th><th>float64</th><th>float64</th><th>float64</th><th>float64</th><th>float64</th><th>float64</th><th>float64</th><th>float64</th><th>int64</th><th>float64</th><th>float64</th><th>float64</th><th>float64</th><th>float64</th><th>float64</th><th>float64</th><th>float64</th><th>bytes18</th><th>float32</th><th>float32</th><th>float32</th><th>float32</th><th>int64</th><th>float64</th><th>float64</th><th>float64</th><th>float64</th><th>float64</th><th>float64</th><th>float64</th><th>float64</th><th>float64</th><th>float64</th><th>int16</th><th>int16</th><th>int16</th><th>int16</th><th>float64</th><th>float64</th><th>float64</th><th>float64</th><th>float64</th><th>float64</th><th>float64</th><th>float64</th><th>float32</th><th>float32</th><th>float32</th><th>float32</th><th>int16</th><th>int16</th><th>int16</th><th>int16</th><th>int16</th><th>int16</th><th>int16</th><th>int16</th><th>float64</th><th>float64</th><th>float64</th><th>float64</th><th>float64</th><th>float64</th><th>float64</th><th>float64</th><th>float64</th><th>float64</th><th>float64</th><th>float64</th></tr></thead>\n",
       "<tr><td>11227800019447</td><td>127.25860781580793</td><td>-86.86278198637089</td><td>18.878121622282237</td><td>6.0</td><td>12.8081</td><td>46.5364</td><td>114.8</td><td>37.31181893845611</td><td>1.0</td><td>2.25</td><td>0.25</td><td>11227800019447</td><td>18.994827</td><td>0.00308</td><td>18.665041</td><td>0.003582</td><td>18.878056</td><td>0.003885</td><td>99.0</td><td>99.0</td><td>472915448907</td><td>18.302986</td><td>0.119746</td><td>18.018005</td><td>0.153458</td><td>--</td><td>--</td><td>17.21993</td><td>0.25502</td><td>1199m864_b0-010222</td><td>15.466</td><td>0.019</td><td>14.372</td><td>0.014</td><td>5189527791695373440</td><td>0.092543</td><td>-0.0400066129121316</td><td>0.209854</td><td>0.083448334264281</td><td>0.222695</td><td>--</td><td>--</td><td>0.0</td><td>0.999777</td><td>0.000223</td><td>0</td><td>0</td><td>0</td><td>99</td><td>19.091763</td><td>0.00429</td><td>18.66133</td><td>0.001994</td><td>19.076056</td><td>0.003447</td><td>99.0</td><td>99.0</td><td>267.0</td><td>267.0</td><td>333.0</td><td>-1.0</td><td>4</td><td>6</td><td>4</td><td>0</td><td>0</td><td>0</td><td>0</td><td>-9</td><td>2.721455</td><td>2.188689</td><td>2.505049</td><td>-1.0</td><td>2.263854</td><td>2.101247</td><td>2.296181</td><td>-1.0</td><td>29.0009</td><td>23.58089</td><td>8.274858</td><td>-1.0</td></tr>\n",
       "</table>"
      ],
      "text/plain": [
       "<Row index=547006>\n",
       "      id               ra                dec                mag            nb   chi2_agngal chi2_gal chi2_star        BIC           Fp   zphot_agngal zphot_gal quick_object_id mag_auto_g magerr_auto_g mag_auto_i magerr_auto_i mag_auto_r magerr_auto_r mag_auto_z magerr_auto_z sourceid_vhs ypetromag ypetromagerr jpetromag jpetromagerr hpetromag hpetromagerr kspetromag kspetromagerr source_id_catwise   w1mpro w1sigmpro  w2mpro w2sigmpro      source_id         pm           pmdec        pmdec_error        pmra       pmra_error radial_velocity radial_velocity_error classprob_dsc_combmod_galaxy classprob_dsc_combmod_quasar classprob_dsc_combmod_star flags_g flags_r flags_i flags_z wavg_mag_auto_g wavg_magerr_auto_g wavg_mag_auto_i wavg_magerr_auto_i wavg_mag_auto_r wavg_magerr_auto_r wavg_mag_auto_z wavg_magerr_auto_z exptime_g exptime_r exptime_i exptime_z nepochs_g nepochs_r nepochs_i nepochs_z extended_class_g extended_class_r extended_class_i extended_class_z a_image_g a_image_r a_image_i a_image_z b_image_g b_image_r b_image_i b_image_z theta_image_g theta_image_r theta_image_i theta_image_z\n",
       "    int64           float64            float64            float64       float64   float64   float64   float64       float64      float64   float64     float64       int64       float64      float64     float64      float64     float64      float64     float64      float64       int64      float64    float64     float64    float64     float64    float64     float64      float64         bytes18       float32  float32  float32  float32         int64        float64        float64         float64        float64       float64       float64            float64                  float64                      float64                     float64            int16   int16   int16   int16      float64          float64           float64          float64           float64          float64           float64          float64        float32   float32   float32   float32    int16     int16     int16     int16        int16            int16            int16            int16        float64   float64   float64   float64   float64   float64   float64   float64     float64       float64       float64       float64   \n",
       "-------------- ------------------ ------------------ ------------------ ------- ----------- -------- --------- ----------------- ------- ------------ --------- --------------- ---------- ------------- ---------- ------------- ---------- ------------- ---------- ------------- ------------ --------- ------------ --------- ------------ --------- ------------ ---------- ------------- ------------------ ------- --------- ------- --------- ------------------- -------- ------------------- ----------- ----------------- ---------- --------------- --------------------- ---------------------------- ---------------------------- -------------------------- ------- ------- ------- ------- --------------- ------------------ --------------- ------------------ --------------- ------------------ --------------- ------------------ --------- --------- --------- --------- --------- --------- --------- --------- ---------------- ---------------- ---------------- ---------------- --------- --------- --------- --------- --------- --------- --------- --------- ------------- ------------- ------------- -------------\n",
       "11227800019447 127.25860781580793 -86.86278198637089 18.878121622282237     6.0     12.8081  46.5364     114.8 37.31181893845611     1.0         2.25      0.25  11227800019447  18.994827       0.00308  18.665041      0.003582  18.878056      0.003885       99.0          99.0 472915448907 18.302986     0.119746 18.018005     0.153458        --           --   17.21993       0.25502 1199m864_b0-010222  15.466     0.019  14.372     0.014 5189527791695373440 0.092543 -0.0400066129121316    0.209854 0.083448334264281   0.222695              --                    --                          0.0                     0.999777                   0.000223       0       0       0      99       19.091763            0.00429        18.66133           0.001994       19.076056           0.003447            99.0               99.0     267.0     267.0     333.0      -1.0         4         6         4         0                0                0                0               -9  2.721455  2.188689  2.505049      -1.0  2.263854  2.101247  2.296181      -1.0       29.0009      23.58089      8.274858          -1.0"
      ]
     },
     "execution_count": 28,
     "metadata": {},
     "output_type": "execute_result"
    }
   ],
   "source": [
    "BIC_cat[j[0][0]]"
   ]
  },
  {
   "cell_type": "code",
   "execution_count": 29,
   "id": "485cce0d-3f9f-4096-aa13-3b74760f265f",
   "metadata": {
    "tags": []
   },
   "outputs": [
    {
     "data": {
      "text/html": [
       "<div><i>Table length=537</i>\n",
       "<table id=\"table47669479881680\" class=\"table-striped table-bordered table-condensed\">\n",
       "<thead><tr><th>id</th><th>ra</th><th>dec</th><th>mag</th><th>nb</th><th>chi2_agngal</th><th>chi2_gal</th><th>chi2_star</th><th>BIC</th><th>Fp</th><th>zphot_agngal</th><th>zphot_gal</th><th>quick_object_id</th><th>mag_auto_g</th><th>magerr_auto_g</th><th>mag_auto_i</th><th>magerr_auto_i</th><th>mag_auto_r</th><th>magerr_auto_r</th><th>mag_auto_z</th><th>magerr_auto_z</th><th>sourceid_vhs</th><th>ypetromag</th><th>ypetromagerr</th><th>jpetromag</th><th>jpetromagerr</th><th>hpetromag</th><th>hpetromagerr</th><th>kspetromag</th><th>kspetromagerr</th><th>source_id_catwise</th><th>w1mpro</th><th>w1sigmpro</th><th>w2mpro</th><th>w2sigmpro</th><th>source_id</th><th>pm</th><th>pmdec</th><th>pmdec_error</th><th>pmra</th><th>pmra_error</th><th>radial_velocity</th><th>radial_velocity_error</th><th>classprob_dsc_combmod_galaxy</th><th>classprob_dsc_combmod_quasar</th><th>classprob_dsc_combmod_star</th><th>flags_g</th><th>flags_r</th><th>flags_i</th><th>flags_z</th><th>wavg_mag_auto_g</th><th>wavg_magerr_auto_g</th><th>wavg_mag_auto_i</th><th>wavg_magerr_auto_i</th><th>wavg_mag_auto_r</th><th>wavg_magerr_auto_r</th><th>wavg_mag_auto_z</th><th>wavg_magerr_auto_z</th><th>exptime_g</th><th>exptime_r</th><th>exptime_i</th><th>exptime_z</th><th>nepochs_g</th><th>nepochs_r</th><th>nepochs_i</th><th>nepochs_z</th><th>extended_class_g</th><th>extended_class_r</th><th>extended_class_i</th><th>extended_class_z</th><th>a_image_g</th><th>a_image_r</th><th>a_image_i</th><th>a_image_z</th><th>b_image_g</th><th>b_image_r</th><th>b_image_i</th><th>b_image_z</th><th>theta_image_g</th><th>theta_image_r</th><th>theta_image_i</th><th>theta_image_z</th><th>Selection</th></tr></thead>\n",
       "<thead><tr><th>int64</th><th>float64</th><th>float64</th><th>float64</th><th>float64</th><th>float64</th><th>float64</th><th>float64</th><th>float64</th><th>float64</th><th>float64</th><th>float64</th><th>int64</th><th>float64</th><th>float64</th><th>float64</th><th>float64</th><th>float64</th><th>float64</th><th>float64</th><th>float64</th><th>int64</th><th>float64</th><th>float64</th><th>float64</th><th>float64</th><th>float64</th><th>float64</th><th>float64</th><th>float64</th><th>bytes18</th><th>float32</th><th>float32</th><th>float32</th><th>float32</th><th>int64</th><th>float64</th><th>float64</th><th>float64</th><th>float64</th><th>float64</th><th>float64</th><th>float64</th><th>float64</th><th>float64</th><th>float64</th><th>int16</th><th>int16</th><th>int16</th><th>int16</th><th>float64</th><th>float64</th><th>float64</th><th>float64</th><th>float64</th><th>float64</th><th>float64</th><th>float64</th><th>float32</th><th>float32</th><th>float32</th><th>float32</th><th>int16</th><th>int16</th><th>int16</th><th>int16</th><th>int16</th><th>int16</th><th>int16</th><th>int16</th><th>float64</th><th>float64</th><th>float64</th><th>float64</th><th>float64</th><th>float64</th><th>float64</th><th>float64</th><th>float64</th><th>float64</th><th>float64</th><th>float64</th><th>bytes3</th></tr></thead>\n",
       "<tr><td>10710500009780</td><td>4.071006451092725</td><td>-10.072003218136913</td><td>19.366007622282236</td><td>6.0</td><td>5.36465</td><td>67.9406</td><td>147.9</td><td>66.15946893845611</td><td>1.0</td><td>2.3</td><td>0.25</td><td>10710500009780</td><td>19.379082</td><td>0.006376</td><td>19.60539</td><td>0.015075</td><td>19.365942</td><td>0.008322</td><td>19.096462</td><td>0.017821</td><td>472796945183</td><td>18.407618</td><td>0.064724</td><td>18.167688</td><td>0.096649</td><td>--</td><td>--</td><td>17.220427</td><td>0.226157</td><td>0046m107_b0-006691</td><td>16.348</td><td>0.057</td><td>15.091</td><td>0.044</td><td>2428114268500527616</td><td>0.69275</td><td>0.4161203154629179</td><td>0.229104</td><td>0.5538472787024836</td><td>0.429793</td><td>--</td><td>--</td><td>0.0</td><td>1.0</td><td>0.0</td><td>2</td><td>0</td><td>0</td><td>0</td><td>19.389942</td><td>0.005338</td><td>19.512188</td><td>0.008151</td><td>19.35906</td><td>0.00601</td><td>19.138027</td><td>0.012564</td><td>89.0</td><td>47.0</td><td>90.0</td><td>80.0</td><td>2</td><td>2</td><td>3</td><td>2</td><td>0</td><td>0</td><td>0</td><td>0</td><td>2.323123</td><td>1.892172</td><td>2.13005</td><td>2.216229</td><td>2.12973</td><td>1.85649</td><td>2.014688</td><td>2.003017</td><td>12.0558</td><td>2.183213</td><td>-66.18016</td><td>11.512399</td><td>BIC</td></tr>\n",
       "<tr><td>10710500021185</td><td>3.7826404953806194</td><td>-10.010277380669464</td><td>20.065515622282234</td><td>6.0</td><td>6.58557</td><td>68.7716</td><td>149.6</td><td>65.76954893845613</td><td>1.0</td><td>2.4</td><td>0.25</td><td>10710500021185</td><td>20.058346</td><td>0.009884</td><td>20.399263</td><td>0.028666</td><td>20.06545</td><td>0.01373</td><td>19.8979</td><td>0.031381</td><td>472796943376</td><td>19.382069</td><td>0.17589</td><td>19.15846</td><td>0.276169</td><td>--</td><td>--</td><td>17.867802</td><td>0.369386</td><td>0030m107_b0-021055</td><td>17.166</td><td>0.06</td><td>16.043</td><td>0.068</td><td>2428106163897132928</td><td>--</td><td>--</td><td>--</td><td>--</td><td>--</td><td>--</td><td>--</td><td>0.0</td><td>0.943716</td><td>0.0</td><td>0</td><td>0</td><td>0</td><td>0</td><td>20.057375</td><td>0.008419</td><td>20.399263</td><td>0.028666</td><td>20.081657</td><td>0.011023</td><td>19.8979</td><td>0.031381</td><td>68.0</td><td>47.0</td><td>90.0</td><td>116.0</td><td>2</td><td>2</td><td>1</td><td>1</td><td>0</td><td>0</td><td>0</td><td>0</td><td>2.091703</td><td>1.850288</td><td>2.171887</td><td>1.986224</td><td>1.943499</td><td>1.693993</td><td>2.055057</td><td>1.839843</td><td>-57.387035</td><td>-53.45386</td><td>14.639132</td><td>-16.360197</td><td>BIC</td></tr>\n",
       "<tr><td>10710500090711</td><td>4.801122422440792</td><td>-10.220019636761208</td><td>19.649665622282235</td><td>6.0</td><td>0.101956</td><td>63.9793</td><td>153.8</td><td>67.46086293845612</td><td>1.0</td><td>1.55</td><td>0.3</td><td>10710500090711</td><td>19.887327</td><td>0.009464</td><td>19.53784</td><td>0.012831</td><td>19.6496</td><td>0.011178</td><td>19.53513</td><td>0.017857</td><td>473708815515</td><td>18.83337</td><td>0.098057</td><td>18.589933</td><td>0.14504</td><td>--</td><td>--</td><td>17.48828</td><td>0.252906</td><td>0046m107_b0-005677</td><td>16.211</td><td>0.03</td><td>14.881</td><td>0.027</td><td>2428050466762297472</td><td>0.45289</td><td>0.0136630713096816</td><td>0.34871</td><td>-0.4526839261410881</td><td>0.510987</td><td>--</td><td>--</td><td>0.0</td><td>0.999967</td><td>3.3e-05</td><td>0</td><td>0</td><td>0</td><td>0</td><td>19.852495</td><td>0.005971</td><td>19.510843</td><td>0.01049</td><td>19.704216</td><td>0.00594</td><td>19.549902</td><td>0.010364</td><td>68.0</td><td>59.0</td><td>90.0</td><td>115.0</td><td>3</td><td>4</td><td>2</td><td>4</td><td>0</td><td>0</td><td>0</td><td>0</td><td>2.258374</td><td>2.285441</td><td>2.361797</td><td>2.321222</td><td>2.137146</td><td>2.100649</td><td>2.304044</td><td>2.208953</td><td>89.098976</td><td>0.758114</td><td>-55.806503</td><td>-14.657454</td><td>BIC</td></tr>\n",
       "<tr><td>10710500105101</td><td>4.007945996673209</td><td>-10.21140361567663</td><td>19.997267622282237</td><td>6.0</td><td>1.14937</td><td>63.4218</td><td>153.0</td><td>65.85594893845611</td><td>1.0</td><td>3.1</td><td>0.25</td><td>10710500105101</td><td>20.10385</td><td>0.008897</td><td>19.931362</td><td>0.017362</td><td>19.997202</td><td>0.012588</td><td>20.055864</td><td>0.025126</td><td>472796948955</td><td>19.181046</td><td>0.121657</td><td>19.068113</td><td>0.222526</td><td>--</td><td>--</td><td>17.506449</td><td>0.277738</td><td>0046m107_b0-013288</td><td>16.874</td><td>0.049</td><td>15.748</td><td>0.055</td><td>2428087296105859968</td><td>0.632591</td><td>-0.6263590892079203</td><td>0.368009</td><td>-0.0885789549049362</td><td>0.556424</td><td>--</td><td>--</td><td>0.0</td><td>1.0</td><td>0.0</td><td>0</td><td>0</td><td>0</td><td>0</td><td>20.205986</td><td>0.006258</td><td>19.87667</td><td>0.008802</td><td>19.97245</td><td>0.008346</td><td>20.0242</td><td>0.018182</td><td>200.0</td><td>47.0</td><td>90.0</td><td>115.0</td><td>4</td><td>3</td><td>4</td><td>3</td><td>0</td><td>0</td><td>0</td><td>0</td><td>3.083431</td><td>1.853392</td><td>1.910395</td><td>2.062242</td><td>2.759366</td><td>1.68414</td><td>1.862394</td><td>1.915734</td><td>-57.12038</td><td>-32.378273</td><td>-8.597713</td><td>27.881205</td><td>BIC</td></tr>\n",
       "<tr><td>10710500120171</td><td>4.558831561741001</td><td>-10.007536860245807</td><td>19.802759622282235</td><td>6.0</td><td>3.22426</td><td>51.9547</td><td>145.6</td><td>52.31395893845611</td><td>1.0</td><td>1.8</td><td>0.3</td><td>10710500120171</td><td>20.07385</td><td>0.010412</td><td>19.283033</td><td>0.012183</td><td>19.802694</td><td>0.011468</td><td>19.53408</td><td>0.017436</td><td>473708809383</td><td>18.840246</td><td>0.089788</td><td>18.779383</td><td>0.166412</td><td>--</td><td>--</td><td>17.026169</td><td>0.244338</td><td>0046m107_b0-005914</td><td>16.12</td><td>0.029</td><td>14.975</td><td>0.028</td><td>2428071628065067776</td><td>0.496666</td><td>0.0539761187872351</td><td>0.423745</td><td>0.4937243574373611</td><td>0.777154</td><td>--</td><td>--</td><td>2.3e-05</td><td>0.999724</td><td>0.000253</td><td>0</td><td>0</td><td>0</td><td>0</td><td>20.00686</td><td>0.006501</td><td>19.334167</td><td>0.006818</td><td>19.810259</td><td>0.007512</td><td>19.48881</td><td>0.012277</td><td>89.0</td><td>47.0</td><td>90.0</td><td>115.0</td><td>3</td><td>3</td><td>3</td><td>3</td><td>0</td><td>0</td><td>0</td><td>0</td><td>2.201344</td><td>1.856197</td><td>2.638499</td><td>2.290921</td><td>2.052279</td><td>1.764702</td><td>2.420804</td><td>2.224168</td><td>87.27014</td><td>-8.687721</td><td>-58.6204</td><td>88.66953</td><td>BIC</td></tr>\n",
       "<tr><td>10710500120329</td><td>3.8746735670405865</td><td>-10.171602798005267</td><td>20.730047622282235</td><td>6.0</td><td>5.6179</td><td>58.8853</td><td>155.9</td><td>56.85091893845611</td><td>1.0</td><td>2.5</td><td>0.3</td><td>10710500120329</td><td>20.833885</td><td>0.018542</td><td>21.0141</td><td>0.056806</td><td>20.729982</td><td>0.024453</td><td>20.61283</td><td>0.044712</td><td>472796947601</td><td>20.108002</td><td>0.294824</td><td>19.651</td><td>0.30477</td><td>--</td><td>--</td><td>--</td><td>--</td><td>0046m107_b0-029224</td><td>17.387</td><td>0.071</td><td>16.694</td><td>0.12</td><td>2428100009209069312</td><td>4.367157</td><td>3.2783890637798274</td><td>1.15238</td><td>2.8851735192399848</td><td>1.323483</td><td>--</td><td>--</td><td>0.0</td><td>0.02002</td><td>0.97998</td><td>0</td><td>0</td><td>0</td><td>0</td><td>20.804531</td><td>0.010239</td><td>20.935074</td><td>0.03585</td><td>20.735239</td><td>0.016033</td><td>20.627916</td><td>0.028992</td><td>200.0</td><td>47.0</td><td>90.0</td><td>115.0</td><td>4</td><td>3</td><td>2</td><td>3</td><td>0</td><td>0</td><td>1</td><td>0</td><td>3.017657</td><td>1.752637</td><td>1.997306</td><td>1.921929</td><td>2.571248</td><td>1.573733</td><td>1.859122</td><td>1.650849</td><td>-68.15552</td><td>-64.83027</td><td>-9.307467</td><td>23.536171</td><td>BIC</td></tr>\n",
       "<tr><td>...</td><td>...</td><td>...</td><td>...</td><td>...</td><td>...</td><td>...</td><td>...</td><td>...</td><td>...</td><td>...</td><td>...</td><td>...</td><td>...</td><td>...</td><td>...</td><td>...</td><td>...</td><td>...</td><td>...</td><td>...</td><td>...</td><td>...</td><td>...</td><td>...</td><td>...</td><td>...</td><td>...</td><td>...</td><td>...</td><td>...</td><td>...</td><td>...</td><td>...</td><td>...</td><td>...</td><td>...</td><td>...</td><td>...</td><td>...</td><td>...</td><td>...</td><td>...</td><td>...</td><td>...</td><td>...</td><td>...</td><td>...</td><td>...</td><td>...</td><td>...</td><td>...</td><td>...</td><td>...</td><td>...</td><td>...</td><td>...</td><td>...</td><td>...</td><td>...</td><td>...</td><td>...</td><td>...</td><td>...</td><td>...</td><td>...</td><td>...</td><td>...</td><td>...</td><td>...</td><td>...</td><td>...</td><td>...</td><td>...</td><td>...</td><td>...</td><td>...</td><td>...</td><td>...</td><td>...</td><td>...</td><td>...</td><td>...</td></tr>\n",
       "<tr><td>11227600219998</td><td>12.79213150408826</td><td>-87.88916754995785</td><td>19.809834622282235</td><td>6.0</td><td>0.438619</td><td>43.6423</td><td>118.7</td><td>46.787199938456105</td><td>1.0</td><td>2.55</td><td>0.25</td><td>11227600219998</td><td>19.997677</td><td>0.006188</td><td>19.708643</td><td>0.00898</td><td>19.809769</td><td>0.005799</td><td>19.533905</td><td>0.019421</td><td>473792627127</td><td>18.778296</td><td>0.198371</td><td>18.331766</td><td>0.201424</td><td>--</td><td>--</td><td>17.572939</td><td>0.443172</td><td>0000m879_b0-022167</td><td>16.684</td><td>0.032</td><td>15.48</td><td>0.03</td><td>4612846415512234752</td><td>0.418253</td><td>-0.1650663098561717</td><td>0.311066</td><td>0.3843032210542177</td><td>0.358341</td><td>--</td><td>--</td><td>0.0</td><td>0.98624</td><td>0.01376</td><td>0</td><td>0</td><td>0</td><td>0</td><td>19.99841</td><td>0.004587</td><td>19.75187</td><td>0.005985</td><td>19.838232</td><td>0.005607</td><td>19.532377</td><td>0.016932</td><td>267.0</td><td>267.0</td><td>333.0</td><td>249.0</td><td>2</td><td>5</td><td>5</td><td>2</td><td>0</td><td>0</td><td>0</td><td>0</td><td>2.775468</td><td>2.284689</td><td>2.097533</td><td>2.160469</td><td>2.39674</td><td>2.162362</td><td>1.880747</td><td>2.051544</td><td>-83.916046</td><td>-57.003117</td><td>-35.597847</td><td>36.823406</td><td>BIC</td></tr>\n",
       "<tr><td>11227600232668</td><td>10.732383311663922</td><td>-87.1353056667277</td><td>17.403103622282234</td><td>6.0</td><td>0.585566</td><td>41.0515</td><td>125.0</td><td>44.049452938456106</td><td>1.0</td><td>2.0</td><td>0.25</td><td>11227600232668</td><td>17.635298</td><td>0.001349</td><td>17.1562</td><td>0.001262</td><td>17.403038</td><td>0.0011</td><td>17.127792</td><td>0.002631</td><td>473040226459</td><td>16.34585</td><td>0.011946</td><td>15.982421</td><td>0.01745</td><td>--</td><td>--</td><td>14.955245</td><td>0.037939</td><td>0000m879_b0-002857</td><td>14.03</td><td>0.014</td><td>12.931</td><td>0.011</td><td>4613128066583734656</td><td>0.090522</td><td>-0.0904374854649668</td><td>0.074934</td><td>-0.0039135503530685</td><td>0.078462</td><td>--</td><td>--</td><td>0.0</td><td>1.0</td><td>0.0</td><td>0</td><td>0</td><td>0</td><td>0</td><td>17.63432</td><td>0.000956</td><td>17.163778</td><td>0.00089</td><td>17.397665</td><td>0.000795</td><td>17.127792</td><td>0.002631</td><td>267.0</td><td>267.0</td><td>333.0</td><td>249.0</td><td>2</td><td>2</td><td>4</td><td>1</td><td>0</td><td>0</td><td>0</td><td>0</td><td>3.190061</td><td>2.674764</td><td>3.202581</td><td>2.651238</td><td>2.725528</td><td>2.505723</td><td>3.164199</td><td>2.512479</td><td>-88.14495</td><td>66.08887</td><td>32.396297</td><td>28.27221</td><td>BIC</td></tr>\n",
       "<tr><td>11227600243855</td><td>12.962798477156595</td><td>-87.05594820518132</td><td>20.552263622282236</td><td>6.0</td><td>0.913822</td><td>76.2649</td><td>170.0</td><td>78.93459693845611</td><td>1.0</td><td>1.95</td><td>0.3</td><td>11227600243855</td><td>20.637932</td><td>0.010066</td><td>20.40646</td><td>0.018376</td><td>20.552198</td><td>0.009823</td><td>20.457376</td><td>0.04083</td><td>473197339582</td><td>20.289307</td><td>0.447658</td><td>19.660923</td><td>0.470681</td><td>--</td><td>--</td><td>18.16695</td><td>0.402853</td><td>0000m879_b0-028598</td><td>16.907</td><td>0.036</td><td>15.811</td><td>0.037</td><td>4613152255838495104</td><td>0.531575</td><td>-0.3986935679492324</td><td>0.631615</td><td>-0.351589188106597</td><td>0.73586</td><td>--</td><td>--</td><td>0.0</td><td>0.555081</td><td>0.444919</td><td>0</td><td>0</td><td>0</td><td>0</td><td>20.652395</td><td>0.006365</td><td>20.420643</td><td>0.010586</td><td>20.553755</td><td>0.008265</td><td>20.457376</td><td>0.04083</td><td>267.0</td><td>267.0</td><td>333.0</td><td>249.0</td><td>3</td><td>4</td><td>4</td><td>1</td><td>0</td><td>0</td><td>0</td><td>0</td><td>2.66728</td><td>2.076966</td><td>2.343783</td><td>1.759282</td><td>2.145508</td><td>1.866066</td><td>2.28392</td><td>1.697141</td><td>-51.281986</td><td>-41.526592</td><td>-5.450329</td><td>-76.47598</td><td>BIC</td></tr>\n",
       "<tr><td>11227800019447</td><td>127.25860781580793</td><td>-86.86278198637089</td><td>18.878121622282237</td><td>6.0</td><td>12.8081</td><td>46.5364</td><td>114.8</td><td>37.31181893845611</td><td>1.0</td><td>2.25</td><td>0.25</td><td>11227800019447</td><td>18.994827</td><td>0.00308</td><td>18.665041</td><td>0.003582</td><td>18.878056</td><td>0.003885</td><td>99.0</td><td>99.0</td><td>472915448907</td><td>18.302986</td><td>0.119746</td><td>18.018005</td><td>0.153458</td><td>--</td><td>--</td><td>17.21993</td><td>0.25502</td><td>1199m864_b0-010222</td><td>15.466</td><td>0.019</td><td>14.372</td><td>0.014</td><td>5189527791695373440</td><td>0.092543</td><td>-0.0400066129121316</td><td>0.209854</td><td>0.083448334264281</td><td>0.222695</td><td>--</td><td>--</td><td>0.0</td><td>0.999777</td><td>0.000223</td><td>0</td><td>0</td><td>0</td><td>99</td><td>19.091763</td><td>0.00429</td><td>18.66133</td><td>0.001994</td><td>19.076056</td><td>0.003447</td><td>99.0</td><td>99.0</td><td>267.0</td><td>267.0</td><td>333.0</td><td>-1.0</td><td>4</td><td>6</td><td>4</td><td>0</td><td>0</td><td>0</td><td>0</td><td>-9</td><td>2.721455</td><td>2.188689</td><td>2.505049</td><td>-1.0</td><td>2.263854</td><td>2.101247</td><td>2.296181</td><td>-1.0</td><td>29.0009</td><td>23.58089</td><td>8.274858</td><td>-1.0</td><td>BIC</td></tr>\n",
       "<tr><td>11228400039504</td><td>10.461644294016791</td><td>-88.4408231920975</td><td>20.272297622282235</td><td>6.0</td><td>0.533159</td><td>37.3974</td><td>108.8</td><td>40.44775993845611</td><td>1.0</td><td>2.3</td><td>0.25</td><td>11228400039504</td><td>20.345882</td><td>0.008911</td><td>20.08207</td><td>0.012586</td><td>20.272232</td><td>0.00851</td><td>19.769192</td><td>0.037445</td><td>473792642530</td><td>18.833702</td><td>0.219445</td><td>18.62192</td><td>0.249187</td><td>--</td><td>--</td><td>17.936811</td><td>0.53365</td><td>0000m879_b0-032927</td><td>17.051</td><td>0.04</td><td>15.939</td><td>0.042</td><td>4612062777254146816</td><td>0.320511</td><td>-0.3195168551857643</td><td>0.637936</td><td>-0.0252219157215862</td><td>0.693209</td><td>--</td><td>--</td><td>0.0</td><td>1.0</td><td>0.0</td><td>0</td><td>0</td><td>0</td><td>0</td><td>20.345882</td><td>0.008911</td><td>20.070892</td><td>0.01169</td><td>20.292131</td><td>0.016918</td><td>19.769192</td><td>0.037445</td><td>267.0</td><td>267.0</td><td>333.0</td><td>141.0</td><td>1</td><td>2</td><td>3</td><td>1</td><td>0</td><td>0</td><td>0</td><td>0</td><td>2.94618</td><td>2.238498</td><td>2.572673</td><td>2.054207</td><td>2.42392</td><td>2.082915</td><td>2.385196</td><td>1.825945</td><td>-72.68951</td><td>-44.13096</td><td>-13.886259</td><td>-9.844244</td><td>BIC</td></tr>\n",
       "<tr><td>11228400039605</td><td>12.786325494543942</td><td>-88.45956309810623</td><td>21.174301622282236</td><td>6.0</td><td>0.3165</td><td>29.213</td><td>145.0</td><td>32.48001893845611</td><td>1.0</td><td>2.45</td><td>1.25</td><td>11228400039605</td><td>22.114384</td><td>0.036102</td><td>20.670395</td><td>0.02325</td><td>21.174236</td><td>0.017501</td><td>20.196262</td><td>0.056874</td><td>473792643184</td><td>18.975569</td><td>0.239377</td><td>18.99134</td><td>0.366669</td><td>--</td><td>--</td><td>17.499584</td><td>0.372008</td><td>0000m879_b0-016077</td><td>16.308</td><td>0.026</td><td>15.102</td><td>0.022</td><td>--</td><td>--</td><td>--</td><td>--</td><td>--</td><td>--</td><td>--</td><td>--</td><td>--</td><td>--</td><td>--</td><td>0</td><td>0</td><td>0</td><td>0</td><td>22.114384</td><td>0.036102</td><td>20.684605</td><td>0.019206</td><td>21.177826</td><td>0.026611</td><td>20.196262</td><td>0.056874</td><td>267.0</td><td>267.0</td><td>333.0</td><td>141.0</td><td>1</td><td>2</td><td>3</td><td>1</td><td>0</td><td>0</td><td>0</td><td>2</td><td>2.148789</td><td>2.159893</td><td>2.388676</td><td>2.040958</td><td>1.972263</td><td>1.876821</td><td>2.214473</td><td>1.759119</td><td>-58.59476</td><td>-84.51408</td><td>-45.59402</td><td>-19.9568</td><td>BIC</td></tr>\n",
       "<tr><td>11228400041421</td><td>14.367387332359357</td><td>-88.7622783665889</td><td>19.968681622282233</td><td>5.0</td><td>0.60889</td><td>29.6091</td><td>105.2</td><td>32.2190858248682</td><td>1.0</td><td>1.8</td><td>0.4</td><td>11228400041421</td><td>99.0</td><td>99.0</td><td>19.684334</td><td>0.017713</td><td>19.968616</td><td>0.01569</td><td>19.85225</td><td>0.033641</td><td>472893524794</td><td>18.941385</td><td>0.181594</td><td>18.793661</td><td>0.316009</td><td>--</td><td>--</td><td>18.07357</td><td>0.545398</td><td>0000m894_b0-020509</td><td>16.483</td><td>0.031</td><td>15.365</td><td>0.029</td><td>4611998661983119104</td><td>1.213372</td><td>-0.4292898442460875</td><td>0.585119</td><td>-1.1348925103482839</td><td>0.652246</td><td>--</td><td>--</td><td>0.0</td><td>0.999589</td><td>0.000411</td><td>99</td><td>0</td><td>0</td><td>0</td><td>99.0</td><td>99.0</td><td>19.684334</td><td>0.017713</td><td>20.01261</td><td>0.012404</td><td>19.85225</td><td>0.033641</td><td>-1.0</td><td>90.0</td><td>150.0</td><td>141.0</td><td>0</td><td>2</td><td>1</td><td>1</td><td>-9</td><td>0</td><td>0</td><td>0</td><td>-1.0</td><td>2.824121</td><td>2.016081</td><td>2.013093</td><td>-1.0</td><td>2.457135</td><td>1.920641</td><td>1.932473</td><td>-1.0</td><td>-57.934933</td><td>31.037271</td><td>16.429045</td><td>BIC</td></tr>\n",
       "</table></div>"
      ],
      "text/plain": [
       "<Table length=537>\n",
       "      id               ra         ... theta_image_z Selection\n",
       "    int64           float64       ...    float64      bytes3 \n",
       "-------------- ------------------ ... ------------- ---------\n",
       "10710500009780  4.071006451092725 ...     11.512399       BIC\n",
       "10710500021185 3.7826404953806194 ...    -16.360197       BIC\n",
       "10710500090711  4.801122422440792 ...    -14.657454       BIC\n",
       "10710500105101  4.007945996673209 ...     27.881205       BIC\n",
       "10710500120171  4.558831561741001 ...      88.66953       BIC\n",
       "10710500120329 3.8746735670405865 ...     23.536171       BIC\n",
       "           ...                ... ...           ...       ...\n",
       "11227600219998  12.79213150408826 ...     36.823406       BIC\n",
       "11227600232668 10.732383311663922 ...      28.27221       BIC\n",
       "11227600243855 12.962798477156595 ...     -76.47598       BIC\n",
       "11227800019447 127.25860781580793 ...          -1.0       BIC\n",
       "11228400039504 10.461644294016791 ...     -9.844244       BIC\n",
       "11228400039605 12.786325494543942 ...      -19.9568       BIC\n",
       "11228400041421 14.367387332359357 ...     16.429045       BIC"
      ]
     },
     "execution_count": 29,
     "metadata": {},
     "output_type": "execute_result"
    }
   ],
   "source": [
    "wide[kk & (wide['Selection']=='BIC')] # & (wide['ra']>120) & (wide['ra']<135)]"
   ]
  },
  {
   "cell_type": "code",
   "execution_count": null,
   "id": "33054308-0548-433c-8a6f-cd4da471fb86",
   "metadata": {},
   "outputs": [],
   "source": []
  }
 ],
 "metadata": {
  "kernelspec": {
   "display_name": "Python 3 (ipykernel)",
   "language": "python",
   "name": "python3"
  },
  "language_info": {
   "codemirror_mode": {
    "name": "ipython",
    "version": 3
   },
   "file_extension": ".py",
   "mimetype": "text/x-python",
   "name": "python",
   "nbconvert_exporter": "python",
   "pygments_lexer": "ipython3",
   "version": "3.7.13"
  }
 },
 "nbformat": 4,
 "nbformat_minor": 5
}
