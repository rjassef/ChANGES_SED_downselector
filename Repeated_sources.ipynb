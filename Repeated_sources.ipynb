{
 "cells": [
  {
   "cell_type": "code",
   "execution_count": 1,
   "id": "b702b6ce-142e-4b7a-b5a7-3bbb3ffd4091",
   "metadata": {
    "tags": []
   },
   "outputs": [],
   "source": [
    "import numpy as np\n",
    "import matplotlib.pyplot as plt\n",
    "from astropy.table import Table"
   ]
  },
  {
   "cell_type": "code",
   "execution_count": 2,
   "id": "ce79d92b-d0ef-4739-921f-debcbe0ca3f8",
   "metadata": {
    "tags": []
   },
   "outputs": [],
   "source": [
    "wide = Table.read(\"Master_AGN_Catalog.downselected.wide.v1.1.fits\")"
   ]
  },
  {
   "cell_type": "code",
   "execution_count": 3,
   "id": "f4bd4d31-3e1b-4ac9-9916-72b4672a6701",
   "metadata": {
    "tags": []
   },
   "outputs": [
    {
     "data": {
      "text/plain": [
       "1149751"
      ]
     },
     "execution_count": 3,
     "metadata": {},
     "output_type": "execute_result"
    }
   ],
   "source": [
    "len(np.unique(wide['id']))"
   ]
  },
  {
   "cell_type": "code",
   "execution_count": 4,
   "id": "60692b39-facb-43dd-b4f4-82b00ea06c61",
   "metadata": {
    "tags": []
   },
   "outputs": [],
   "source": [
    "unique, counts = np.unique(wide['id'], return_counts=True)"
   ]
  },
  {
   "cell_type": "code",
   "execution_count": 5,
   "id": "e2d9467b-e630-4e0c-8ee4-1f1efb657967",
   "metadata": {
    "tags": []
   },
   "outputs": [
    {
     "name": "stderr",
     "output_type": "stream",
     "text": [
      "/opt/miniconda3/envs/astroconda/lib/python3.7/site-packages/ipykernel_launcher.py:2: UserWarning: Data has no positive values, and therefore cannot be log-scaled.\n",
      "  \n"
     ]
    },
    {
     "data": {
      "image/png": "[encoded data removed]",
      "text/plain": [
       "<Figure size 432x288 with 1 Axes>"
      ]
     },
     "metadata": {
      "needs_background": "light"
     },
     "output_type": "display_data"
    }
   ],
   "source": [
    "plt.hist(counts[counts>1])\n",
    "plt.yscale('log')"
   ]
  },
  {
   "cell_type": "code",
   "execution_count": 6,
   "id": "2380a4f0-d5ec-430b-80e6-cc21dfb37ee0",
   "metadata": {
    "tags": []
   },
   "outputs": [],
   "source": [
    "repeated_ids = unique[counts>1]"
   ]
  },
  {
   "cell_type": "code",
   "execution_count": 7,
   "id": "25c3b59e-d43e-4758-b5f9-f0d9c665e514",
   "metadata": {
    "tags": []
   },
   "outputs": [
    {
     "ename": "IndexError",
     "evalue": "index 2 is out of bounds for axis 0 with size 0",
     "output_type": "error",
     "traceback": [
      "\u001b[0;31m---------------------------------------------------------------------------\u001b[0m",
      "\u001b[0;31mIndexError\u001b[0m                                Traceback (most recent call last)",
      "\u001b[0;32m/tmp/ipykernel_30923/2982136468.py\u001b[0m in \u001b[0;36m<module>\u001b[0;34m\u001b[0m\n\u001b[0;32m----> 1\u001b[0;31m \u001b[0mwide\u001b[0m\u001b[0;34m[\u001b[0m\u001b[0mwide\u001b[0m\u001b[0;34m[\u001b[0m\u001b[0;34m'id'\u001b[0m\u001b[0;34m]\u001b[0m\u001b[0;34m==\u001b[0m\u001b[0mrepeated_ids\u001b[0m\u001b[0;34m[\u001b[0m\u001b[0;36m2\u001b[0m\u001b[0;34m]\u001b[0m\u001b[0;34m]\u001b[0m\u001b[0;34m.\u001b[0m\u001b[0mshow_in_notebook\u001b[0m\u001b[0;34m(\u001b[0m\u001b[0;34m)\u001b[0m\u001b[0;34m\u001b[0m\u001b[0;34m\u001b[0m\u001b[0m\n\u001b[0m",
      "\u001b[0;32mastropy/table/_column_mixins.pyx\u001b[0m in \u001b[0;36mastropy.table._column_mixins._MaskedColumnGetitemShim.__getitem__\u001b[0;34m()\u001b[0m\n",
      "\u001b[0;32mastropy/table/_column_mixins.pyx\u001b[0m in \u001b[0;36mastropy.table._column_mixins.base_getitem\u001b[0;34m()\u001b[0m\n",
      "\u001b[0;32mastropy/table/_column_mixins.pyx\u001b[0m in \u001b[0;36mastropy.table._column_mixins.masked_column_getitem\u001b[0;34m()\u001b[0m\n",
      "\u001b[0;32m/opt/miniconda3/envs/astroconda/lib/python3.7/site-packages/numpy/ma/core.py\u001b[0m in \u001b[0;36m__getitem__\u001b[0;34m(self, indx)\u001b[0m\n\u001b[1;32m   3222\u001b[0m         \u001b[0;31m# mask of being reshaped if it hasn't been set up properly yet\u001b[0m\u001b[0;34m\u001b[0m\u001b[0;34m\u001b[0m\u001b[0;34m\u001b[0m\u001b[0m\n\u001b[1;32m   3223\u001b[0m         \u001b[0;31m# So it's easier to stick to the current version\u001b[0m\u001b[0;34m\u001b[0m\u001b[0;34m\u001b[0m\u001b[0;34m\u001b[0m\u001b[0m\n\u001b[0;32m-> 3224\u001b[0;31m         \u001b[0mdout\u001b[0m \u001b[0;34m=\u001b[0m \u001b[0mself\u001b[0m\u001b[0;34m.\u001b[0m\u001b[0mdata\u001b[0m\u001b[0;34m[\u001b[0m\u001b[0mindx\u001b[0m\u001b[0;34m]\u001b[0m\u001b[0;34m\u001b[0m\u001b[0;34m\u001b[0m\u001b[0m\n\u001b[0m\u001b[1;32m   3225\u001b[0m         \u001b[0m_mask\u001b[0m \u001b[0;34m=\u001b[0m \u001b[0mself\u001b[0m\u001b[0;34m.\u001b[0m\u001b[0m_mask\u001b[0m\u001b[0;34m\u001b[0m\u001b[0;34m\u001b[0m\u001b[0m\n\u001b[1;32m   3226\u001b[0m \u001b[0;34m\u001b[0m\u001b[0m\n",
      "\u001b[0;32m/opt/miniconda3/envs/astroconda/lib/python3.7/site-packages/numpy/ma/core.py\u001b[0m in \u001b[0;36m__getitem__\u001b[0;34m(self, indx)\u001b[0m\n\u001b[1;32m   3222\u001b[0m         \u001b[0;31m# mask of being reshaped if it hasn't been set up properly yet\u001b[0m\u001b[0;34m\u001b[0m\u001b[0;34m\u001b[0m\u001b[0;34m\u001b[0m\u001b[0m\n\u001b[1;32m   3223\u001b[0m         \u001b[0;31m# So it's easier to stick to the current version\u001b[0m\u001b[0;34m\u001b[0m\u001b[0;34m\u001b[0m\u001b[0;34m\u001b[0m\u001b[0m\n\u001b[0;32m-> 3224\u001b[0;31m         \u001b[0mdout\u001b[0m \u001b[0;34m=\u001b[0m \u001b[0mself\u001b[0m\u001b[0;34m.\u001b[0m\u001b[0mdata\u001b[0m\u001b[0;34m[\u001b[0m\u001b[0mindx\u001b[0m\u001b[0;34m]\u001b[0m\u001b[0;34m\u001b[0m\u001b[0;34m\u001b[0m\u001b[0m\n\u001b[0m\u001b[1;32m   3225\u001b[0m         \u001b[0m_mask\u001b[0m \u001b[0;34m=\u001b[0m \u001b[0mself\u001b[0m\u001b[0;34m.\u001b[0m\u001b[0m_mask\u001b[0m\u001b[0;34m\u001b[0m\u001b[0;34m\u001b[0m\u001b[0m\n\u001b[1;32m   3226\u001b[0m \u001b[0;34m\u001b[0m\u001b[0m\n",
      "\u001b[0;31mIndexError\u001b[0m: index 2 is out of bounds for axis 0 with size 0"
     ]
    }
   ],
   "source": [
    "wide[wide['id']==repeated_ids[2]].show_in_notebook()"
   ]
  },
  {
   "cell_type": "code",
   "execution_count": 8,
   "id": "092ed360-1434-4c28-91f5-23c53d58aa07",
   "metadata": {
    "tags": []
   },
   "outputs": [
    {
     "data": {
      "text/plain": [
       "0"
      ]
     },
     "execution_count": 8,
     "metadata": {},
     "output_type": "execute_result"
    }
   ],
   "source": [
    "len(unique[counts>1])"
   ]
  },
  {
   "cell_type": "code",
   "execution_count": 9,
   "id": "767b0dab-4947-43d8-b82d-7a41b28484bf",
   "metadata": {
    "tags": []
   },
   "outputs": [
    {
     "data": {
      "text/plain": [
       "0"
      ]
     },
     "execution_count": 9,
     "metadata": {},
     "output_type": "execute_result"
    }
   ],
   "source": [
    "np.sum(counts[counts>1])"
   ]
  },
  {
   "cell_type": "code",
   "execution_count": 10,
   "id": "0a47f25f-7449-43c5-9c93-cf11bceab656",
   "metadata": {
    "tags": []
   },
   "outputs": [
    {
     "data": {
      "text/plain": [
       "1149751"
      ]
     },
     "execution_count": 10,
     "metadata": {},
     "output_type": "execute_result"
    }
   ],
   "source": [
    "len(wide)"
   ]
  },
  {
   "cell_type": "code",
   "execution_count": 11,
   "id": "fb89877a-569d-44a6-8eeb-a797fa54af5f",
   "metadata": {
    "tags": []
   },
   "outputs": [
    {
     "data": {
      "text/plain": [
       "array([1, 1, 1, ..., 1, 1, 1])"
      ]
     },
     "execution_count": 11,
     "metadata": {},
     "output_type": "execute_result"
    }
   ],
   "source": [
    "counts"
   ]
  },
  {
   "cell_type": "code",
   "execution_count": 12,
   "id": "0fc18ca3-c835-4d68-aef7-d54c6c4f1565",
   "metadata": {
    "tags": []
   },
   "outputs": [],
   "source": [
    "Fcat = Table.read(\"../Victoria_v1.1_SED_catalogs/Master_Catalog_F_test_AGN_full_photometry.fits\")\n",
    "BIC_cat = Table.read(\"../Victoria_v1.1_SED_catalogs/Master_Catalog_BIC_AGN_nb_le_6_full_photometry.fits\")"
   ]
  },
  {
   "cell_type": "code",
   "execution_count": 13,
   "id": "669dde6a-8415-48c6-89b4-8f8e17f86546",
   "metadata": {
    "tags": []
   },
   "outputs": [
    {
     "name": "stdout",
     "output_type": "stream",
     "text": [
      "2294533 2209304 85229\n"
     ]
    }
   ],
   "source": [
    "print(len(Fcat), len(np.unique(Fcat['id'])), len(Fcat)-len(np.unique(Fcat['id'])))"
   ]
  },
  {
   "cell_type": "code",
   "execution_count": 14,
   "id": "307f18fd-b990-45e4-8187-b6b34afc23e0",
   "metadata": {
    "tags": []
   },
   "outputs": [
    {
     "name": "stdout",
     "output_type": "stream",
     "text": [
      "17978823 17636245 342578\n"
     ]
    }
   ],
   "source": [
    "print(len(BIC_cat), len(np.unique(BIC_cat['id'])), len(BIC_cat)-len(np.unique(BIC_cat['id'])))"
   ]
  },
  {
   "cell_type": "code",
   "execution_count": 15,
   "id": "74b9804d-e75a-4db9-8d59-89bb10ee7738",
   "metadata": {
    "tags": []
   },
   "outputs": [
    {
     "name": "stdout",
     "output_type": "stream",
     "text": [
      "[1 2 3 4 1 6]\n",
      "[1 2 3 4 6]\n"
     ]
    }
   ],
   "source": [
    "x = np.array([1, 2, 3, 4, 1, 6])\n",
    "_, k = np.unique(x, return_index=True)\n",
    "print(x)\n",
    "print(x[k])"
   ]
  },
  {
   "cell_type": "code",
   "execution_count": 16,
   "id": "7265d25a-1dc1-4215-a14c-ce83385ecf9d",
   "metadata": {
    "tags": []
   },
   "outputs": [],
   "source": [
    "_, k_w = np.unique(wide['id'], return_index=True)"
   ]
  },
  {
   "cell_type": "code",
   "execution_count": 17,
   "id": "4ac55241-ac3e-4b15-a67b-7cc51c33eafe",
   "metadata": {
    "tags": []
   },
   "outputs": [
    {
     "name": "stdout",
     "output_type": "stream",
     "text": [
      "1149751 1149751 1149751\n"
     ]
    }
   ],
   "source": [
    "print(len(wide['id'][k_w]), len(np.unique(wide['id'])), len(wide))"
   ]
  },
  {
   "cell_type": "code",
   "execution_count": 18,
   "id": "ca8c7a7a-ff6a-488c-9f39-d4045a89c533",
   "metadata": {
    "tags": []
   },
   "outputs": [
    {
     "data": {
      "text/plain": [
       "array([False, False, False,  True, False,  True])"
      ]
     },
     "execution_count": 18,
     "metadata": {},
     "output_type": "execute_result"
    }
   ],
   "source": [
    "y = [4, 5, 6, 7, 8, 9, 10, 11, 12, 13, 14]\n",
    "np.isin(x,y)"
   ]
  },
  {
   "cell_type": "code",
   "execution_count": 19,
   "id": "ee173dac-5543-4b3a-b1f3-1147dc2df2f3",
   "metadata": {
    "tags": []
   },
   "outputs": [
    {
     "name": "stdout",
     "output_type": "stream",
     "text": [
      "[4 6]\n",
      "[1 2 3 1]\n"
     ]
    }
   ],
   "source": [
    "print(x[np.isin(x,y)])\n",
    "print(x[~np.isin(x,y)])"
   ]
  },
  {
   "cell_type": "code",
   "execution_count": 20,
   "id": "cba0fa8d-3909-417c-a56b-3999a5bdc7d3",
   "metadata": {
    "tags": []
   },
   "outputs": [],
   "source": [
    "kk = np.isin(wide['id'], Fcat['id'])"
   ]
  },
  {
   "cell_type": "code",
   "execution_count": 21,
   "id": "6637a72f-0cbe-4461-a611-6a4649d9db44",
   "metadata": {
    "tags": []
   },
   "outputs": [
    {
     "data": {
      "text/plain": [
       "867492"
      ]
     },
     "execution_count": 21,
     "metadata": {},
     "output_type": "execute_result"
    }
   ],
   "source": [
    "np.sum(kk)"
   ]
  },
  {
   "cell_type": "code",
   "execution_count": 22,
   "id": "560f04a9-5a3e-409b-8e27-d958ad5b36b6",
   "metadata": {
    "tags": []
   },
   "outputs": [
    {
     "data": {
      "text/plain": [
       "867492"
      ]
     },
     "execution_count": 22,
     "metadata": {},
     "output_type": "execute_result"
    }
   ],
   "source": [
    "len(wide[wide['Selection']=='F'])"
   ]
  },
  {
   "cell_type": "code",
   "execution_count": 23,
   "id": "522d03d7-df1f-4eef-a41e-66bb0e070f2c",
   "metadata": {
    "tags": []
   },
   "outputs": [
    {
     "data": {
      "text/plain": [
       "0.09999999999999998"
      ]
     },
     "execution_count": 23,
     "metadata": {},
     "output_type": "execute_result"
    }
   ],
   "source": [
    "np.max(Fcat['Fp'][Fcat['Fp']<1.0])"
   ]
  },
  {
   "cell_type": "code",
   "execution_count": 24,
   "id": "4ad1e902-9549-4368-b5ed-86092d746ea1",
   "metadata": {
    "tags": []
   },
   "outputs": [
    {
     "name": "stdout",
     "output_type": "stream",
     "text": [
      "[[96772]]\n"
     ]
    }
   ],
   "source": [
    "i = np.argwhere(Fcat['id']==11227800019447)\n",
    "print(i)"
   ]
  },
  {
   "cell_type": "code",
   "execution_count": 25,
   "id": "06301612-4df1-4e65-8605-0a97838af985",
   "metadata": {
    "tags": []
   },
   "outputs": [
    {
     "name": "stdout",
     "output_type": "stream",
     "text": [
      "[[547006]]\n"
     ]
    }
   ],
   "source": [
    "j = np.argwhere(BIC_cat['id']==11227800019447)\n",
    "print(j)"
   ]
  },
  {
   "cell_type": "code",
   "execution_count": 26,
   "id": "323dcc8f-f516-47ae-9a40-b8f499f75bda",
   "metadata": {
    "tags": []
   },
   "outputs": [
    {
     "data": {
      "text/html": [
       "<div><i>Table length=1</i>\n",
       "<table id=\"table47770471050448\" class=\"table-striped table-bordered table-condensed\">\n",
       "<thead><tr><th>id [1]</th><th>ra [1]</th><th>dec [1]</th><th>mag [1]</th><th>nb [1]</th><th>chi2_agngal [1]</th><th>chi2_gal [1]</th><th>chi2_star [1]</th><th>BIC [1]</th><th>Fp [1]</th><th>zphot_agngal [1]</th><th>zphot_gal [1]</th><th>quick_object_id [1]</th><th>mag_auto_g [1]</th><th>magerr_auto_g [1]</th><th>mag_auto_i [1]</th><th>magerr_auto_i [1]</th><th>mag_auto_r [1]</th><th>magerr_auto_r [1]</th><th>mag_auto_z [1]</th><th>magerr_auto_z [1]</th><th>sourceid_vhs [1]</th><th>ypetromag [1]</th><th>ypetromagerr [1]</th><th>jpetromag [1]</th><th>jpetromagerr [1]</th><th>hpetromag [1]</th><th>hpetromagerr [1]</th><th>kspetromag [1]</th><th>kspetromagerr [1]</th><th>source_id_catwise [1]</th><th>w1mpro [1]</th><th>w1sigmpro [1]</th><th>w2mpro [1]</th><th>w2sigmpro [1]</th><th>source_id [1]</th><th>pm [1]</th><th>pmdec [1]</th><th>pmdec_error [1]</th><th>pmra [1]</th><th>pmra_error [1]</th><th>radial_velocity [1]</th><th>radial_velocity_error [1]</th><th>classprob_dsc_combmod_galaxy [1]</th><th>classprob_dsc_combmod_quasar [1]</th><th>classprob_dsc_combmod_star [1]</th><th>flags_g [1]</th><th>flags_r [1]</th><th>flags_i [1]</th><th>flags_z [1]</th><th>wavg_mag_auto_g [1]</th><th>wavg_magerr_auto_g [1]</th><th>wavg_mag_auto_i [1]</th><th>wavg_magerr_auto_i [1]</th><th>wavg_mag_auto_r [1]</th><th>wavg_magerr_auto_r [1]</th><th>wavg_mag_auto_z [1]</th><th>wavg_magerr_auto_z [1]</th><th>exptime_g [1]</th><th>exptime_r [1]</th><th>exptime_i [1]</th><th>exptime_z [1]</th><th>nepochs_g [1]</th><th>nepochs_r [1]</th><th>nepochs_i [1]</th><th>nepochs_z [1]</th><th>extended_class_g [1]</th><th>extended_class_r [1]</th><th>extended_class_i [1]</th><th>extended_class_z [1]</th><th>a_image_g [1]</th><th>a_image_r [1]</th><th>a_image_i [1]</th><th>a_image_z [1]</th><th>b_image_g [1]</th><th>b_image_r [1]</th><th>b_image_i [1]</th><th>b_image_z [1]</th><th>theta_image_g [1]</th><th>theta_image_r [1]</th><th>theta_image_i [1]</th><th>theta_image_z [1]</th><th>Selection [1]</th></tr></thead>\n",
       "<thead><tr><th>int64</th><th>float64</th><th>float64</th><th>float64</th><th>float64</th><th>float64</th><th>float64</th><th>float64</th><th>float64</th><th>float64</th><th>float64</th><th>float64</th><th>int64</th><th>float64</th><th>float64</th><th>float64</th><th>float64</th><th>float64</th><th>float64</th><th>float64</th><th>float64</th><th>int64</th><th>float64</th><th>float64</th><th>float64</th><th>float64</th><th>float64</th><th>float64</th><th>float64</th><th>float64</th><th>bytes18</th><th>float32</th><th>float32</th><th>float32</th><th>float32</th><th>int64</th><th>float64</th><th>float64</th><th>float64</th><th>float64</th><th>float64</th><th>float64</th><th>float64</th><th>float64</th><th>float64</th><th>float64</th><th>int16</th><th>int16</th><th>int16</th><th>int16</th><th>float64</th><th>float64</th><th>float64</th><th>float64</th><th>float64</th><th>float64</th><th>float64</th><th>float64</th><th>float32</th><th>float32</th><th>float32</th><th>float32</th><th>int16</th><th>int16</th><th>int16</th><th>int16</th><th>int16</th><th>int16</th><th>int16</th><th>int16</th><th>float64</th><th>float64</th><th>float64</th><th>float64</th><th>float64</th><th>float64</th><th>float64</th><th>float64</th><th>float64</th><th>float64</th><th>float64</th><th>float64</th><th>bytes3</th></tr></thead>\n",
       "<tr><td>11227800019447</td><td>127.25860781580793</td><td>-86.86278198637089</td><td>18.878121622282237</td><td>8.0</td><td>5.15443</td><td>146.263</td><td>167.7</td><td>145.2674530833597</td><td>0.035240833293450846</td><td>1.85</td><td>0.05</td><td>11227800019447</td><td>18.994827</td><td>0.00308</td><td>18.665041</td><td>0.003582</td><td>18.878056</td><td>0.003885</td><td>99.0</td><td>99.0</td><td>472915448907</td><td>18.302986</td><td>0.119746</td><td>18.018005</td><td>0.153458</td><td>--</td><td>--</td><td>17.21993</td><td>0.25502</td><td>1199m864_b0-010222</td><td>15.466</td><td>0.019</td><td>14.372</td><td>0.014</td><td>5189527791695373440</td><td>0.092543</td><td>-0.0400066129121316</td><td>0.209854</td><td>0.083448334264281</td><td>0.222695</td><td>--</td><td>--</td><td>0.0</td><td>0.999777</td><td>0.000223</td><td>0</td><td>0</td><td>0</td><td>99</td><td>19.091763</td><td>0.00429</td><td>18.66133</td><td>0.001994</td><td>19.076056</td><td>0.003447</td><td>99.0</td><td>99.0</td><td>267.0</td><td>267.0</td><td>333.0</td><td>-1.0</td><td>4</td><td>6</td><td>4</td><td>0</td><td>0</td><td>0</td><td>0</td><td>-9</td><td>2.721455</td><td>2.188689</td><td>2.505049</td><td>-1.0</td><td>2.263854</td><td>2.101247</td><td>2.296181</td><td>-1.0</td><td>29.0009</td><td>23.58089</td><td>8.274858</td><td>-1.0</td><td>F</td></tr>\n",
       "</table></div>"
      ],
      "text/plain": [
       "<Table length=1>\n",
       "    id [1]           ra [1]       ... theta_image_z [1] Selection [1]\n",
       "    int64           float64       ...      float64          bytes3   \n",
       "-------------- ------------------ ... ----------------- -------------\n",
       "11227800019447 127.25860781580793 ...              -1.0             F"
      ]
     },
     "execution_count": 26,
     "metadata": {},
     "output_type": "execute_result"
    }
   ],
   "source": [
    "l = np.argwhere(wide['id']==11227800019447)\n",
    "wide[l]"
   ]
  },
  {
   "cell_type": "code",
   "execution_count": 27,
   "id": "3fda4c48-3c30-48cc-a5c5-356e063fc909",
   "metadata": {
    "tags": []
   },
   "outputs": [
    {
     "data": {
      "text/html": [
       "<i>Row index=96772</i>\n",
       "<table id=\"table47769808886544\">\n",
       "<thead><tr><th>id</th><th>ra</th><th>dec</th><th>mag</th><th>nb</th><th>chi2_agngal</th><th>chi2_gal</th><th>chi2_star</th><th>BIC</th><th>Fp</th><th>zphot_agngal</th><th>zphot_gal</th><th>quick_object_id</th><th>mag_auto_g</th><th>magerr_auto_g</th><th>mag_auto_i</th><th>magerr_auto_i</th><th>mag_auto_r</th><th>magerr_auto_r</th><th>mag_auto_z</th><th>magerr_auto_z</th><th>sourceid_vhs</th><th>ypetromag</th><th>ypetromagerr</th><th>jpetromag</th><th>jpetromagerr</th><th>hpetromag</th><th>hpetromagerr</th><th>kspetromag</th><th>kspetromagerr</th><th>source_id_catwise</th><th>w1mpro</th><th>w1sigmpro</th><th>w2mpro</th><th>w2sigmpro</th><th>source_id</th><th>pm</th><th>pmdec</th><th>pmdec_error</th><th>pmra</th><th>pmra_error</th><th>radial_velocity</th><th>radial_velocity_error</th><th>classprob_dsc_combmod_galaxy</th><th>classprob_dsc_combmod_quasar</th><th>classprob_dsc_combmod_star</th><th>flags_g</th><th>flags_r</th><th>flags_i</th><th>flags_z</th><th>wavg_mag_auto_g</th><th>wavg_magerr_auto_g</th><th>wavg_mag_auto_i</th><th>wavg_magerr_auto_i</th><th>wavg_mag_auto_r</th><th>wavg_magerr_auto_r</th><th>wavg_mag_auto_z</th><th>wavg_magerr_auto_z</th><th>exptime_g</th><th>exptime_r</th><th>exptime_i</th><th>exptime_z</th><th>nepochs_g</th><th>nepochs_r</th><th>nepochs_i</th><th>nepochs_z</th><th>extended_class_g</th><th>extended_class_r</th><th>extended_class_i</th><th>extended_class_z</th><th>a_image_g</th><th>a_image_r</th><th>a_image_i</th><th>a_image_z</th><th>b_image_g</th><th>b_image_r</th><th>b_image_i</th><th>b_image_z</th><th>theta_image_g</th><th>theta_image_r</th><th>theta_image_i</th><th>theta_image_z</th></tr></thead>\n",
       "<thead><tr><th>int64</th><th>float64</th><th>float64</th><th>float64</th><th>float64</th><th>float64</th><th>float64</th><th>float64</th><th>float64</th><th>float64</th><th>float64</th><th>float64</th><th>int64</th><th>float64</th><th>float64</th><th>float64</th><th>float64</th><th>float64</th><th>float64</th><th>float64</th><th>float64</th><th>int64</th><th>float64</th><th>float64</th><th>float64</th><th>float64</th><th>float64</th><th>float64</th><th>float64</th><th>float64</th><th>bytes18</th><th>float32</th><th>float32</th><th>float32</th><th>float32</th><th>int64</th><th>float64</th><th>float64</th><th>float64</th><th>float64</th><th>float64</th><th>float64</th><th>float64</th><th>float64</th><th>float64</th><th>float64</th><th>int16</th><th>int16</th><th>int16</th><th>int16</th><th>float64</th><th>float64</th><th>float64</th><th>float64</th><th>float64</th><th>float64</th><th>float64</th><th>float64</th><th>float32</th><th>float32</th><th>float32</th><th>float32</th><th>int16</th><th>int16</th><th>int16</th><th>int16</th><th>int16</th><th>int16</th><th>int16</th><th>int16</th><th>float64</th><th>float64</th><th>float64</th><th>float64</th><th>float64</th><th>float64</th><th>float64</th><th>float64</th><th>float64</th><th>float64</th><th>float64</th><th>float64</th></tr></thead>\n",
       "<tr><td>11227800019447</td><td>127.25860781580793</td><td>-86.86278198637089</td><td>18.878121622282237</td><td>8.0</td><td>5.15443</td><td>146.263</td><td>167.7</td><td>145.2674530833597</td><td>0.035240833293450846</td><td>1.85</td><td>0.05</td><td>11227800019447</td><td>18.994827</td><td>0.00308</td><td>18.665041</td><td>0.003582</td><td>18.878056</td><td>0.003885</td><td>99.0</td><td>99.0</td><td>472915448907</td><td>18.302986</td><td>0.119746</td><td>18.018005</td><td>0.153458</td><td>--</td><td>--</td><td>17.21993</td><td>0.25502</td><td>1199m864_b0-010222</td><td>15.466</td><td>0.019</td><td>14.372</td><td>0.014</td><td>5189527791695373440</td><td>0.092543</td><td>-0.0400066129121316</td><td>0.209854</td><td>0.083448334264281</td><td>0.222695</td><td>--</td><td>--</td><td>0.0</td><td>0.999777</td><td>0.000223</td><td>0</td><td>0</td><td>0</td><td>99</td><td>19.091763</td><td>0.00429</td><td>18.66133</td><td>0.001994</td><td>19.076056</td><td>0.003447</td><td>99.0</td><td>99.0</td><td>267.0</td><td>267.0</td><td>333.0</td><td>-1.0</td><td>4</td><td>6</td><td>4</td><td>0</td><td>0</td><td>0</td><td>0</td><td>-9</td><td>2.721455</td><td>2.188689</td><td>2.505049</td><td>-1.0</td><td>2.263854</td><td>2.101247</td><td>2.296181</td><td>-1.0</td><td>29.0009</td><td>23.58089</td><td>8.274858</td><td>-1.0</td></tr>\n",
       "</table>"
      ],
      "text/plain": [
       "<Row index=96772>\n",
       "      id               ra                dec                mag            nb   chi2_agngal chi2_gal chi2_star        BIC                 Fp          zphot_agngal zphot_gal quick_object_id mag_auto_g magerr_auto_g mag_auto_i magerr_auto_i mag_auto_r magerr_auto_r mag_auto_z magerr_auto_z sourceid_vhs ypetromag ypetromagerr jpetromag jpetromagerr hpetromag hpetromagerr kspetromag kspetromagerr source_id_catwise   w1mpro w1sigmpro  w2mpro w2sigmpro      source_id         pm           pmdec        pmdec_error        pmra       pmra_error radial_velocity radial_velocity_error classprob_dsc_combmod_galaxy classprob_dsc_combmod_quasar classprob_dsc_combmod_star flags_g flags_r flags_i flags_z wavg_mag_auto_g wavg_magerr_auto_g wavg_mag_auto_i wavg_magerr_auto_i wavg_mag_auto_r wavg_magerr_auto_r wavg_mag_auto_z wavg_magerr_auto_z exptime_g exptime_r exptime_i exptime_z nepochs_g nepochs_r nepochs_i nepochs_z extended_class_g extended_class_r extended_class_i extended_class_z a_image_g a_image_r a_image_i a_image_z b_image_g b_image_r b_image_i b_image_z theta_image_g theta_image_r theta_image_i theta_image_z\n",
       "    int64           float64            float64            float64       float64   float64   float64   float64       float64            float64          float64     float64       int64       float64      float64     float64      float64     float64      float64     float64      float64       int64      float64    float64     float64    float64     float64    float64     float64      float64         bytes18       float32  float32  float32  float32         int64        float64        float64         float64        float64       float64       float64            float64                  float64                      float64                     float64            int16   int16   int16   int16      float64          float64           float64          float64           float64          float64           float64          float64        float32   float32   float32   float32    int16     int16     int16     int16        int16            int16            int16            int16        float64   float64   float64   float64   float64   float64   float64   float64     float64       float64       float64       float64   \n",
       "-------------- ------------------ ------------------ ------------------ ------- ----------- -------- --------- ----------------- -------------------- ------------ --------- --------------- ---------- ------------- ---------- ------------- ---------- ------------- ---------- ------------- ------------ --------- ------------ --------- ------------ --------- ------------ ---------- ------------- ------------------ ------- --------- ------- --------- ------------------- -------- ------------------- ----------- ----------------- ---------- --------------- --------------------- ---------------------------- ---------------------------- -------------------------- ------- ------- ------- ------- --------------- ------------------ --------------- ------------------ --------------- ------------------ --------------- ------------------ --------- --------- --------- --------- --------- --------- --------- --------- ---------------- ---------------- ---------------- ---------------- --------- --------- --------- --------- --------- --------- --------- --------- ------------- ------------- ------------- -------------\n",
       "11227800019447 127.25860781580793 -86.86278198637089 18.878121622282237     8.0     5.15443  146.263     167.7 145.2674530833597 0.035240833293450846         1.85      0.05  11227800019447  18.994827       0.00308  18.665041      0.003582  18.878056      0.003885       99.0          99.0 472915448907 18.302986     0.119746 18.018005     0.153458        --           --   17.21993       0.25502 1199m864_b0-010222  15.466     0.019  14.372     0.014 5189527791695373440 0.092543 -0.0400066129121316    0.209854 0.083448334264281   0.222695              --                    --                          0.0                     0.999777                   0.000223       0       0       0      99       19.091763            0.00429        18.66133           0.001994       19.076056           0.003447            99.0               99.0     267.0     267.0     333.0      -1.0         4         6         4         0                0                0                0               -9  2.721455  2.188689  2.505049      -1.0  2.263854  2.101247  2.296181      -1.0       29.0009      23.58089      8.274858          -1.0"
      ]
     },
     "execution_count": 27,
     "metadata": {},
     "output_type": "execute_result"
    }
   ],
   "source": [
    "Fcat[i[0][0]]"
   ]
  },
  {
   "cell_type": "code",
   "execution_count": 28,
   "id": "37c7559c-9353-4e7a-9618-f1c6ca9d2df0",
   "metadata": {
    "tags": []
   },
   "outputs": [
    {
     "data": {
      "text/html": [
       "<i>Row index=547006</i>\n",
       "<table id=\"table47770471155280\">\n",
       "<thead><tr><th>id</th><th>ra</th><th>dec</th><th>mag</th><th>nb</th><th>chi2_agngal</th><th>chi2_gal</th><th>chi2_star</th><th>BIC</th><th>Fp</th><th>zphot_agngal</th><th>zphot_gal</th><th>quick_object_id</th><th>mag_auto_g</th><th>magerr_auto_g</th><th>mag_auto_i</th><th>magerr_auto_i</th><th>mag_auto_r</th><th>magerr_auto_r</th><th>mag_auto_z</th><th>magerr_auto_z</th><th>sourceid_vhs</th><th>ypetromag</th><th>ypetromagerr</th><th>jpetromag</th><th>jpetromagerr</th><th>hpetromag</th><th>hpetromagerr</th><th>kspetromag</th><th>kspetromagerr</th><th>source_id_catwise</th><th>w1mpro</th><th>w1sigmpro</th><th>w2mpro</th><th>w2sigmpro</th><th>source_id</th><th>pm</th><th>pmdec</th><th>pmdec_error</th><th>pmra</th><th>pmra_error</th><th>radial_velocity</th><th>radial_velocity_error</th><th>classprob_dsc_combmod_galaxy</th><th>classprob_dsc_combmod_quasar</th><th>classprob_dsc_combmod_star</th><th>flags_g</th><th>flags_r</th><th>flags_i</th><th>flags_z</th><th>wavg_mag_auto_g</th><th>wavg_magerr_auto_g</th><th>wavg_mag_auto_i</th><th>wavg_magerr_auto_i</th><th>wavg_mag_auto_r</th><th>wavg_magerr_auto_r</th><th>wavg_mag_auto_z</th><th>wavg_magerr_auto_z</th><th>exptime_g</th><th>exptime_r</th><th>exptime_i</th><th>exptime_z</th><th>nepochs_g</th><th>nepochs_r</th><th>nepochs_i</th><th>nepochs_z</th><th>extended_class_g</th><th>extended_class_r</th><th>extended_class_i</th><th>extended_class_z</th><th>a_image_g</th><th>a_image_r</th><th>a_image_i</th><th>a_image_z</th><th>b_image_g</th><th>b_image_r</th><th>b_image_i</th><th>b_image_z</th><th>theta_image_g</th><th>theta_image_r</th><th>theta_image_i</th><th>theta_image_z</th></tr></thead>\n",
       "<thead><tr><th>int64</th><th>float64</th><th>float64</th><th>float64</th><th>float64</th><th>float64</th><th>float64</th><th>float64</th><th>float64</th><th>float64</th><th>float64</th><th>float64</th><th>int64</th><th>float64</th><th>float64</th><th>float64</th><th>float64</th><th>float64</th><th>float64</th><th>float64</th><th>float64</th><th>int64</th><th>float64</th><th>float64</th><th>float64</th><th>float64</th><th>float64</th><th>float64</th><th>float64</th><th>float64</th><th>bytes18</th><th>float32</th><th>float32</th><th>float32</th><th>float32</th><th>int64</th><th>float64</th><th>float64</th><th>float64</th><th>float64</th><th>float64</th><th>float64</th><th>float64</th><th>float64</th><th>float64</th><th>float64</th><th>int16</th><th>int16</th><th>int16</th><th>int16</th><th>float64</th><th>float64</th><th>float64</th><th>float64</th><th>float64</th><th>float64</th><th>float64</th><th>float64</th><th>float32</th><th>float32</th><th>float32</th><th>float32</th><th>int16</th><th>int16</th><th>int16</th><th>int16</th><th>int16</th><th>int16</th><th>int16</th><th>int16</th><th>float64</th><th>float64</th><th>float64</th><th>float64</th><th>float64</th><th>float64</th><th>float64</th><th>float64</th><th>float64</th><th>float64</th><th>float64</th><th>float64</th></tr></thead>\n",
       "<tr><td>11227800019447</td><td>127.25860781580793</td><td>-86.86278198637089</td><td>18.878121622282237</td><td>6.0</td><td>12.8081</td><td>46.5364</td><td>114.8</td><td>37.31181893845611</td><td>1.0</td><td>2.25</td><td>0.25</td><td>11227800019447</td><td>18.994827</td><td>0.00308</td><td>18.665041</td><td>0.003582</td><td>18.878056</td><td>0.003885</td><td>99.0</td><td>99.0</td><td>472915448907</td><td>18.302986</td><td>0.119746</td><td>18.018005</td><td>0.153458</td><td>--</td><td>--</td><td>17.21993</td><td>0.25502</td><td>1199m864_b0-010222</td><td>15.466</td><td>0.019</td><td>14.372</td><td>0.014</td><td>5189527791695373440</td><td>0.092543</td><td>-0.0400066129121316</td><td>0.209854</td><td>0.083448334264281</td><td>0.222695</td><td>--</td><td>--</td><td>0.0</td><td>0.999777</td><td>0.000223</td><td>0</td><td>0</td><td>0</td><td>99</td><td>19.091763</td><td>0.00429</td><td>18.66133</td><td>0.001994</td><td>19.076056</td><td>0.003447</td><td>99.0</td><td>99.0</td><td>267.0</td><td>267.0</td><td>333.0</td><td>-1.0</td><td>4</td><td>6</td><td>4</td><td>0</td><td>0</td><td>0</td><td>0</td><td>-9</td><td>2.721455</td><td>2.188689</td><td>2.505049</td><td>-1.0</td><td>2.263854</td><td>2.101247</td><td>2.296181</td><td>-1.0</td><td>29.0009</td><td>23.58089</td><td>8.274858</td><td>-1.0</td></tr>\n",
       "</table>"
      ],
      "text/plain": [
       "<Row index=547006>\n",
       "      id               ra                dec                mag            nb   chi2_agngal chi2_gal chi2_star        BIC           Fp   zphot_agngal zphot_gal quick_object_id mag_auto_g magerr_auto_g mag_auto_i magerr_auto_i mag_auto_r magerr_auto_r mag_auto_z magerr_auto_z sourceid_vhs ypetromag ypetromagerr jpetromag jpetromagerr hpetromag hpetromagerr kspetromag kspetromagerr source_id_catwise   w1mpro w1sigmpro  w2mpro w2sigmpro      source_id         pm           pmdec        pmdec_error        pmra       pmra_error radial_velocity radial_velocity_error classprob_dsc_combmod_galaxy classprob_dsc_combmod_quasar classprob_dsc_combmod_star flags_g flags_r flags_i flags_z wavg_mag_auto_g wavg_magerr_auto_g wavg_mag_auto_i wavg_magerr_auto_i wavg_mag_auto_r wavg_magerr_auto_r wavg_mag_auto_z wavg_magerr_auto_z exptime_g exptime_r exptime_i exptime_z nepochs_g nepochs_r nepochs_i nepochs_z extended_class_g extended_class_r extended_class_i extended_class_z a_image_g a_image_r a_image_i a_image_z b_image_g b_image_r b_image_i b_image_z theta_image_g theta_image_r theta_image_i theta_image_z\n",
       "    int64           float64            float64            float64       float64   float64   float64   float64       float64      float64   float64     float64       int64       float64      float64     float64      float64     float64      float64     float64      float64       int64      float64    float64     float64    float64     float64    float64     float64      float64         bytes18       float32  float32  float32  float32         int64        float64        float64         float64        float64       float64       float64            float64                  float64                      float64                     float64            int16   int16   int16   int16      float64          float64           float64          float64           float64          float64           float64          float64        float32   float32   float32   float32    int16     int16     int16     int16        int16            int16            int16            int16        float64   float64   float64   float64   float64   float64   float64   float64     float64       float64       float64       float64   \n",
       "-------------- ------------------ ------------------ ------------------ ------- ----------- -------- --------- ----------------- ------- ------------ --------- --------------- ---------- ------------- ---------- ------------- ---------- ------------- ---------- ------------- ------------ --------- ------------ --------- ------------ --------- ------------ ---------- ------------- ------------------ ------- --------- ------- --------- ------------------- -------- ------------------- ----------- ----------------- ---------- --------------- --------------------- ---------------------------- ---------------------------- -------------------------- ------- ------- ------- ------- --------------- ------------------ --------------- ------------------ --------------- ------------------ --------------- ------------------ --------- --------- --------- --------- --------- --------- --------- --------- ---------------- ---------------- ---------------- ---------------- --------- --------- --------- --------- --------- --------- --------- --------- ------------- ------------- ------------- -------------\n",
       "11227800019447 127.25860781580793 -86.86278198637089 18.878121622282237     6.0     12.8081  46.5364     114.8 37.31181893845611     1.0         2.25      0.25  11227800019447  18.994827       0.00308  18.665041      0.003582  18.878056      0.003885       99.0          99.0 472915448907 18.302986     0.119746 18.018005     0.153458        --           --   17.21993       0.25502 1199m864_b0-010222  15.466     0.019  14.372     0.014 5189527791695373440 0.092543 -0.0400066129121316    0.209854 0.083448334264281   0.222695              --                    --                          0.0                     0.999777                   0.000223       0       0       0      99       19.091763            0.00429        18.66133           0.001994       19.076056           0.003447            99.0               99.0     267.0     267.0     333.0      -1.0         4         6         4         0                0                0                0               -9  2.721455  2.188689  2.505049      -1.0  2.263854  2.101247  2.296181      -1.0       29.0009      23.58089      8.274858          -1.0"
      ]
     },
     "execution_count": 28,
     "metadata": {},
     "output_type": "execute_result"
    }
   ],
   "source": [
    "BIC_cat[j[0][0]]"
   ]
  },
  {
   "cell_type": "code",
   "execution_count": 29,
   "id": "485cce0d-3f9f-4096-aa13-3b74760f265f",
   "metadata": {
    "tags": []
   },
   "outputs": [
    {
     "data": {
      "text/html": [
       "<div><i>Table length=0</i>\n",
       "<table id=\"table47770471158672\" class=\"table-striped table-bordered table-condensed\">\n",
       "<thead><tr><th>id</th><th>ra</th><th>dec</th><th>mag</th><th>nb</th><th>chi2_agngal</th><th>chi2_gal</th><th>chi2_star</th><th>BIC</th><th>Fp</th><th>zphot_agngal</th><th>zphot_gal</th><th>quick_object_id</th><th>mag_auto_g</th><th>magerr_auto_g</th><th>mag_auto_i</th><th>magerr_auto_i</th><th>mag_auto_r</th><th>magerr_auto_r</th><th>mag_auto_z</th><th>magerr_auto_z</th><th>sourceid_vhs</th><th>ypetromag</th><th>ypetromagerr</th><th>jpetromag</th><th>jpetromagerr</th><th>hpetromag</th><th>hpetromagerr</th><th>kspetromag</th><th>kspetromagerr</th><th>source_id_catwise</th><th>w1mpro</th><th>w1sigmpro</th><th>w2mpro</th><th>w2sigmpro</th><th>source_id</th><th>pm</th><th>pmdec</th><th>pmdec_error</th><th>pmra</th><th>pmra_error</th><th>radial_velocity</th><th>radial_velocity_error</th><th>classprob_dsc_combmod_galaxy</th><th>classprob_dsc_combmod_quasar</th><th>classprob_dsc_combmod_star</th><th>flags_g</th><th>flags_r</th><th>flags_i</th><th>flags_z</th><th>wavg_mag_auto_g</th><th>wavg_magerr_auto_g</th><th>wavg_mag_auto_i</th><th>wavg_magerr_auto_i</th><th>wavg_mag_auto_r</th><th>wavg_magerr_auto_r</th><th>wavg_mag_auto_z</th><th>wavg_magerr_auto_z</th><th>exptime_g</th><th>exptime_r</th><th>exptime_i</th><th>exptime_z</th><th>nepochs_g</th><th>nepochs_r</th><th>nepochs_i</th><th>nepochs_z</th><th>extended_class_g</th><th>extended_class_r</th><th>extended_class_i</th><th>extended_class_z</th><th>a_image_g</th><th>a_image_r</th><th>a_image_i</th><th>a_image_z</th><th>b_image_g</th><th>b_image_r</th><th>b_image_i</th><th>b_image_z</th><th>theta_image_g</th><th>theta_image_r</th><th>theta_image_i</th><th>theta_image_z</th><th>Selection</th></tr></thead>\n",
       "<thead><tr><th>int64</th><th>float64</th><th>float64</th><th>float64</th><th>float64</th><th>float64</th><th>float64</th><th>float64</th><th>float64</th><th>float64</th><th>float64</th><th>float64</th><th>int64</th><th>float64</th><th>float64</th><th>float64</th><th>float64</th><th>float64</th><th>float64</th><th>float64</th><th>float64</th><th>int64</th><th>float64</th><th>float64</th><th>float64</th><th>float64</th><th>float64</th><th>float64</th><th>float64</th><th>float64</th><th>bytes18</th><th>float32</th><th>float32</th><th>float32</th><th>float32</th><th>int64</th><th>float64</th><th>float64</th><th>float64</th><th>float64</th><th>float64</th><th>float64</th><th>float64</th><th>float64</th><th>float64</th><th>float64</th><th>int16</th><th>int16</th><th>int16</th><th>int16</th><th>float64</th><th>float64</th><th>float64</th><th>float64</th><th>float64</th><th>float64</th><th>float64</th><th>float64</th><th>float32</th><th>float32</th><th>float32</th><th>float32</th><th>int16</th><th>int16</th><th>int16</th><th>int16</th><th>int16</th><th>int16</th><th>int16</th><th>int16</th><th>float64</th><th>float64</th><th>float64</th><th>float64</th><th>float64</th><th>float64</th><th>float64</th><th>float64</th><th>float64</th><th>float64</th><th>float64</th><th>float64</th><th>bytes3</th></tr></thead>\n",
       "</table></div>"
      ],
      "text/plain": [
       "<Table length=0>\n",
       "  id     ra     dec     mag   ... theta_image_i theta_image_z Selection\n",
       "int64 float64 float64 float64 ...    float64       float64      bytes3 \n",
       "----- ------- ------- ------- ... ------------- ------------- ---------"
      ]
     },
     "execution_count": 29,
     "metadata": {},
     "output_type": "execute_result"
    }
   ],
   "source": [
    "wide[kk & (wide['Selection']=='BIC')] # & (wide['ra']>120) & (wide['ra']<135)]"
   ]
  },
  {
   "cell_type": "code",
   "execution_count": null,
   "id": "33054308-0548-433c-8a6f-cd4da471fb86",
   "metadata": {},
   "outputs": [],
   "source": []
  },
  {
   "cell_type": "code",
   "execution_count": null,
   "id": "14585388-c06d-41d1-878f-2d685942f068",
   "metadata": {},
   "outputs": [],
   "source": []
  }
 ],
 "metadata": {
  "kernelspec": {
   "display_name": "Python 3 (ipykernel)",
   "language": "python",
   "name": "python3"
  },
  "language_info": {
   "codemirror_mode": {
    "name": "ipython",
    "version": 3
   },
   "file_extension": ".py",
   "mimetype": "text/x-python",
   "name": "python",
   "nbconvert_exporter": "python",
   "pygments_lexer": "ipython3",
   "version": "3.7.13"
  }
 },
 "nbformat": 4,
 "nbformat_minor": 5
}
