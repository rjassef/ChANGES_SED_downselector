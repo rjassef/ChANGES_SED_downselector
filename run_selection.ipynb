{
 "cells": [
  {
   "cell_type": "code",
   "execution_count": 1,
   "metadata": {
    "tags": []
   },
   "outputs": [],
   "source": [
    "from downselector import downselect"
   ]
  },
  {
   "cell_type": "markdown",
   "metadata": {},
   "source": [
    "## WIDE survey\n",
    "\n",
    "All southern sky limited to $r<21.5$"
   ]
  },
  {
   "cell_type": "code",
   "execution_count": null,
   "metadata": {},
   "outputs": [],
   "source": [
    "downselect(\"Master_AGN_Catalog.downselected.wide.nostarcut.v1.1.fits\",star_rejection=False)"
   ]
  },
  {
   "cell_type": "code",
   "execution_count": null,
   "metadata": {},
   "outputs": [],
   "source": [
    "downselect(\"Master_AGN_Catalog.downselected.wide.v1.1.fits\",star_rejection=True)"
   ]
  },
  {
   "cell_type": "markdown",
   "metadata": {},
   "source": [
    "## Deep survey\n",
    "\n",
    "Vikings Equatorial field limited to $r<22.5$. \n",
    "\n",
    "According to [Edge et al. (2013)](http://www.eso.org/sci/publications/messenger/archive/no.154-dec13/messenger-no154-32-34.pdf), the definition of the VIKING fields are:\n",
    "\n",
    "*The VIKING survey area is split into two areas: an equatorial strip between right ascension\n",
    "9 and 15.8 hours and 8 degrees wide; and a strip over the South Galactic Pole between right ascension 22 and 3.5 hours and 10 degrees wide.*\n",
    "\n",
    "Despite lacking some clarity, this must mean that the equatorial strip is defined by R.A. between 9 and 15.8 hours, and declination between -4 and 4 degrees."
   ]
  },
  {
   "cell_type": "code",
   "execution_count": 3,
   "metadata": {
    "tags": []
   },
   "outputs": [],
   "source": [
    "ra_min = 9. * 360./24.\n",
    "ra_max = 15.8 * 360./24.\n",
    "dec_min = -4.\n",
    "dec_max =  4.\n",
    "area_coords = [[[ra_min, ra_max],[dec_min, dec_max]]]"
   ]
  },
  {
   "cell_type": "code",
   "execution_count": 3,
   "metadata": {
    "tags": []
   },
   "outputs": [
    {
     "name": "stdout",
     "output_type": "stream",
     "text": [
      "The median density of F-test sources is 418.2 per sq. deg. Set as target density.\n"
     ]
    },
    {
     "name": "stderr",
     "output_type": "stream",
     "text": [
      "WARNING: MergeConflictWarning: Cannot merge meta key 'DATE-HDU' types <class 'str'> and <class 'str'>, choosing DATE-HDU='2024-01-16T13:59:04' [astropy.utils.metadata]\n"
     ]
    }
   ],
   "source": [
    "downselect(\"Master_AGN_Catalog.downselected.deep.nostarcut.v1.1.fits\",rlim=22.5,\n",
    "           area_coords=area_coords, star_rejection=False)"
   ]
  },
  {
   "cell_type": "code",
   "execution_count": 4,
   "metadata": {
    "tags": []
   },
   "outputs": [
    {
     "name": "stdout",
     "output_type": "stream",
     "text": [
      "The median density of F-test sources is 401.5 per sq. deg. Set as target density.\n"
     ]
    },
    {
     "name": "stderr",
     "output_type": "stream",
     "text": [
      "WARNING: MergeConflictWarning: Cannot merge meta key 'DATE-HDU' types <class 'str'> and <class 'str'>, choosing DATE-HDU='2024-01-16T13:59:04' [astropy.utils.metadata]\n"
     ]
    }
   ],
   "source": [
    "downselect(\"Master_AGN_Catalog.downselected.deep.v1.1.fits\",rlim=22.5,\n",
    "           area_coords=area_coords, star_rejection=True)"
   ]
  },
  {
   "cell_type": "code",
   "execution_count": null,
   "metadata": {},
   "outputs": [],
   "source": []
  }
 ],
 "metadata": {
  "kernelspec": {
   "display_name": "Python 3 (ipykernel)",
   "language": "python",
   "name": "python3"
  },
  "language_info": {
   "codemirror_mode": {
    "name": "ipython",
    "version": 3
   },
   "file_extension": ".py",
   "mimetype": "text/x-python",
   "name": "python",
   "nbconvert_exporter": "python",
   "pygments_lexer": "ipython3",
   "version": "3.7.13"
  },
  "vscode": {
   "interpreter": {
    "hash": "c5c9947dd6d2cb9490e7e806b2d061ec75718173152766211840ea45568b19c1"
   }
  }
 },
 "nbformat": 4,
 "nbformat_minor": 4
}
