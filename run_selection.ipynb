{
 "cells": [
  {
   "cell_type": "code",
   "execution_count": 1,
   "metadata": {
    "tags": []
   },
   "outputs": [],
   "source": [
    "from downselector import downselect\n",
    "from astropy.table import Table\n",
    "from healpyHelper import HealpyHelper"
   ]
  },
  {
   "cell_type": "markdown",
   "metadata": {},
   "source": [
    "## WIDE survey\n",
    "\n",
    "All southern sky limited to $r<21.5$"
   ]
  },
  {
   "cell_type": "code",
   "execution_count": 2,
   "metadata": {},
   "outputs": [
    {
     "name": "stdout",
     "output_type": "stream",
     "text": [
      "The median density of F-test sources is 77.4 per sq. deg. Set as target density.\n"
     ]
    },
    {
     "name": "stderr",
     "output_type": "stream",
     "text": [
      "WARNING: MergeConflictWarning: Cannot merge meta key 'DATE-HDU' types <class 'str'> and <class 'str'>, choosing DATE-HDU='2024-01-16T13:59:04' [astropy.utils.metadata]\n"
     ]
    }
   ],
   "source": [
    "downselect(\"Master_AGN_Catalog.downselected.wide.nostarcut.v1.1.fits\",star_rejection=False)"
   ]
  },
  {
   "cell_type": "code",
   "execution_count": 3,
   "metadata": {},
   "outputs": [
    {
     "name": "stdout",
     "output_type": "stream",
     "text": [
      "The median density of F-test sources is 76.3 per sq. deg. Set as target density.\n"
     ]
    },
    {
     "name": "stderr",
     "output_type": "stream",
     "text": [
      "WARNING: MergeConflictWarning: Cannot merge meta key 'DATE-HDU' types <class 'str'> and <class 'str'>, choosing DATE-HDU='2024-01-16T13:59:04' [astropy.utils.metadata]\n"
     ]
    }
   ],
   "source": [
    "downselect(\"Master_AGN_Catalog.downselected.wide.v1.1.fits\",star_rejection=True)"
   ]
  },
  {
   "cell_type": "markdown",
   "metadata": {},
   "source": [
    "## Medium survey\n",
    "\n",
    "Vikings Equatorial field limited to $r<22.5$. \n",
    "\n",
    "According to [Edge et al. (2013)](http://www.eso.org/sci/publications/messenger/archive/no.154-dec13/messenger-no154-32-34.pdf), the definition of the VIKING fields are:\n",
    "\n",
    "*The VIKING survey area is split into two areas: an equatorial strip between right ascension\n",
    "9 and 15.8 hours and 8 degrees wide; and a strip over the South Galactic Pole between right ascension 22 and 3.5 hours and 10 degrees wide.*\n",
    "\n",
    "Despite lacking some clarity, this must mean that the equatorial strip is defined by R.A. between 9 and 15.8 hours, and declination between -4 and 4 degrees.\n",
    "\n",
    "#### Update\n",
    "\n",
    "Franz has clarified that the region to target is RA=157-225 deg and DEC = -4 to +4. "
   ]
  },
  {
   "cell_type": "code",
   "execution_count": 4,
   "metadata": {
    "tags": []
   },
   "outputs": [],
   "source": [
    "ra_min = 157.\n",
    "ra_max = 225.\n",
    "dec_min = -4.\n",
    "dec_max =  4.\n",
    "area_coords = [[[ra_min, ra_max],[dec_min, dec_max]]]"
   ]
  },
  {
   "cell_type": "code",
   "execution_count": 5,
   "metadata": {},
   "outputs": [],
   "source": [
    "wide = Table.read(\"Master_AGN_Catalog.downselected.wide.v1.1.fits\")"
   ]
  },
  {
   "cell_type": "code",
   "execution_count": 6,
   "metadata": {
    "tags": []
   },
   "outputs": [
    {
     "name": "stdout",
     "output_type": "stream",
     "text": [
      "The median density of F-test sources is 363.4 per sq. deg. Set as target density.\n"
     ]
    },
    {
     "name": "stderr",
     "output_type": "stream",
     "text": [
      "WARNING: MergeConflictWarning: Cannot merge meta key 'DATE-HDU' types <class 'str'> and <class 'str'>, choosing DATE-HDU='2024-01-16T13:59:04' [astropy.utils.metadata]\n"
     ]
    }
   ],
   "source": [
    "downselect(\"Master_AGN_Catalog.downselected.medium.nostarcut.v1.1.fits\",rlim=22.5,\n",
    "           area_coords=area_coords, star_rejection=False, blocked_ids=wide['id'])"
   ]
  },
  {
   "cell_type": "code",
   "execution_count": 7,
   "metadata": {
    "tags": []
   },
   "outputs": [
    {
     "name": "stdout",
     "output_type": "stream",
     "text": [
      "The median density of F-test sources is 347.3 per sq. deg. Set as target density.\n"
     ]
    },
    {
     "name": "stderr",
     "output_type": "stream",
     "text": [
      "WARNING: MergeConflictWarning: Cannot merge meta key 'DATE-HDU' types <class 'str'> and <class 'str'>, choosing DATE-HDU='2024-01-16T13:59:04' [astropy.utils.metadata]\n"
     ]
    }
   ],
   "source": [
    "downselect(\"Master_AGN_Catalog.downselected.medium.v1.1.fits\",rlim=22.5,\n",
    "           area_coords=area_coords, star_rejection=True, blocked_ids=wide['id'])"
   ]
  },
  {
   "cell_type": "markdown",
   "metadata": {},
   "source": [
    "## Regions missing r-band"
   ]
  },
  {
   "cell_type": "code",
   "execution_count": 8,
   "metadata": {
    "tags": []
   },
   "outputs": [],
   "source": [
    "#Read the full catalogs\n",
    "Fcat = Table.read(\"../Victoria_v1.1_SED_catalogs/Master_Catalog_F_test_AGN_full_photometry.fits\")\n",
    "BIC_cat = Table.read(\"../Victoria_v1.1_SED_catalogs/Master_Catalog_BIC_AGN_nb_le_6_full_photometry.fits\")"
   ]
  },
  {
   "cell_type": "code",
   "execution_count": 9,
   "metadata": {
    "tags": []
   },
   "outputs": [],
   "source": [
    "#Now, read the wide survey catalog. We want to only process sources in healpix cells with no sources in the wide survey. \n",
    "wide = Table.read(\"Master_AGN_Catalog.downselected.wide.v1.1.fits\")"
   ]
  },
  {
   "cell_type": "code",
   "execution_count": 10,
   "metadata": {
    "tags": []
   },
   "outputs": [],
   "source": [
    "#Get the healpix distribution of sources in the wide survey. \n",
    "hph = HealpyHelper(NSIDE = 64)\n",
    "h_wide = hph.get_h(wide['ra'], wide['dec'])"
   ]
  },
  {
   "cell_type": "code",
   "execution_count": 11,
   "metadata": {
    "tags": []
   },
   "outputs": [],
   "source": [
    "#Get the index number of sources in the Fcat and BIC_cat catalogs, and limit them to only sources that live in healpix cells where the wide survey is empty. \n",
    "n_F = hph.get_n(Fcat['ra'], Fcat['dec'])\n",
    "Fcat = Fcat[h_wide[n_F]==0]\n",
    "n_B = hph.get_n(BIC_cat['ra'], BIC_cat['dec'])\n",
    "BIC_cat = BIC_cat[h_wide[n_B]==0]"
   ]
  },
  {
   "cell_type": "code",
   "execution_count": 12,
   "metadata": {
    "tags": []
   },
   "outputs": [
    {
     "name": "stdout",
     "output_type": "stream",
     "text": [
      "The median density of F-test sources is 15.5 per sq. deg. Set as target density.\n"
     ]
    },
    {
     "name": "stderr",
     "output_type": "stream",
     "text": [
      "WARNING: MergeConflictWarning: Cannot merge meta key 'DATE-HDU' types <class 'str'> and <class 'str'>, choosing DATE-HDU='2024-01-16T13:59:04' [astropy.utils.metadata]\n"
     ]
    }
   ],
   "source": [
    "downselect(\"Master_AGN_Catalog.downselected.no_r_regions.nostarcut.v1.1.fits\",rlim=100.,\n",
    "           star_rejection=False, Fcat_initial=Fcat, BIC_cat_inital=BIC_cat)"
   ]
  },
  {
   "cell_type": "code",
   "execution_count": 13,
   "metadata": {
    "tags": []
   },
   "outputs": [
    {
     "name": "stdout",
     "output_type": "stream",
     "text": [
      "The median density of F-test sources is 14.3 per sq. deg. Set as target density.\n"
     ]
    },
    {
     "name": "stderr",
     "output_type": "stream",
     "text": [
      "WARNING: MergeConflictWarning: Cannot merge meta key 'DATE-HDU' types <class 'str'> and <class 'str'>, choosing DATE-HDU='2024-01-16T13:59:04' [astropy.utils.metadata]\n"
     ]
    }
   ],
   "source": [
    "downselect(\"Master_AGN_Catalog.downselected.no_r_regions.v1.1.fits\",rlim=100.,\n",
    "           star_rejection=True, Fcat_initial=Fcat, BIC_cat_inital=BIC_cat, no_r_survey=True)"
   ]
  },
  {
   "cell_type": "code",
   "execution_count": null,
   "metadata": {},
   "outputs": [],
   "source": []
  }
 ],
 "metadata": {
  "kernelspec": {
   "display_name": "Python 3 (ipykernel)",
   "language": "python",
   "name": "python3"
  },
  "language_info": {
   "codemirror_mode": {
    "name": "ipython",
    "version": 3
   },
   "file_extension": ".py",
   "mimetype": "text/x-python",
   "name": "python",
   "nbconvert_exporter": "python",
   "pygments_lexer": "ipython3",
   "version": "3.7.13"
  },
  "vscode": {
   "interpreter": {
    "hash": "c5c9947dd6d2cb9490e7e806b2d061ec75718173152766211840ea45568b19c1"
   }
  }
 },
 "nbformat": 4,
 "nbformat_minor": 4
}
