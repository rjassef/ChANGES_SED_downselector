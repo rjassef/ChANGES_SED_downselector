{
 "cells": [
  {
   "cell_type": "code",
   "execution_count": 1,
   "id": "4a18b62b-6115-4803-8d0e-0597ebdc3b39",
   "metadata": {
    "tags": []
   },
   "outputs": [],
   "source": [
    "import numpy as np\n",
    "from astropy.table import Table\n",
    "from astropy.coordinates import SkyCoord\n",
    "import astropy.units as u"
   ]
  },
  {
   "cell_type": "code",
   "execution_count": 2,
   "id": "fe175a78-8ea8-4206-93e0-491d2b67188e",
   "metadata": {
    "tags": []
   },
   "outputs": [],
   "source": [
    "#Read the SDSS DR18 spectra\n",
    "sdss = Table.read(\"../../SPECZ/SPECZ/SDSS18_spz.fits\")"
   ]
  },
  {
   "cell_type": "code",
   "execution_count": 3,
   "id": "580cd700-dafb-4a73-8455-6aa00b477823",
   "metadata": {
    "tags": []
   },
   "outputs": [],
   "source": [
    "#Create the coordinate object for SDSS spectra\n",
    "c_sdss = SkyCoord(ra=sdss['ra']*u.deg, dec=sdss['dec']*u.deg)"
   ]
  },
  {
   "cell_type": "code",
   "execution_count": 4,
   "id": "77fd5aa1-44da-4fc0-95d1-5d1beae49b26",
   "metadata": {
    "tags": []
   },
   "outputs": [
    {
     "data": {
      "text/plain": [
       "['ra', 'dec', 'z', 'zWarning', 'class', 'subclass']"
      ]
     },
     "execution_count": 4,
     "metadata": {},
     "output_type": "execute_result"
    }
   ],
   "source": [
    "sdss.colnames"
   ]
  },
  {
   "cell_type": "markdown",
   "id": "61fe9abe-b3b1-4dc5-a6d4-ff7e94eb283a",
   "metadata": {},
   "source": [
    "## WIDE"
   ]
  },
  {
   "cell_type": "code",
   "execution_count": 5,
   "id": "2bb196d5-deda-4b95-a441-5f1a4420c4ce",
   "metadata": {
    "tags": []
   },
   "outputs": [],
   "source": [
    "#Read the wide survey.\n",
    "wide = Table.read(\"../Master_AGN_Catalog.downselected.wide.v1.1.fits\")"
   ]
  },
  {
   "cell_type": "code",
   "execution_count": 6,
   "id": "63e51fd5-3219-4cba-9454-c55897f9c42d",
   "metadata": {
    "tags": []
   },
   "outputs": [],
   "source": [
    "#Create the coordinates object\n",
    "c_w = SkyCoord(ra=wide['ra']*u.deg, dec=wide['dec']*u.deg)"
   ]
  },
  {
   "cell_type": "code",
   "execution_count": 7,
   "id": "c4577c8a-9e45-4202-a7a7-7e03a27b72df",
   "metadata": {
    "tags": []
   },
   "outputs": [],
   "source": [
    "#Match to SDSS\n",
    "idw, d2dw, _ = c_w.match_to_catalog_sky(c_sdss)"
   ]
  },
  {
   "cell_type": "code",
   "execution_count": 8,
   "id": "cce5ef0c-69df-4631-b850-4dc947c657b7",
   "metadata": {
    "tags": []
   },
   "outputs": [],
   "source": [
    "#Restrict matches to objects within 2\". \n",
    "dcond_w = d2dw<2.0*u.arcsec\n",
    "sdss_matched_w = sdss[idw[dcond_w]]"
   ]
  },
  {
   "cell_type": "code",
   "execution_count": 9,
   "id": "ba037819-9859-42f4-b406-99fed9d70a83",
   "metadata": {
    "tags": []
   },
   "outputs": [
    {
     "name": "stdout",
     "output_type": "stream",
     "text": [
      "Of the 50052 wide survey objects matched in SDSS DR18, we find that:\n",
      "987 (1.97\\%) are GALAXY in SDSS\n",
      "49021 (97.94\\%) are QSO in SDSS\n",
      "44 (0.09\\%) are STAR in SDSS\n"
     ]
    }
   ],
   "source": [
    "stypes = np.unique(sdss_matched_w['class'])\n",
    "print(\"Of the {} wide survey objects matched in SDSS DR18, we find that:\".format(len(sdss_matched_w)))\n",
    "for stype in stypes:\n",
    "    n = len(sdss_matched_w[sdss_matched_w['class']==stype])\n",
    "    p = n/len(sdss_matched_w) * 100.\n",
    "    print(\"{} ({:.2f}\\%) are {} in SDSS\".format(n, p, stype))"
   ]
  },
  {
   "cell_type": "markdown",
   "id": "2c71a9bd-f0a7-441a-a1b4-617dd2e5d2b3",
   "metadata": {},
   "source": [
    "## Medium"
   ]
  },
  {
   "cell_type": "code",
   "execution_count": 10,
   "id": "98e18ff8-0089-4b9a-a434-b9497a6a1ec1",
   "metadata": {
    "tags": []
   },
   "outputs": [],
   "source": [
    "#Read the medium survey.\n",
    "med = Table.read(\"../Master_AGN_Catalog.downselected.medium.v1.1.fits\")"
   ]
  },
  {
   "cell_type": "code",
   "execution_count": 11,
   "id": "23bccf23-28c7-4004-a05a-3554d26b5ef7",
   "metadata": {
    "tags": []
   },
   "outputs": [],
   "source": [
    "#Create the coordinates object\n",
    "c_m = SkyCoord(ra=med['ra']*u.deg, dec=med['dec']*u.deg)"
   ]
  },
  {
   "cell_type": "code",
   "execution_count": 12,
   "id": "c38ff722-5176-42ab-b401-eef1c3c0999e",
   "metadata": {
    "tags": []
   },
   "outputs": [],
   "source": [
    "#Match to SDSS\n",
    "idm, d2dm, _ = c_m.match_to_catalog_sky(c_sdss)"
   ]
  },
  {
   "cell_type": "code",
   "execution_count": 13,
   "id": "7d40a9bf-1232-4f38-9d34-c30f609d72bd",
   "metadata": {
    "tags": []
   },
   "outputs": [],
   "source": [
    "#Restrict matches to objects within 2\". \n",
    "dcond_m = d2dm<2.0*u.arcsec\n",
    "sdss_matched_m = sdss[idm[dcond_m]]"
   ]
  },
  {
   "cell_type": "code",
   "execution_count": 14,
   "id": "9d8212b3-fbc8-4776-9cc2-81830c39cbc0",
   "metadata": {
    "tags": []
   },
   "outputs": [
    {
     "name": "stdout",
     "output_type": "stream",
     "text": [
      "Of the 12416 wide survey objects matched in SDSS DR18, we find that:\n",
      "543 (4.37\\%) are GALAXY in SDSS\n",
      "11744 (94.59\\%) are QSO in SDSS\n",
      "129 (1.04\\%) are STAR in SDSS\n"
     ]
    }
   ],
   "source": [
    "stypes = np.unique(sdss_matched_m['class'])\n",
    "print(\"Of the {} wide survey objects matched in SDSS DR18, we find that:\".format(len(sdss_matched_m)))\n",
    "for stype in stypes:\n",
    "    n = len(sdss_matched_m[sdss_matched_m['class']==stype])\n",
    "    p = n/len(sdss_matched_m) * 100.\n",
    "    print(\"{} ({:.2f}\\%) are {} in SDSS\".format(n, p, stype))"
   ]
  },
  {
   "cell_type": "markdown",
   "id": "e4a1e561-de19-4c3f-940f-54798ddbc86c",
   "metadata": {},
   "source": [
    "## No r-band"
   ]
  },
  {
   "cell_type": "code",
   "execution_count": 15,
   "id": "df2ae226-2fe9-4aa1-9b9c-7e698271b3ce",
   "metadata": {
    "tags": []
   },
   "outputs": [],
   "source": [
    "#Read the no r-band survey.\n",
    "nr = Table.read(\"../Master_AGN_Catalog.downselected.no_r_regions.v1.1.fits\")"
   ]
  },
  {
   "cell_type": "code",
   "execution_count": 16,
   "id": "28913c48-574c-42ca-bb30-399ee5c64f6b",
   "metadata": {
    "tags": []
   },
   "outputs": [],
   "source": [
    "#Create the coordinates object\n",
    "c_nr = SkyCoord(ra=nr['ra']*u.deg, dec=nr['dec']*u.deg)"
   ]
  },
  {
   "cell_type": "code",
   "execution_count": 17,
   "id": "07a7ff64-87aa-40f1-ac4b-575bafad8988",
   "metadata": {
    "tags": []
   },
   "outputs": [],
   "source": [
    "#Match to SDSS\n",
    "idn, d2dn, _ = c_nr.match_to_catalog_sky(c_sdss)"
   ]
  },
  {
   "cell_type": "code",
   "execution_count": 18,
   "id": "a3eb4451-d500-4664-93c2-8b42707d34ec",
   "metadata": {
    "tags": []
   },
   "outputs": [
    {
     "name": "stdout",
     "output_type": "stream",
     "text": [
      "13\n"
     ]
    }
   ],
   "source": [
    "#Restrict matches to objects within 2\". \n",
    "dcond_n = d2dn<2.0*u.arcsec\n",
    "sdss_matched_n = sdss[idn[dcond_n]]\n",
    "print(len(sdss_matched_n))"
   ]
  },
  {
   "cell_type": "code",
   "execution_count": 19,
   "id": "a935dd65-7de4-4202-b8ed-7be87f2a8f63",
   "metadata": {
    "tags": []
   },
   "outputs": [
    {
     "name": "stdout",
     "output_type": "stream",
     "text": [
      "Of the 13 wide survey objects matched in SDSS DR18, we find that:\n",
      "3 (23.08\\%) are GALAXY in SDSS\n",
      "10 (76.92\\%) are QSO in SDSS\n"
     ]
    }
   ],
   "source": [
    "stypes = np.unique(sdss_matched_n['class'])\n",
    "print(\"Of the {} wide survey objects matched in SDSS DR18, we find that:\".format(len(sdss_matched_n)))\n",
    "for stype in stypes:\n",
    "    n = len(sdss_matched_n[sdss_matched_n['class']==stype])\n",
    "    p = n/len(sdss_matched_n) * 100.\n",
    "    print(\"{} ({:.2f}\\%) are {} in SDSS\".format(n, p, stype))"
   ]
  },
  {
   "cell_type": "code",
   "execution_count": null,
   "id": "73d8d146-0c8c-409c-affa-741a5c9ab1e5",
   "metadata": {},
   "outputs": [],
   "source": []
  }
 ],
 "metadata": {
  "kernelspec": {
   "display_name": "Python 3 (ipykernel)",
   "language": "python",
   "name": "python3"
  },
  "language_info": {
   "codemirror_mode": {
    "name": "ipython",
    "version": 3
   },
   "file_extension": ".py",
   "mimetype": "text/x-python",
   "name": "python",
   "nbconvert_exporter": "python",
   "pygments_lexer": "ipython3",
   "version": "3.7.13"
  }
 },
 "nbformat": 4,
 "nbformat_minor": 5
}
