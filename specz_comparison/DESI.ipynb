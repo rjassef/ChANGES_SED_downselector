{
 "cells": [
  {
   "cell_type": "code",
   "execution_count": 1,
   "id": "c25befa5-2792-4f83-9ce4-2bdc95698c3f",
   "metadata": {
    "tags": []
   },
   "outputs": [],
   "source": [
    "import numpy as np\n",
    "from astropy.table import Table\n",
    "from astropy.coordinates import SkyCoord\n",
    "import astropy.units as u"
   ]
  },
  {
   "cell_type": "code",
   "execution_count": 2,
   "id": "eceb8f0f-9e3c-4d94-8af6-2177043845d4",
   "metadata": {
    "tags": []
   },
   "outputs": [],
   "source": [
    "#Read the DESI EDR spectra\n",
    "desi = Table.read(\"../../SPECZ/SPECZ/DESI_EDR.fits\")"
   ]
  },
  {
   "cell_type": "code",
   "execution_count": 3,
   "id": "a69884cb-93a1-47b0-9351-633ab155079c",
   "metadata": {
    "tags": []
   },
   "outputs": [],
   "source": [
    "#Create the coordinate object for DESI EDR spectra\n",
    "c_desi = SkyCoord(ra=desi['mean_fiber_ra'], dec=desi['mean_fiber_dec'])"
   ]
  },
  {
   "cell_type": "markdown",
   "id": "2ef98492-5741-48b9-be31-f9b8315d56b1",
   "metadata": {},
   "source": [
    "## WIDE"
   ]
  },
  {
   "cell_type": "code",
   "execution_count": 4,
   "id": "f8a0b609-9040-46cd-a998-84d56c3e0bd1",
   "metadata": {
    "tags": []
   },
   "outputs": [],
   "source": [
    "#Read the wide survey.\n",
    "wide = Table.read(\"../Master_AGN_Catalog.downselected.wide.v1.1.fits\")"
   ]
  },
  {
   "cell_type": "code",
   "execution_count": 5,
   "id": "e10da2a8-a9c9-437a-8189-6d07d7f62cc8",
   "metadata": {
    "tags": []
   },
   "outputs": [],
   "source": [
    "#Create the coordinates object\n",
    "c_w = SkyCoord(ra=wide['ra']*u.deg, dec=wide['dec']*u.deg)"
   ]
  },
  {
   "cell_type": "code",
   "execution_count": 6,
   "id": "07e34e32-805c-4486-8857-e0365bc249ac",
   "metadata": {
    "tags": []
   },
   "outputs": [],
   "source": [
    "#Match to DESI\n",
    "idw, d2dw, _ = c_w.match_to_catalog_sky(c_desi)"
   ]
  },
  {
   "cell_type": "code",
   "execution_count": 7,
   "id": "6e1fa2f6-2bc1-42d0-812a-ee7f69b7dc86",
   "metadata": {
    "tags": []
   },
   "outputs": [],
   "source": [
    "#Restrict matches to objects within 2\". \n",
    "dcond_w = d2dw<2.0*u.arcsec\n",
    "desi_matched_w = desi[idw[dcond_w]]"
   ]
  },
  {
   "cell_type": "code",
   "execution_count": 8,
   "id": "53072b47-8807-4a7a-ab40-d9f0ff2cfa2e",
   "metadata": {
    "tags": []
   },
   "outputs": [
    {
     "name": "stdout",
     "output_type": "stream",
     "text": [
      "Of the 5915 wide survey objects matched in DESI, we find that:\n",
      "990 (16.74\\%) are GALAXY in DESI\n",
      "4864 (82.23\\%) are QSO in DESI\n",
      "61 (1.03\\%) are STAR in DESI\n"
     ]
    }
   ],
   "source": [
    "stypes = np.unique(desi_matched_w['spectype'])\n",
    "print(\"Of the {} wide survey objects matched in DESI, we find that:\".format(len(desi_matched_w)))\n",
    "for stype in stypes:\n",
    "    n = len(desi_matched_w[desi_matched_w['spectype']==stype])\n",
    "    p = n/len(desi_matched_w) * 100.\n",
    "    print(\"{} ({:.2f}\\%) are {} in DESI\".format(n, p, stype))"
   ]
  },
  {
   "cell_type": "markdown",
   "id": "c0c7e15a-ca03-40b8-bd56-8adc654858e6",
   "metadata": {},
   "source": [
    "## Medium"
   ]
  },
  {
   "cell_type": "code",
   "execution_count": 9,
   "id": "8b9e1e27-cb1a-4e7c-836e-126cab1e39af",
   "metadata": {
    "tags": []
   },
   "outputs": [],
   "source": [
    "#Read the medium survey.\n",
    "med = Table.read(\"../Master_AGN_Catalog.downselected.medium.v1.1.fits\")"
   ]
  },
  {
   "cell_type": "code",
   "execution_count": 10,
   "id": "696d70aa-1a1d-48f0-946e-0730a97fd350",
   "metadata": {
    "tags": []
   },
   "outputs": [],
   "source": [
    "#Create the coordinates object\n",
    "c_m = SkyCoord(ra=med['ra']*u.deg, dec=med['dec']*u.deg)"
   ]
  },
  {
   "cell_type": "code",
   "execution_count": 11,
   "id": "9efae557-5c31-4707-bf11-0b2cf7c5f0c4",
   "metadata": {
    "tags": []
   },
   "outputs": [],
   "source": [
    "#Match to DESI\n",
    "idm, d2dm, _ = c_m.match_to_catalog_sky(c_desi)"
   ]
  },
  {
   "cell_type": "code",
   "execution_count": 12,
   "id": "b65a1dfb-e294-4e6b-a08b-fd7c3a450e44",
   "metadata": {
    "tags": []
   },
   "outputs": [],
   "source": [
    "#Restrict matches to objects within 2\". \n",
    "dcond_m = d2dm<2.0*u.arcsec\n",
    "desi_matched_m = desi[idm[dcond_m]]"
   ]
  },
  {
   "cell_type": "code",
   "execution_count": 13,
   "id": "5dc10023-7ac6-49a5-ae4b-b4840b55773f",
   "metadata": {
    "tags": []
   },
   "outputs": [
    {
     "name": "stdout",
     "output_type": "stream",
     "text": [
      "Of the 6554 wide survey objects matched in DESI, we find that:\n",
      "2715 (41.43\\%) are GALAXY in DESI\n",
      "3703 (56.50\\%) are QSO in DESI\n",
      "136 (2.08\\%) are STAR in DESI\n"
     ]
    }
   ],
   "source": [
    "stypes = np.unique(desi_matched_m['spectype'])\n",
    "print(\"Of the {} wide survey objects matched in DESI, we find that:\".format(len(desi_matched_m)))\n",
    "for stype in stypes:\n",
    "    n = len(desi_matched_m[desi_matched_m['spectype']==stype])\n",
    "    p = n/len(desi_matched_m) * 100.\n",
    "    print(\"{} ({:.2f}\\%) are {} in DESI\".format(n, p, stype))"
   ]
  },
  {
   "cell_type": "markdown",
   "id": "ccc34f75-e5f4-4430-9359-a38b533417f9",
   "metadata": {},
   "source": [
    "## No r-band"
   ]
  },
  {
   "cell_type": "code",
   "execution_count": 15,
   "id": "76606805-a546-4be0-bb5c-0563ff37540d",
   "metadata": {
    "tags": []
   },
   "outputs": [],
   "source": [
    "#Read the no r-band survey.\n",
    "nr = Table.read(\"../Master_AGN_Catalog.downselected.no_r_regions.v1.1.fits\")"
   ]
  },
  {
   "cell_type": "code",
   "execution_count": 16,
   "id": "3e4f1e46-2233-4f3f-9307-f50d16a5acd8",
   "metadata": {
    "tags": []
   },
   "outputs": [],
   "source": [
    "#Create the coordinates object\n",
    "c_nr = SkyCoord(ra=nr['ra']*u.deg, dec=nr['dec']*u.deg)"
   ]
  },
  {
   "cell_type": "code",
   "execution_count": 17,
   "id": "59b8b600-effc-4b36-b24f-723269613964",
   "metadata": {
    "tags": []
   },
   "outputs": [],
   "source": [
    "#Match to DESI\n",
    "idn, d2dn, _ = c_nr.match_to_catalog_sky(c_desi)"
   ]
  },
  {
   "cell_type": "code",
   "execution_count": 18,
   "id": "ffaca65c-a2a1-47a6-bd6a-b3f4bca454b4",
   "metadata": {
    "tags": []
   },
   "outputs": [],
   "source": [
    "#Restrict matches to objects within 2\". \n",
    "dcond_n = d2dn<2.0*u.arcsec\n",
    "desi_matched_n = desi[idn[dcond_n]]"
   ]
  },
  {
   "cell_type": "code",
   "execution_count": 19,
   "id": "f4fd7eb4-7281-4668-b33a-a6eee8d94b1a",
   "metadata": {
    "tags": []
   },
   "outputs": [
    {
     "name": "stdout",
     "output_type": "stream",
     "text": [
      "Of the 0 wide survey objects matched in DESI, we find that:\n"
     ]
    }
   ],
   "source": [
    "stypes = np.unique(desi_matched_n['spectype'])\n",
    "print(\"Of the {} wide survey objects matched in DESI, we find that:\".format(len(desi_matched_n)))\n",
    "for stype in stypes:\n",
    "    n = len(desi_matched_n[desi_matched_n['spectype']==stype])\n",
    "    p = n/len(desi_matched_n) * 100.\n",
    "    print(\"{} ({:.2f}\\%) are {} in DESI\".format(n, p, stype))"
   ]
  },
  {
   "cell_type": "code",
   "execution_count": null,
   "id": "ac57155a-ecb4-4c25-ab54-f28016a3d31f",
   "metadata": {},
   "outputs": [],
   "source": []
  }
 ],
 "metadata": {
  "kernelspec": {
   "display_name": "Python 3 (ipykernel)",
   "language": "python",
   "name": "python3"
  },
  "language_info": {
   "codemirror_mode": {
    "name": "ipython",
    "version": 3
   },
   "file_extension": ".py",
   "mimetype": "text/x-python",
   "name": "python",
   "nbconvert_exporter": "python",
   "pygments_lexer": "ipython3",
   "version": "3.7.13"
  }
 },
 "nbformat": 4,
 "nbformat_minor": 5
}
