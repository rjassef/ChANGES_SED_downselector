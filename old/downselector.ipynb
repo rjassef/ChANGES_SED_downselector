{
 "cells": [
  {
   "cell_type": "code",
   "execution_count": 1,
   "metadata": {},
   "outputs": [],
   "source": [
    "import numpy as np\n",
    "import healpy as hp\n",
    "from astropy.table import Table"
   ]
  },
  {
   "cell_type": "code",
   "execution_count": 2,
   "metadata": {},
   "outputs": [],
   "source": [
    "NSIDE = 64\n",
    "npix = hp.nside2npix(NSIDE)\n",
    "total_degrees_in_sky = 4.*np.pi*(180./np.pi)**2\n",
    "area_per_pixel = total_degrees_in_sky/(1.*npix)"
   ]
  },
  {
   "cell_type": "code",
   "execution_count": 3,
   "metadata": {},
   "outputs": [],
   "source": [
    "def radec_to_sph(ra,dc):\n",
    "    \n",
    "    theta = (90.-dc)*np.pi/180.\n",
    "    phi   = ra*np.pi/180.\n",
    "    return theta, phi"
   ]
  },
  {
   "cell_type": "code",
   "execution_count": 4,
   "metadata": {},
   "outputs": [],
   "source": [
    "def get_n(ra,dec,NSIDE):\n",
    "    #Convert to ra/dec\n",
    "    theta, phi = radec_to_sph(ra,dec)\n",
    "    #set up the healpix grid.\n",
    "    n = hp.ang2pix(NSIDE, theta, phi)    \n",
    "    return n"
   ]
  },
  {
   "cell_type": "markdown",
   "metadata": {},
   "source": [
    "### Median F-test catalog density"
   ]
  },
  {
   "cell_type": "code",
   "execution_count": 5,
   "metadata": {},
   "outputs": [],
   "source": [
    "#First, let's get the median density of the F-test selected sources. \n",
    "Fcat = Table.read(\"../v1.1/Master_Catalog_F_test_AGN.fits\")\n",
    "Fcat2 = Table.read(\"../v1.1_complementary/Master_Catalog_F_test_AGN.complementary.fits\")"
   ]
  },
  {
   "cell_type": "code",
   "execution_count": 6,
   "metadata": {},
   "outputs": [],
   "source": [
    "#Get the healpix pixel numbers.\n",
    "n_Fcat  = get_n(Fcat['ra'] , Fcat['dec'] , NSIDE)\n",
    "n_Fcat2 = get_n(Fcat2['ra'], Fcat2['dec'], NSIDE)\n",
    "n_Ftot = np.concatenate([n_Fcat, n_Fcat2])"
   ]
  },
  {
   "cell_type": "code",
   "execution_count": 7,
   "metadata": {},
   "outputs": [],
   "source": [
    "#Get the median field density\n",
    "h_Ftot = np.histogram(n_Ftot,hp.nside2npix(NSIDE), range=(0,hp.nside2npix(NSIDE)-1))[0]\n",
    "median_F_number = np.median(h_Ftot[h_Ftot>0])\n",
    "median_F_density = median_F_number/area_per_pixel"
   ]
  },
  {
   "cell_type": "code",
   "execution_count": 8,
   "metadata": {},
   "outputs": [
    {
     "name": "stdout",
     "output_type": "stream",
     "text": [
      "The median density of F-test sources is 97.7 per sq. deg.\n",
      "In regions that are not gaps or deeper fields, there are a total of 1422505 sources\n"
     ]
    }
   ],
   "source": [
    "print(\"The median density of F-test sources is {:.1f} per sq. deg.\".format(median_F_density))\n",
    "print(\"In regions that are not gaps or deeper fields, there are a total of {} sources\".format(np.sum(h_Ftot[(h_Ftot>0.2*median_F_number) & (h_Ftot<3*median_F_number)])))"
   ]
  },
  {
   "cell_type": "code",
   "execution_count": 9,
   "metadata": {},
   "outputs": [],
   "source": [
    "#Now, we need to define a gap density and an overdense field density to make the final catalog. To define the gap regions, we need to get the BIC densities. \n",
    "BIC_cat = Table.read(\"../v1.1/Master_Catalog_BIC_AGN_nb_le_6.fits\")\n",
    "BIC_cat2 = Table.read(\"../v1.1_complementary/Master_Catalog_BIC_AGN_nb_le_6.complementary.fits\")"
   ]
  },
  {
   "cell_type": "code",
   "execution_count": 10,
   "metadata": {},
   "outputs": [],
   "source": [
    "n_BIC_cat  = get_n(BIC_cat['ra'] , BIC_cat['dec'] , NSIDE)\n",
    "n_BIC_cat2 = get_n(BIC_cat2['ra'], BIC_cat2['dec'], NSIDE)\n",
    "n_BIC = np.concatenate([n_BIC_cat, n_BIC_cat2])"
   ]
  },
  {
   "cell_type": "code",
   "execution_count": 11,
   "metadata": {},
   "outputs": [],
   "source": [
    "h_BIC = np.histogram(n_BIC,hp.nside2npix(NSIDE), range=(0,hp.nside2npix(NSIDE)-1))[0]"
   ]
  },
  {
   "cell_type": "markdown",
   "metadata": {},
   "source": [
    "### Estimate the number of sources"
   ]
  },
  {
   "cell_type": "code",
   "execution_count": 12,
   "metadata": {},
   "outputs": [
    {
     "name": "stdout",
     "output_type": "stream",
     "text": [
      "1237790.0 240752.0 277324.0 1755866.0\n"
     ]
    }
   ],
   "source": [
    "#Define the main survey, gaps and high density regions. \n",
    "main_survey_condition = (h_Ftot>=0.2*median_F_number) & (h_Ftot<=3*median_F_number)\n",
    "gap_condition = (h_BIC>0) & (h_Ftot<0.2*median_F_number)\n",
    "high_density_condition = h_Ftot>3*median_F_number\n",
    "\n",
    "#Now, get the total number of sources that the final catalog will have if we keep the median number in all the cells of the main F-test survey region, half of that in the gaps and twice that in the high density regions. \n",
    "N_FR = len(h_Ftot[main_survey_condition])*median_F_number\n",
    "N_GR = len(h_Ftot[gap_condition])*median_F_number*0.5\n",
    "N_HR = len(h_Ftot[high_density_condition])*median_F_number*2\n",
    "print(N_FR, N_GR, N_HR, N_FR+N_GR+N_HR)"
   ]
  },
  {
   "cell_type": "markdown",
   "metadata": {},
   "source": [
    "### Select the sources"
   ]
  },
  {
   "cell_type": "code",
   "execution_count": 13,
   "metadata": {},
   "outputs": [],
   "source": [
    "#This is the histogram that will hold for each healpix pixel the number of sources in the final catalog. \n",
    "h_final = np.zeros(len(h_Ftot))"
   ]
  },
  {
   "cell_type": "code",
   "execution_count": 14,
   "metadata": {},
   "outputs": [],
   "source": [
    "#We will create an extra column for each table where we will make notice of whether a given source makes it or not in the final table. \n",
    "Fcat['Final_cat']     = np.zeros(len(Fcat['ra']), dtype=np.int32)\n",
    "Fcat2['Final_cat']    = np.zeros(len(Fcat2['ra']), dtype=np.int32)\n",
    "BIC_cat['Final_cat']  = np.zeros(len(BIC_cat['ra']), dtype=np.int32)\n",
    "BIC_cat2['Final_cat'] = np.zeros(len(BIC_cat2['ra']), dtype=np.int32)"
   ]
  },
  {
   "cell_type": "code",
   "execution_count": 16,
   "metadata": {},
   "outputs": [],
   "source": [
    "for n in range(npix):\n",
    "\n",
    "    #If there are no sources, skip to the next step. \n",
    "    if h_BIC[n]==0:\n",
    "        continue\n",
    "\n",
    "    #Set the target number of sources. \n",
    "    targ_num = median_F_number\n",
    "    if gap_condition[n]:\n",
    "        targ_num = 0.5*median_F_number\n",
    "    elif high_density_condition[n]:\n",
    "        targ_num = 2.0*median_F_number\n",
    "    targ_num = np.int32(targ_num)\n",
    "\n",
    "    #Make slice conditions. \n",
    "    cond_F1 = n_Fcat==n\n",
    "    cond_F2 = n_Fcat2==n\n",
    "    cond_B1 = n_BIC_cat==n\n",
    "    cond_B2 = n_BIC_cat2==n\n",
    "\n",
    "    #Get the number of F-test sources and BIC sources in each pixel. \n",
    "    F_num = len(Fcat['ra'][cond_F1]) + len(Fcat2['ra'][cond_F2])\n",
    "    B_num = len(BIC_cat['ra'][cond_B1]) + len(BIC_cat2['ra'][cond_B2])\n",
    "\n",
    "    #If we have enough F-test sources, just use those and keep only the ones with the lowest probability. \n",
    "    if F_num>=targ_num:\n",
    "        Fp_lim = np.sort(np.concatenate([Fcat['Fp'][cond_F1], Fcat2['Fp'][cond_F2]]))[targ_num-1]\n",
    "        Fcat['Final_cat'][(cond_F1) & (Fcat['Fp']<=Fp_lim)] = 1\n",
    "        Fcat2['Final_cat'][(cond_F2) & (Fcat2['Fp']<=Fp_lim)] = 1\n",
    "\n",
    "    #If we have enough sources between BIC and F-test, then use all the F-test sources and the best BIC sources. \n",
    "    elif F_num + B_num > targ_num:\n",
    "        Fcat['Final_cat'][cond_F1] = 1\n",
    "        Fcat2['Final_cat'][cond_F2] = 1\n",
    "        aux = np.sort(np.concatenate([BIC_cat['BIC'][cond_B1], BIC_cat2['BIC'][cond_B2]]))[::-1]\n",
    "        BIC_lim = aux[targ_num-F_num]\n",
    "        BIC_cat['Final_cat'][(cond_B1) & (BIC_cat['BIC']>=BIC_lim)] = 1\n",
    "        BIC_cat2['Final_cat'][(cond_B2) & (BIC_cat2['BIC']>=BIC_lim)] = 1\n",
    "\n",
    "    #Finally, if not enough between the two of them, just use all sources. \n",
    "    else:\n",
    "        Fcat['Final_cat'][cond_F1] = 1\n",
    "        Fcat2['Final_cat'][cond_F2] = 1\n",
    "        BIC_cat['Final_cat'][cond_B1] = 1\n",
    "        BIC_cat2['Final_cat'][cond_B2] = 1"
   ]
  },
  {
   "cell_type": "code",
   "execution_count": null,
   "metadata": {},
   "outputs": [],
   "source": [
    "#Save the catalogs.\n",
    "Fcat_save = Fcat[Fcat['Final_cat']==1]\n",
    "Fcat_save.write(\"Master_Catalog_F_test_AGN.fits\")\n",
    "\n",
    "Fcat2_save = Fcat2[Fcat2['Final_cat']==1]\n",
    "Fcat2_save.write(\"Master_Catalog_F_test_AGN.complementary.fits\")\n",
    "\n",
    "BIC_cat_save = BIC_cat[BIC_cat['Final_cat']==1]\n",
    "BIC_cat_save.write(\"Master_Catalog_BIC_AGN_nb_le_6.fits\")\n",
    "\n",
    "BIC_cat2_save = BIC_cat2[BIC_cat2['Final_cat']==1]\n",
    "BIC_cat2_save.write(\"Master_Catalog_BIC_AGN_nb_le_6.complementary.fits\")"
   ]
  }
 ],
 "metadata": {
  "kernelspec": {
   "display_name": "astroconda",
   "language": "python",
   "name": "python3"
  },
  "language_info": {
   "codemirror_mode": {
    "name": "ipython",
    "version": 3
   },
   "file_extension": ".py",
   "mimetype": "text/x-python",
   "name": "python",
   "nbconvert_exporter": "python",
   "pygments_lexer": "ipython3",
   "version": "3.7.11"
  }
 },
 "nbformat": 4,
 "nbformat_minor": 2
}
