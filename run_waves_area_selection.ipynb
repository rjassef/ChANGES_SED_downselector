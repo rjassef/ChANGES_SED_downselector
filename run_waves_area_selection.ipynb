{
 "cells": [
  {
   "cell_type": "code",
   "execution_count": 1,
   "metadata": {},
   "outputs": [],
   "source": [
    "from downselector import downselect\n",
    "from astropy.table import Table\n",
    "from healpyHelper import HealpyHelper"
   ]
  },
  {
   "cell_type": "markdown",
   "metadata": {},
   "source": [
    "## WAVES Region Selection \n",
    "\n",
    "This selection is for the Science Verification. We are looking to get all the sources we have with an indication of AGN from either the F-test or the BIC. We do not have limits on the target density and just needs sources with r brighter than 22.5 mag. "
   ]
  },
  {
   "cell_type": "markdown",
   "metadata": {},
   "source": [
    "From Franz: The areas are\n",
    "\n",
    "WAVE2a_vertices=[[330,-35.9],[360,-35.9],[360,-27],[330,-27]]\n",
    "WAVE2b_vertices=[[0,-35.9],[51.5,-35.9],[51.5,-27],[0,-27]]\n"
   ]
  },
  {
   "cell_type": "code",
   "execution_count": 2,
   "metadata": {},
   "outputs": [],
   "source": [
    "#WAVE2a \n",
    "ra_min_2a = 330.\n",
    "ra_max_2a = 360.\n",
    "dec_min_2a = -35.9\n",
    "dec_max_2a = -27.0\n",
    "#WAVE2b\n",
    "ra_min_2b =  0.\n",
    "ra_max_2b = 51.5\n",
    "dec_min_2b = -35.9\n",
    "dec_max_2b = -27.0\n",
    "area_coords = [\n",
    "    [[ra_min_2a, ra_max_2a],[dec_min_2a, dec_max_2a]],\n",
    "    [[ra_min_2b, ra_max_2b],[dec_min_2b, dec_max_2b]]\n",
    "]"
   ]
  },
  {
   "cell_type": "code",
   "execution_count": 5,
   "metadata": {},
   "outputs": [
    {
     "name": "stdout",
     "output_type": "stream",
     "text": [
      "The target density of sources is 100000.0 per sq. deg.\n"
     ]
    },
    {
     "name": "stderr",
     "output_type": "stream",
     "text": [
      "WARNING: MergeConflictWarning: Cannot merge meta key 'DATE-HDU' types <class 'str'> and <class 'str'>, choosing DATE-HDU='2024-01-16T13:59:04' [astropy.utils.metadata]\n"
     ]
    }
   ],
   "source": [
    "downselect(\"WAVES_Region_AGN_Catalog.v1.1.fits\",star_rejection=True, area_coords=area_coords, rlim=22.5, target_density=100000)"
   ]
  },
  {
   "cell_type": "code",
   "execution_count": null,
   "metadata": {},
   "outputs": [],
   "source": [
    "516350"
   ]
  },
  {
   "cell_type": "code",
   "execution_count": 10,
   "metadata": {},
   "outputs": [],
   "source": [
    "import numpy as np\n",
    "import astropy.units as u"
   ]
  },
  {
   "cell_type": "code",
   "execution_count": 11,
   "metadata": {},
   "outputs": [
    {
     "name": "stdout",
     "output_type": "stream",
     "text": [
      "378.07410936816433 deg2\n"
     ]
    }
   ],
   "source": [
    "area_size = 0.\n",
    "for area_coord in area_coords:\n",
    "    phi1 = area_coord[0][0]*np.pi/180.\n",
    "    phi2 = area_coord[0][1]*np.pi/180.\n",
    "    theta1 = area_coord[1][0]*np.pi/180.\n",
    "    theta2 = area_coord[1][1]*np.pi/180.\n",
    "    area_size += (phi2-phi1) * (np.cos(theta2)-np.cos(theta1))\n",
    "print((area_size*u.sr).to(u.deg**2))"
   ]
  },
  {
   "cell_type": "code",
   "execution_count": 12,
   "metadata": {},
   "outputs": [
    {
     "data": {
      "text/latex": [
       "$1370.8238 \\; \\mathrm{\\frac{1}{deg^{2}}}$"
      ],
      "text/plain": [
       "<Quantity 1370.82383363 1 / deg2>"
      ]
     },
     "execution_count": 12,
     "metadata": {},
     "output_type": "execute_result"
    }
   ],
   "source": [
    "518273/(area_size*u.sr).to(u.deg**2)"
   ]
  }
 ],
 "metadata": {
  "kernelspec": {
   "display_name": "Python 3.7.13 ('astroconda')",
   "language": "python",
   "name": "python3"
  },
  "language_info": {
   "codemirror_mode": {
    "name": "ipython",
    "version": 3
   },
   "file_extension": ".py",
   "mimetype": "text/x-python",
   "name": "python",
   "nbconvert_exporter": "python",
   "pygments_lexer": "ipython3",
   "version": "3.7.13"
  },
  "orig_nbformat": 4,
  "vscode": {
   "interpreter": {
    "hash": "c5c9947dd6d2cb9490e7e806b2d061ec75718173152766211840ea45568b19c1"
   }
  }
 },
 "nbformat": 4,
 "nbformat_minor": 2
}
