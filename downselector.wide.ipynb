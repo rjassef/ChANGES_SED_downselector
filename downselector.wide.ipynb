{
 "cells": [
  {
   "cell_type": "code",
   "execution_count": 1,
   "metadata": {},
   "outputs": [],
   "source": [
    "import numpy as np\n",
    "import healpy as hp\n",
    "from astropy.table import Table, vstack\n",
    "from filter_stars import remove_stars"
   ]
  },
  {
   "cell_type": "markdown",
   "metadata": {},
   "source": [
    "# ChANGES SED Downselector\n",
    "\n",
    "This code does the same as [downselector.victoria.ipynb](downselector.victoria.ipynb) but limited to r=21.5 so as to create the wide survey."
   ]
  },
  {
   "cell_type": "markdown",
   "metadata": {},
   "source": [
    "### Helpix parameters and useful functions"
   ]
  },
  {
   "cell_type": "code",
   "execution_count": 2,
   "metadata": {},
   "outputs": [],
   "source": [
    "#First we defined the basic healpix parameters we will use. \n",
    "NSIDE = 64\n",
    "npix = hp.nside2npix(NSIDE)\n",
    "total_degrees_in_sky = 4.*np.pi*(180./np.pi)**2\n",
    "area_per_pixel = total_degrees_in_sky/(1.*npix)"
   ]
  },
  {
   "cell_type": "code",
   "execution_count": 3,
   "metadata": {},
   "outputs": [],
   "source": [
    "def radec_to_sph(ra,dc):\n",
    "    \n",
    "    theta = (90.-dc)*np.pi/180.\n",
    "    phi   = ra*np.pi/180.\n",
    "    return theta, phi"
   ]
  },
  {
   "cell_type": "code",
   "execution_count": 4,
   "metadata": {},
   "outputs": [],
   "source": [
    "def get_n(ra,dec,NSIDE):\n",
    "    #Convert to ra/dec\n",
    "    theta, phi = radec_to_sph(ra,dec)\n",
    "    #set up the healpix grid.\n",
    "    n = hp.ang2pix(NSIDE, theta, phi)    \n",
    "    return n"
   ]
  },
  {
   "cell_type": "markdown",
   "metadata": {},
   "source": [
    "### Median F-test catalog density\n",
    "\n",
    "We need to first obtain the median F-test catalog density, as this sets the basis for constructing the final catalogs."
   ]
  },
  {
   "cell_type": "code",
   "execution_count": 5,
   "metadata": {},
   "outputs": [],
   "source": [
    "#Read the catalog. \n",
    "Fcat_full_unfiltered = Table.read(\"../Victoria_v1.1_SED_catalogs/Master_Catalog_F_test_AGN_full_photometry.fits\")"
   ]
  },
  {
   "cell_type": "code",
   "execution_count": null,
   "metadata": {},
   "outputs": [],
   "source": [
    "#Filter out the remaning stars as best as we can. \n",
    "#Fcat_full = remove_stars(Fcat_full_unfiltered)\n",
    "Fcat_full = Fcat_full_unfiltered"
   ]
  },
  {
   "cell_type": "code",
   "execution_count": 6,
   "metadata": {},
   "outputs": [],
   "source": [
    "#Now, cut the catalog to r<21.5\n",
    "cond = Fcat_full['mag_auto_r']<21.5\n",
    "Fcat = Fcat_full[cond]"
   ]
  },
  {
   "cell_type": "code",
   "execution_count": 7,
   "metadata": {},
   "outputs": [],
   "source": [
    "#Get the healpix pixel numbers.\n",
    "n_Fcat = get_n(Fcat['ra'] , Fcat['dec'] , NSIDE)\n",
    "n_Ftot = n_Fcat"
   ]
  },
  {
   "cell_type": "code",
   "execution_count": 8,
   "metadata": {},
   "outputs": [],
   "source": [
    "#Get the median field density\n",
    "h_Ftot = np.histogram(n_Ftot,hp.nside2npix(NSIDE), range=(0,hp.nside2npix(NSIDE)-1))[0]\n",
    "median_F_number = np.median(h_Ftot[h_Ftot>0])\n",
    "median_F_density = median_F_number/area_per_pixel"
   ]
  },
  {
   "cell_type": "code",
   "execution_count": 9,
   "metadata": {},
   "outputs": [
    {
     "name": "stdout",
     "output_type": "stream",
     "text": [
      "The median density of F-test sources is 79.8 per sq. deg.\n",
      "In regions that are not gaps or deeper fields, there are a total of 1195359 sources\n"
     ]
    }
   ],
   "source": [
    "print(\"The median density of F-test sources is {:.1f} per sq. deg.\".format(median_F_density))\n",
    "print(\"In regions that are not gaps or deeper fields, there are a total of {} sources\".format(np.sum(h_Ftot[(h_Ftot>0.2*median_F_number) & (h_Ftot<3*median_F_number)])))"
   ]
  },
  {
   "cell_type": "code",
   "execution_count": 10,
   "metadata": {},
   "outputs": [],
   "source": [
    "#Now, we need to define a gap density and an overdense field density to make the final catalog. To define the gap regions, we need to get the BIC densities. \n",
    "BIC_cat_full_unfiltered = Table.read(\"../Victoria_v1.1_SED_catalogs/Master_Catalog_BIC_AGN_nb_le_6_full_photometry.fits\")"
   ]
  },
  {
   "cell_type": "code",
   "execution_count": null,
   "metadata": {},
   "outputs": [],
   "source": [
    "#Remove the stars. \n",
    "#BIC_cat_full = remove_stars(BIC_cat_full_unfiltered)\n",
    "BIC_cat_full = BIC_cat_full_unfiltered"
   ]
  },
  {
   "cell_type": "code",
   "execution_count": null,
   "metadata": {},
   "outputs": [],
   "source": [
    "#Now, cut the catalog to r<21.5\n",
    "cond = BIC_cat_full['mag_auto_r']<21.5\n",
    "BIC_cat = BIC_cat_full[cond]"
   ]
  },
  {
   "cell_type": "code",
   "execution_count": 11,
   "metadata": {},
   "outputs": [],
   "source": [
    "#Get the healpix numbers\n",
    "n_BIC_cat  = get_n(BIC_cat['ra'] , BIC_cat['dec'] , NSIDE)\n",
    "n_BIC = n_BIC_cat"
   ]
  },
  {
   "cell_type": "code",
   "execution_count": 12,
   "metadata": {},
   "outputs": [],
   "source": [
    "#Add up the number of sources per healpix pixel. \n",
    "h_BIC = np.histogram(n_BIC,hp.nside2npix(NSIDE), range=(0,hp.nside2npix(NSIDE)-1))[0]"
   ]
  },
  {
   "cell_type": "markdown",
   "metadata": {},
   "source": [
    "### Estimate the total number of sources"
   ]
  },
  {
   "cell_type": "code",
   "execution_count": 13,
   "metadata": {},
   "outputs": [],
   "source": [
    "#Define the main survey and the gaps. Deeper fields will just have the same source density as the rest of the wide field. \n",
    "main_survey_condition = (h_Ftot>=0.2*median_F_number)\n",
    "gap_condition = (h_BIC>0) & (h_Ftot<0.2*median_F_number)"
   ]
  },
  {
   "cell_type": "code",
   "execution_count": 14,
   "metadata": {},
   "outputs": [
    {
     "name": "stdout",
     "output_type": "stream",
     "text": [
      "1077226.0 220430.0 1297656.0\n"
     ]
    }
   ],
   "source": [
    "#Now, get the total number of sources that the final catalog will have if we keep the median number in all the cells of the main F-test survey region and half of that in the gaps. \n",
    "N_FR = len(h_Ftot[main_survey_condition])*median_F_number\n",
    "N_GR = len(h_Ftot[gap_condition])*median_F_number*0.5\n",
    "print(N_FR, N_GR, N_FR+N_GR)"
   ]
  },
  {
   "cell_type": "markdown",
   "metadata": {},
   "source": [
    "### Select the sources"
   ]
  },
  {
   "cell_type": "code",
   "execution_count": 15,
   "metadata": {},
   "outputs": [],
   "source": [
    "#This is the histogram that will hold for each healpix pixel the number of sources in the final catalog. \n",
    "h_final = np.zeros(len(h_Ftot))"
   ]
  },
  {
   "cell_type": "code",
   "execution_count": 16,
   "metadata": {},
   "outputs": [],
   "source": [
    "#We will create an extra column for each table where we will make notice of whether a given source makes it or not in the final table. \n",
    "Fcat['Final_cat']     = np.zeros(len(Fcat['ra']), dtype=np.int32)\n",
    "BIC_cat['Final_cat']  = np.zeros(len(BIC_cat['ra']), dtype=np.int32)"
   ]
  },
  {
   "cell_type": "code",
   "execution_count": 17,
   "metadata": {},
   "outputs": [],
   "source": [
    "#This is the main loop to select the sources.\n",
    "for n in range(npix):\n",
    "\n",
    "    #If there are no sources, skip to the next step. \n",
    "    if h_BIC[n]==0:\n",
    "        continue\n",
    "\n",
    "    #Set the target number of sources. \n",
    "    targ_num = median_F_number\n",
    "    if gap_condition[n]:\n",
    "        targ_num = 0.5*median_F_number\n",
    "    targ_num = np.int32(targ_num)\n",
    "\n",
    "    #Make slice conditions. \n",
    "    cond_F1 = n_Fcat==n\n",
    "    cond_B1 = n_BIC_cat==n\n",
    "\n",
    "    #Get the number of F-test sources and BIC sources in each pixel. \n",
    "    F_num = len(Fcat['ra'][cond_F1])\n",
    "    B_num = len(BIC_cat['ra'][cond_B1])\n",
    "\n",
    "    #If we have enough F-test sources, just use those and keep only the ones with the lowest probability. \n",
    "    if F_num>=targ_num:\n",
    "        Fp_lim = np.sort(Fcat['Fp'][cond_F1])[targ_num-1]\n",
    "        Fcat['Final_cat'][(cond_F1) & (Fcat['Fp']<=Fp_lim)] = 1\n",
    "\n",
    "    #If we have enough sources between BIC and F-test, then use all the F-test sources and the best BIC sources. \n",
    "    elif F_num + B_num > targ_num:\n",
    "        Fcat['Final_cat'][cond_F1] = 1\n",
    "        aux = np.sort(BIC_cat['BIC'][cond_B1])[::-1]\n",
    "        BIC_lim = aux[targ_num-F_num]\n",
    "        BIC_cat['Final_cat'][(cond_B1) & (BIC_cat['BIC']>=BIC_lim)] = 1\n",
    "\n",
    "    #Finally, if not enough between the two of them, just use all sources. \n",
    "    else:\n",
    "        Fcat['Final_cat'][cond_F1] = 1\n",
    "        BIC_cat['Final_cat'][cond_B1] = 1"
   ]
  },
  {
   "cell_type": "code",
   "execution_count": 18,
   "metadata": {},
   "outputs": [],
   "source": [
    "#Save the catalogs.\n",
    "Fcat_save = Fcat[Fcat['Final_cat']==1]\n",
    "Fcat_save.write(\"Master_Catalog_F_test_AGN_full_photometry.downselected.wide.fits\")\n",
    "\n",
    "BIC_cat_save = BIC_cat[BIC_cat['Final_cat']==1]\n",
    "BIC_cat_save.write(\"Master_Catalog_BIC_AGN_nb_le_6_full_photometry.downselected.wide.fits\")"
   ]
  },
  {
   "cell_type": "code",
   "execution_count": 19,
   "metadata": {},
   "outputs": [
    {
     "name": "stderr",
     "output_type": "stream",
     "text": [
      "WARNING: MergeConflictWarning: Cannot merge meta key 'DATE-HDU' types <class 'str'> and <class 'str'>, choosing DATE-HDU='2024-01-16T13:59:04' [astropy.utils.metadata]\n"
     ]
    }
   ],
   "source": [
    "#Create a combined downselected table. \n",
    "Combined_table = vstack([Fcat_save, BIC_cat_save])\n",
    "\n",
    "#Remove the final cat column. \n",
    "Combined_table.remove_column('Final_cat')\n",
    "\n",
    "#Add a column with how the source was selected.\n",
    "Combined_table['Selection'] = [\"F\"]*len(Fcat_save['ra']) + [\"BIC\"]*len(BIC_cat_save)\n",
    "\n",
    "#Save the sources.\n",
    "Combined_table.write(\"Master_Catalog_full_photometry.downselected.wide.v1.1.fits\")"
   ]
  }
 ],
 "metadata": {
  "kernelspec": {
   "display_name": "Python 3 (ipykernel)",
   "language": "python",
   "name": "python3"
  },
  "language_info": {
   "codemirror_mode": {
    "name": "ipython",
    "version": 3
   },
   "file_extension": ".py",
   "mimetype": "text/x-python",
   "name": "python",
   "nbconvert_exporter": "python",
   "pygments_lexer": "ipython3",
   "version": "3.11.3"
  },
  "vscode": {
   "interpreter": {
    "hash": "c5c9947dd6d2cb9490e7e806b2d061ec75718173152766211840ea45568b19c1"
   }
  }
 },
 "nbformat": 4,
 "nbformat_minor": 2
}
