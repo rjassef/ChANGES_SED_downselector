{
 "cells": [
  {
   "cell_type": "code",
   "execution_count": 1,
   "metadata": {},
   "outputs": [],
   "source": [
    "import numpy as np\n",
    "import matplotlib.pyplot as plt\n",
    "from astropy.table import Table\n",
    "from SED_Model import lrt_model"
   ]
  },
  {
   "cell_type": "code",
   "execution_count": 2,
   "metadata": {},
   "outputs": [],
   "source": [
    "#Set the redshift range for the color tracks.\n",
    "zs = np.arange(0.01, 6.0, 0.01)"
   ]
  },
  {
   "cell_type": "code",
   "execution_count": 3,
   "metadata": {},
   "outputs": [],
   "source": [
    "\n",
    "colors = Table()\n",
    "colors['Redshift'] = zs\n",
    "colors['g-i'] = 0.\n",
    "colors['r-i'] = 0.\n",
    "colors['r-z'] = 0.\n",
    "colors['z-w1'] = 0.\n",
    "colors['r-w1'] = 0.\n",
    "colors['w1-w2'] = 0."
   ]
  },
  {
   "cell_type": "code",
   "execution_count": 4,
   "metadata": {},
   "outputs": [],
   "source": [
    "#Load the zero points for each filer. \n",
    "jyzero = np.loadtxt(\"bandmag.dat\", usecols=[2])"
   ]
  },
  {
   "cell_type": "code",
   "execution_count": 5,
   "metadata": {},
   "outputs": [],
   "source": [
    "#This dictionary holds the order of the filters in the bandmag.dat file. \n",
    "jj = {\n",
    "    \"g\":0,\n",
    "    \"r\":1,\n",
    "    \"i\":2,\n",
    "    \"z\":3,\n",
    "    \"w1\":4,\n",
    "    \"w2\":5,\n",
    "}"
   ]
  },
  {
   "cell_type": "code",
   "execution_count": 6,
   "metadata": {},
   "outputs": [],
   "source": [
    "#List of the filter names.\n",
    "filts = list(jj.keys())"
   ]
  },
  {
   "cell_type": "code",
   "execution_count": 7,
   "metadata": {},
   "outputs": [],
   "source": [
    "#Create the table where we will save the color tracks. \n",
    "colors=Table()\n",
    "colors['Redshift'] = zs\n",
    "for j,filt1 in enumerate(filts):\n",
    "    for filt2 in filts[j+1:]:\n",
    "        colors['{}-{}'.format(filt1,filt2)] = 0."
   ]
  },
  {
   "cell_type": "code",
   "execution_count": 8,
   "metadata": {},
   "outputs": [],
   "source": [
    "#Calculate the color tracks.\n",
    "for k, z in enumerate(zs):\n",
    "    gal = lrt_model()\n",
    "    gal.zspec = z\n",
    "    gal.comp  = np.zeros(4)\n",
    "    gal.comp[0] = 1.0\n",
    "    gal.ebv = 0\n",
    "    gal.igm = 1.0\n",
    "    gal.get_model_fluxes()\n",
    "\n",
    "    mag = -2.5*np.log10(gal.jymod/jyzero)\n",
    "    for j,filt1 in enumerate(filts):\n",
    "        for filt2 in filts[j+1:]:\n",
    "            colors['{}-{}'.format(filt1,filt2)][k] = mag[jj[filt1]]-mag[jj[filt2]]"
   ]
  },
  {
   "cell_type": "code",
   "execution_count": 9,
   "metadata": {},
   "outputs": [],
   "source": [
    "#Save the color tracks.\n",
    "colors.write(\"quasar_tracks.fits\", overwrite=True)"
   ]
  }
 ],
 "metadata": {
  "kernelspec": {
   "display_name": "stenv",
   "language": "python",
   "name": "python3"
  },
  "language_info": {
   "codemirror_mode": {
    "name": "ipython",
    "version": 3
   },
   "file_extension": ".py",
   "mimetype": "text/x-python",
   "name": "python",
   "nbconvert_exporter": "python",
   "pygments_lexer": "ipython3",
   "version": "3.11.3"
  }
 },
 "nbformat": 4,
 "nbformat_minor": 2
}
