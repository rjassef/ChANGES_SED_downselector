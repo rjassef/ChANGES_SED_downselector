{
 "cells": [
  {
   "cell_type": "code",
   "execution_count": 1,
   "id": "20e70e61-dfde-4c03-9933-ed21211c124c",
   "metadata": {
    "tags": []
   },
   "outputs": [],
   "source": [
    "import numpy as np\n",
    "import matplotlib.pyplot as plt\n",
    "from astropy.table import Table\n",
    "import healpy as hp"
   ]
  },
  {
   "cell_type": "code",
   "execution_count": 2,
   "id": "a53fe0a6-8a02-4db3-9652-2e88a13cac7d",
   "metadata": {
    "tags": []
   },
   "outputs": [],
   "source": [
    "def radec_to_sph(ra,dc):\n",
    "    \n",
    "    theta = (90.-dc)*np.pi/180.\n",
    "    phi   = ra*np.pi/180.\n",
    "    return theta, phi"
   ]
  },
  {
   "cell_type": "code",
   "execution_count": 3,
   "id": "d20edc92-a198-4119-84d1-cee686347ade",
   "metadata": {
    "tags": []
   },
   "outputs": [],
   "source": [
    "Fcat = Table.read(\"../Victoria_v1.1_SED_catalogs/Master_Catalog_F_test_AGN_full_photometry.fits\")"
   ]
  },
  {
   "cell_type": "code",
   "execution_count": 11,
   "id": "f55aa604-c28b-4561-bbdc-94d2f1aa0cf4",
   "metadata": {
    "tags": []
   },
   "outputs": [],
   "source": [
    "#Convert to ra/dec\n",
    "theta, phi = radec_to_sph(Fcat['ra'],Fcat['dec'])\n",
    "\n",
    "#set up the healpix grid.\n",
    "NSIDE=64\n",
    "npix = hp.nside2npix(NSIDE)\n",
    "total_degrees_in_sky = 4.*np.pi*(180./np.pi)**2\n",
    "area_per_pixel = total_degrees_in_sky/(1.*npix)\n",
    "n = hp.ang2pix(NSIDE, theta, phi)\n",
    "\n",
    "#Load up the healpix array and display it. \n",
    "h = np.histogram(n,hp.nside2npix(NSIDE),\n",
    "                 range=(0,hp.nside2npix(NSIDE)-1))[0]\n",
    "h = h.astype(np.float64)"
   ]
  },
  {
   "cell_type": "code",
   "execution_count": 21,
   "id": "48d0b89c-fa73-4a75-b751-5f44a0b5b87a",
   "metadata": {
    "tags": []
   },
   "outputs": [
    {
     "name": "stdout",
     "output_type": "stream",
     "text": [
      "82.0\n"
     ]
    },
    {
     "data": {
      "image/png": "[encoded data removed]",
      "text/plain": [
       "<Figure size 432x288 with 1 Axes>"
      ]
     },
     "metadata": {
      "needs_background": "light"
     },
     "output_type": "display_data"
    }
   ],
   "source": [
    "h_norm = h/np.median(h[h>0])\n",
    "print(np.median(h[h>0]))\n",
    "plt.hist(h_norm[h>0], bins=200, histtype='step')\n",
    "plt.xlim([0,2])\n",
    "plt.ylim(plt.ylim())\n",
    "plt.plot([0.2, 0.2], plt.ylim(),'k--')\n",
    "plt.show()"
   ]
  },
  {
   "cell_type": "code",
   "execution_count": null,
   "id": "5155c292-0905-492a-9bc1-a2d060e46ab1",
   "metadata": {},
   "outputs": [],
   "source": []
  }
 ],
 "metadata": {
  "kernelspec": {
   "display_name": "Python 3 (ipykernel)",
   "language": "python",
   "name": "python3"
  },
  "language_info": {
   "codemirror_mode": {
    "name": "ipython",
    "version": 3
   },
   "file_extension": ".py",
   "mimetype": "text/x-python",
   "name": "python",
   "nbconvert_exporter": "python",
   "pygments_lexer": "ipython3",
   "version": "3.7.13"
  }
 },
 "nbformat": 4,
 "nbformat_minor": 5
}
