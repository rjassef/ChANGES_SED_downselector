{
 "cells": [
  {
   "cell_type": "code",
   "execution_count": 1,
   "metadata": {},
   "outputs": [],
   "source": [
    "import numpy as np\n",
    "import healpy as hp\n",
    "from astropy.table import Table"
   ]
  },
  {
   "cell_type": "code",
   "execution_count": 2,
   "metadata": {},
   "outputs": [],
   "source": [
    "NSIDE = 64\n",
    "npix = hp.nside2npix(NSIDE)\n",
    "total_degrees_in_sky = 4.*np.pi*(180./np.pi)**2\n",
    "area_per_pixel = total_degrees_in_sky/(1.*npix)"
   ]
  },
  {
   "cell_type": "code",
   "execution_count": 3,
   "metadata": {},
   "outputs": [],
   "source": [
    "def radec_to_sph(ra,dc):\n",
    "    \n",
    "    theta = (90.-dc)*np.pi/180.\n",
    "    phi   = ra*np.pi/180.\n",
    "    return theta, phi"
   ]
  },
  {
   "cell_type": "code",
   "execution_count": 4,
   "metadata": {},
   "outputs": [],
   "source": [
    "def get_n(ra,dec,NSIDE):\n",
    "    #Convert to ra/dec\n",
    "    theta, phi = radec_to_sph(ra,dec)\n",
    "    #set up the healpix grid.\n",
    "    n = hp.ang2pix(NSIDE, theta, phi)    \n",
    "    return n"
   ]
  },
  {
   "cell_type": "markdown",
   "metadata": {},
   "source": [
    "### Median F-test catalog density"
   ]
  },
  {
   "cell_type": "code",
   "execution_count": 5,
   "metadata": {},
   "outputs": [],
   "source": [
    "#First, let's get the median density of the F-test selected sources. \n",
    "Fcat = Table.read(\"../v1.1/Master_Catalog_F_test_AGN.fits\")\n",
    "Fcat2 = Table.read(\"../v1.1_complementary/Master_Catalog_F_test_AGN.complementary.fits\")"
   ]
  },
  {
   "cell_type": "code",
   "execution_count": 6,
   "metadata": {},
   "outputs": [],
   "source": [
    "#Join the coordinates of the two F-test catalogs.\n",
    "k1 = len(Fcat['ra'])\n",
    "k2 = len(Fcat2['ra'])\n",
    "ra = np.zeros(k1+k2)\n",
    "dec = np.zeros(k1+k2)\n",
    "ra[:k1] = Fcat['ra']\n",
    "ra[k1:] = Fcat2['ra']\n",
    "dec[:k1] = Fcat['dec']\n",
    "dec[k1:] = Fcat2['dec']"
   ]
  },
  {
   "cell_type": "code",
   "execution_count": 7,
   "metadata": {},
   "outputs": [],
   "source": [
    "#Get the median field density\n",
    "n_Ftot = get_n(ra, dec, NSIDE)\n",
    "h_Ftot = np.histogram(n_Ftot,hp.nside2npix(NSIDE), range=(0,hp.nside2npix(NSIDE)-1))[0]\n",
    "median_F_number = np.median(h_Ftot[h_Ftot>0])\n",
    "median_F_density = median_F_number/area_per_pixel"
   ]
  },
  {
   "cell_type": "code",
   "execution_count": 8,
   "metadata": {},
   "outputs": [
    {
     "name": "stdout",
     "output_type": "stream",
     "text": [
      "The median density of F-test sources is 97.7 per sq. deg.\n",
      "In regions that are not gaps or deeper fields, there are a total of 1422505 sources\n"
     ]
    }
   ],
   "source": [
    "print(\"The median density of F-test sources is {:.1f} per sq. deg.\".format(median_F_density))\n",
    "print(\"In regions that are not gaps or deeper fields, there are a total of {} sources\".format(np.sum(h_Ftot[(h_Ftot>0.2*median_F_number) & (h_Ftot<3*median_F_number)])))"
   ]
  },
  {
   "cell_type": "code",
   "execution_count": 9,
   "metadata": {},
   "outputs": [],
   "source": [
    "#Now, we need to define a gap density and an overdense field density to make the final catalog. To define the gap regions, we need to get the BIC densities. \n",
    "BIC_cat = Table.read(\"../v1.1/Master_Catalog_BIC_AGN_nb_le_6.fits\")\n",
    "BIC_cat2 = Table.read(\"../v1.1_complementary/Master_Catalog_BIC_AGN_nb_le_6.complementary.fits\")"
   ]
  },
  {
   "cell_type": "code",
   "execution_count": 10,
   "metadata": {},
   "outputs": [],
   "source": [
    "j1 = len(BIC_cat['ra'])\n",
    "j2 = len(BIC_cat2['ra'])\n",
    "ra_BIC = np.zeros(j1+j2)\n",
    "dec_BIC = np.zeros(j1+j2)\n",
    "ra_BIC[:j1] = BIC_cat['ra']\n",
    "ra_BIC[j1:] = BIC_cat2['ra']\n",
    "dec_BIC[:j1] = BIC_cat['dec']\n",
    "dec_BIC[j1:] = BIC_cat2['dec']"
   ]
  },
  {
   "cell_type": "code",
   "execution_count": 11,
   "metadata": {},
   "outputs": [],
   "source": [
    "n_BIC = get_n(ra_BIC, dec_BIC, NSIDE)\n",
    "h_BIC = np.histogram(n_BIC,hp.nside2npix(NSIDE), range=(0,hp.nside2npix(NSIDE)-1))[0]"
   ]
  },
  {
   "cell_type": "code",
   "execution_count": 12,
   "metadata": {},
   "outputs": [
    {
     "name": "stdout",
     "output_type": "stream",
     "text": [
      "1237790.0 240752.0 277324.0 1755866.0\n"
     ]
    }
   ],
   "source": [
    "#Define the main survey, gaps and high density regions. \n",
    "main_survey_condition = (h_Ftot>=0.2*median_F_number) & (h_Ftot<=3*median_F_number)\n",
    "gap_condition = (h_BIC>0) & (h_Ftot<0.2*median_F_number)\n",
    "high_density_condition = h_Ftot>3*median_F_number\n",
    "\n",
    "#Now, get the total number of sources that the final catalog will have if we keep the median number in all the cells of the main F-test survey region, half of that in the gaps and twice that in the high density regions. \n",
    "N_FR = len(h_Ftot[main_survey_condition])*median_F_number\n",
    "N_GR = len(h_Ftot[gap_condition])*median_F_number*0.5\n",
    "N_HR = len(h_Ftot[high_density_condition])*median_F_number*2\n",
    "print(N_FR, N_GR, N_HR, N_FR+N_GR+N_HR)"
   ]
  }
 ],
 "metadata": {
  "kernelspec": {
   "display_name": "astroconda",
   "language": "python",
   "name": "python3"
  },
  "language_info": {
   "codemirror_mode": {
    "name": "ipython",
    "version": 3
   },
   "file_extension": ".py",
   "mimetype": "text/x-python",
   "name": "python",
   "nbconvert_exporter": "python",
   "pygments_lexer": "ipython3",
   "version": "3.7.11"
  }
 },
 "nbformat": 4,
 "nbformat_minor": 2
}
